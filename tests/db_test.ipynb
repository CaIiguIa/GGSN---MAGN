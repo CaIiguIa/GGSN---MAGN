{
 "cells": [
  {
   "cell_type": "markdown",
   "source": [],
   "metadata": {
    "collapsed": false
   },
   "id": "57dbc53d5ec36ece"
  },
  {
   "cell_type": "code",
   "outputs": [],
   "source": [
    "from pathlib import Path\n",
    "from os import rename\n",
    "from os.path import exists\n",
    "from typing import Final\n",
    "from zipfile import ZipFile\n",
    "\n",
    "resources_dir: Final[Path] = Path('../resources/data/')\n",
    "zip_data_file: Final[Path] = resources_dir.joinpath('pitchfork-data.zip')\n",
    "database_dir: Final[Path]  = resources_dir.joinpath('nba.sqlite')\n",
    "\n",
    "if not exists(zip_data_file):\n",
    "    !kaggle datasets download -d wyattowalsh/basketball -p ../resources/data \n",
    "    \n",
    "if not exists(database_dir):\n",
    "    with ZipFile(zip_data_file, 'r') as zip_ref:\n",
    "        zip_ref.extractall(resources_dir)\n",
    "        rename(resources_dir.joinpath('database.sqlite'), database_dir)"
   ],
   "metadata": {
    "collapsed": false,
    "ExecuteTime": {
     "end_time": "2024-05-22T07:00:56.282318Z",
     "start_time": "2024-05-22T07:00:55.516282Z"
    }
   },
   "id": "bc8ddd1688700692",
   "execution_count": 3
  },
  {
   "cell_type": "code",
   "outputs": [],
   "source": [],
   "metadata": {
    "collapsed": false
   },
   "id": "3918f7cea8c1e227",
   "execution_count": null
  }
 ],
 "metadata": {
  "kernelspec": {
   "name": "gigsn",
   "language": "python",
   "display_name": "GiGSN"
  },
  "language_info": {
   "codemirror_mode": {
    "name": "ipython",
    "version": 2
   },
   "file_extension": ".py",
   "mimetype": "text/x-python",
   "name": "python",
   "nbconvert_exporter": "python",
   "pygments_lexer": "ipython2",
   "version": "2.7.6"
  }
 },
 "nbformat": 4,
 "nbformat_minor": 5
}
