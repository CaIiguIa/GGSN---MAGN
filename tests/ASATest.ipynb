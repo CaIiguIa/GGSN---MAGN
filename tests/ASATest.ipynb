{
 "cells": [
  {
   "cell_type": "code",
   "outputs": [
    {
     "name": "stdout",
     "output_type": "stream",
     "text": [
      "1 2 3 4 5 6 7 8 9 "
     ]
    }
   ],
   "source": [
    "from src.magn.asa.ASAElement import ASAElement\n",
    "from src.magn.asa.ASAGraph import ASAGraph\n",
    "\n",
    "\n",
    "graph = ASAGraph()\n",
    "graph.insert_bl(ASAElement(1))\n",
    "graph.insert_bl(ASAElement(2))\n",
    "graph.insert_bl(ASAElement(3))\n",
    "graph.insert_bl(ASAElement(5))\n",
    "graph.insert_bl(ASAElement(4))\n",
    "graph.insert_bl(ASAElement(6))\n",
    "graph.insert_bl(ASAElement(9))\n",
    "graph.insert_bl(ASAElement(8))\n",
    "graph.insert_bl(ASAElement(7))\n",
    "graph.print_bl()"
   ],
   "metadata": {
    "collapsed": false,
    "ExecuteTime": {
     "end_time": "2024-05-21T19:59:05.893486700Z",
     "start_time": "2024-05-21T19:59:05.864495900Z"
    }
   },
   "id": "74dd8baf353c567c",
   "execution_count": 1
  }
 ],
 "metadata": {
  "kernelspec": {
   "display_name": "Python 3",
   "language": "python",
   "name": "python3"
  },
  "language_info": {
   "codemirror_mode": {
    "name": "ipython",
    "version": 2
   },
   "file_extension": ".py",
   "mimetype": "text/x-python",
   "name": "python",
   "nbconvert_exporter": "python",
   "pygments_lexer": "ipython2",
   "version": "2.7.6"
  }
 },
 "nbformat": 4,
 "nbformat_minor": 5
}
