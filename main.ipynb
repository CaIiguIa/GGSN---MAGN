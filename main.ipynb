{
 "cells": [
  {
   "cell_type": "markdown",
   "source": [],
   "metadata": {
    "collapsed": false
   },
   "id": "8bc6cd56429ef4bd"
  },
  {
   "cell_type": "code",
   "execution_count": null,
   "id": "initial_id",
   "metadata": {
    "collapsed": true
   },
   "outputs": [],
   "source": [
    "%pip install .\n",
    "%pip install pandas\n",
    "%pip install numpy"
   ]
  },
  {
   "cell_type": "markdown",
   "source": [
    "Dane"
   ],
   "metadata": {
    "collapsed": false
   },
   "id": "1f6bb8bde81e4a6f"
  },
  {
   "cell_type": "code",
   "outputs": [],
   "source": [],
   "metadata": {
    "collapsed": false
   },
   "id": "d1c9901fc12cce66"
  },
  {
   "cell_type": "code",
   "outputs": [],
   "source": [
    "from magn.database.converters.sqlite3 import SQLite3Converter"
   ],
   "metadata": {
    "collapsed": false
   },
   "id": "b5037ac456e301b2"
  }
 ],
 "metadata": {
  "kernelspec": {
   "name": "gigsn",
   "language": "python",
   "display_name": "GiGSN"
  },
  "language_info": {
   "codemirror_mode": {
    "name": "ipython",
    "version": 2
   },
   "file_extension": ".py",
   "mimetype": "text/x-python",
   "name": "python",
   "nbconvert_exporter": "python",
   "pygments_lexer": "ipython2",
   "version": "2.7.6"
  }
 },
 "nbformat": 4,
 "nbformat_minor": 5
}
