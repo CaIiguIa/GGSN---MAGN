{
 "cells": [
  {
   "metadata": {},
   "cell_type": "markdown",
   "source": [
    "# Projekt MAGN — Implementacja biblioteki do budowy Multi-Associative Graph Network (MAGN) oraz uczenia (klasyfikacja + regresja)\n",
    "### Autorzy:\n",
    "\n",
    "- Szymon Jurecki\n",
    "- Dominik Breksa\n",
    "\n",
    "### Opis projektu:\n",
    "\n",
    "Z uwagi na to, że ilość wyprodukowanego przez nas kodu jest zbyt duża, aby umieścić go w jednym pliku, postanowiliśmy stworzyć bibliotekę `magn` w języku python, która realizuje odpowiednie implementacje np. uczenia, tworzenia grafów ASA.\n",
    "\n",
    "Ponieważ jest to dość rozległy projekt, to pozwolę sobie opisać strukturę projektu:\n",
    "- Folder `docs` - zawiera wewnętrzną dokumentację, obrazki i zapisy literatury.\n",
    "- Folder `resources/data` - tutaj znajduje się baza danych później pobrana z platformy Kaggle.\n",
    "- Folder `src` - ma kod źródłowy paczek python, które stworzyliśmy:\n",
    "    - Folder `magn` - zawiera paczkę użytą dalej do stworzenia MAGN.\n",
    "- Folder `tests` - zawiera tymczasowe testy, zbudowanych przez nas method, funkcji i obiektów.\n",
    "- Plik `.gitignore` - samo opisowe.\n",
    "- Plik `pyproject.toml` - informacje o paczce niezbędne do instalacji.\n",
    "- Plik `README.md` - ten tekst.\n",
    "- PLik `requiements.txt` - zawiera niezbędne paczki zależności.\n",
    "- Plik `setup.py` - instaluje naszą paczkę.\n",
    "\n",
    "Następnie pobierzemy bazę danych z platformy Kaggle ([LINK](https://www.kaggle.com)) w formacie SQLite, na jej podstawie zbudujemy konkretny MAGN, potem przeprowadzimy uczenie i przeanalizujemy wyniki w tym notebooku.\n",
    "\n",
    "### Cel projektu:\n",
    "\n",
    "1. Implementacja następujących struktur danych dla małej biblioteki:\n",
    "    - Aggregative Sorting Associative Graphs (ASA-Graphs)\n",
    "    - Multi-Associative Graph Network (MAGN)\n",
    "    - Baza danych\n",
    "2. Przeprowadzenie uczenia na przykładowej bazie danych:\n",
    "    - Uczenie\n",
    "    - Predykcja\n",
    "    - Regresja\n",
    "    - Obliczenie metryk i porównanie działania.\n",
    "\n",
    "### Wstęp teoretyczny\n",
    "\n",
    "Relacyjne bazy danych, pomimo tego, jak często są używane, nie są zbyt dobre w reprezentacji relacji ściśle związanych z podobieństwem między np.: wartościami, kolejnością poszczególnych danych wewnątrz tabel.\n",
    "\n",
    "W związku z tym wprowadzimy tak zwane Multi-Associative Graph Network (MAGN), zbudowane na podstawie konkretnych baz danych i pokażemy, że można je wykorzystać np. predykcji i regresji.\n",
    "\n",
    "##### Co to są Aggregative Sorting Associative Graphs (ASA-Graphs)?\n",
    "\n",
    "W skrócie są to B-Drzewa, gdzie wszystkie wierzchołki są ze sobą połączone w posortowanej kolejności przy pomocy listy dwukierunkowej. Te B-Drzewa mają kilka ograniczeń np. to, że w danym wierzchołku nie mogą być więcej niż 2 elementy.\n",
    "\n",
    "![ASA template](docs/examples/data/templatepng.png)\n",
    "\n",
    "Gdzie:\n",
    "- `Table` - Nasza konwencja podpisywania, z jakiej tabeli jest graf.\n",
    "- `Column` - Nasza konwencja podpisywania, z jakiej kolumny jest graf.\n",
    "- `Counter` - Licznik ile razy w danej porcji danych nastąpiło powtórzeń danego obiektu.\n",
    "- `Key` - Sama wartość elementu.\n",
    "- `Left Pointer` - Wartość pointera dla lewego krańca listy dwukierunkowej.\n",
    "- `Right Pointer` - Wartość pointera dla prawego krańca listy dwukierunkowej.\n",
    "- `pk:Numer` - Numer klucza, jakiego obiekt się tyczy (dla ułatwienia).\n",
    "- Warto wspomnieć, że na tym zdjęciu jeszcze nie ma wag.\n",
    "\n",
    "Przykładowy ASA może wyglądać na przykład tak.\n",
    "\n",
    "![ASA przykładowy](docs/examples/data/animals_species_4.png)\n",
    "\n",
    "##### Jak stworzyć MAGN?\n",
    "\n",
    "Należy wykorzystać tak zwany algorytm transformacji asocjatywnej na konkretnej bazie danych. Poniżej przedstawimy pseudokod.\n",
    "\n",
    "```python\n",
    "def create_magn():\n",
    "    db = obtain_database()  # (1)\n",
    "    \n",
    "    magn = create_empty_magn()  # (2)\n",
    "    \n",
    "    for table in db.get_tables_pk_first():  # (3)\n",
    "        for column in table:  # (4)\n",
    "            data = column.data\n",
    "            asa = create_asa(data)  # (5)\n",
    "            magn.add_asa(asa, asa.connected_objects)  # (6)\n",
    "    \n",
    "    return magn\n",
    "```\n",
    "\n",
    "1. Dostań gotową bazę danych wypełnioną kluczami i danymi.\n",
    "2. Stwórz pusty MAGN, aby móc potem dodać do niego poszczególne ASA.\n",
    "3. Należy w odpowiedni sposób dostarczać do niego grafy asa, tak, any najpierw dać klucze główne, a potem odsłonione przez nie klucze obce, więc należy dodać je w odpowiedni sposób (konkretnie my wykorzystaliśmy sortowanie topologi-cze z zależności między kluczami).\n",
    "4. Prze-iteruj przez wszystkie kolumny.\n",
    "5. Stwórz z nich odpowiedni graf asa.\n",
    "6. Dodaj go łącznie z przyległymi obiektami do głównego MAGN.\n",
    "\n",
    "Należy pamiętać, że pomiędzy obiektami i elementami grafu ASA należy wyliczać odpowiednie wagi i połączyć wszystko w całość.\n",
    "\n",
    "Obliczanie wag:\n",
    "1. ....\n",
    "2. ....\n",
    "3. ....\n",
    "4. ....\n",
    "\n",
    "##### Przykładowy MAGN:\n",
    "\n",
    "Dane i schematy użyte do konstrukcji (pominięto z uwagi na skalę tego niektóre klucze).\n",
    "\n",
    "![Magn data](docs/examples/data/data.png)\n",
    "\n",
    "![Magn schema](docs/examples/data/data_schema.png)\n",
    "\n",
    "Gotowy MAGN stworzony ręcznie.\n",
    "\n",
    "![Przykładowy MAGN](docs/examples/data/magn.png)\n",
    "\n",
    "Infografiki własne.\n",
    "\n",
    "##### Algorytm uczenia\n",
    "\n",
    "Poniżej zamieszczę pseudo kod uczenia się MAGN:\n",
    "\n",
    "```python\n",
    "def fit_magn(magn, data, targets):\n",
    "    pass\n",
    "```\n",
    "\n",
    "1. ...\n",
    "\n",
    "##### Algorytm predykcji\n",
    "\n",
    "Poniżej zamieszczę pseudo kod predykcji MAGN:\n",
    "\n",
    "```python\n",
    "def predict_magn(magn, data):\n",
    "    pass\n",
    "```\n",
    "\n",
    "1. ...\n",
    "\n",
    "### Wykorzystane technologie i zależności:\n",
    "- Python: `3.12.0`\n",
    "- Pandas: `2.2.2`\n",
    "- Kaggle: `1.6.14`\n",
    "- SQLite3: `3.46.0`\n",
    "- Inne zawarte w `requirements.txt`"
   ],
   "id": "13be8f19b56bc48d"
  },
  {
   "metadata": {},
   "cell_type": "markdown",
   "source": [
    "### Niezbędne instalacje\n",
    "\n",
    "Aby móc użyć tego notebooka zalecane jest stworzenie odrębnego wirtualnego środowiska Python -a (venv) i zainstalowania niezbędnych zależności. Sama biblioteka zainstaluje się po wykonaniu linijki: `pip install .`, ale dodatkowo, aby ją przedstawić w tym, notebooku musimy jeszcze doinstalować kilka kolejnych modułów."
   ],
   "id": "9eee5f4344a22e53"
  },
  {
   "cell_type": "code",
   "id": "initial_id",
   "metadata": {
    "collapsed": true,
    "ExecuteTime": {
     "end_time": "2024-06-18T22:02:35.113661Z",
     "start_time": "2024-06-18T22:02:21.204945Z"
    }
   },
   "source": [
    "%pip install .\n",
    "%pip install scikit-learn\n",
    "%pip install numpy\n",
    "%pip install kaggle"
   ],
   "outputs": [
    {
     "name": "stdout",
     "output_type": "stream",
     "text": [
      "Processing c:\\users\\domin\\pycharmprojects\\ggsn---magn\n",
      "  Installing build dependencies: started\n",
      "  Installing build dependencies: finished with status 'done'\n",
      "  Getting requirements to build wheel: started\n",
      "  Getting requirements to build wheel: finished with status 'done'\n",
      "  Installing backend dependencies: started\n",
      "  Installing backend dependencies: finished with status 'done'\n",
      "  Preparing metadata (pyproject.toml): started\n",
      "  Preparing metadata (pyproject.toml): finished with status 'done'\n",
      "Requirement already satisfied: anyio==4.3.0 in c:\\users\\domin\\pycharmprojects\\ggsn---magn\\.venv\\lib\\site-packages (from magn==1.0.0.0) (4.3.0)\n",
      "Requirement already satisfied: argon2-cffi==23.1.0 in c:\\users\\domin\\pycharmprojects\\ggsn---magn\\.venv\\lib\\site-packages (from magn==1.0.0.0) (23.1.0)\n",
      "Requirement already satisfied: argon2-cffi-bindings==21.2.0 in c:\\users\\domin\\pycharmprojects\\ggsn---magn\\.venv\\lib\\site-packages (from magn==1.0.0.0) (21.2.0)\n",
      "Requirement already satisfied: arrow==1.3.0 in c:\\users\\domin\\pycharmprojects\\ggsn---magn\\.venv\\lib\\site-packages (from magn==1.0.0.0) (1.3.0)\n",
      "Requirement already satisfied: astroid==3.2.2 in c:\\users\\domin\\pycharmprojects\\ggsn---magn\\.venv\\lib\\site-packages (from magn==1.0.0.0) (3.2.2)\n",
      "Requirement already satisfied: asttokens==2.4.1 in c:\\users\\domin\\pycharmprojects\\ggsn---magn\\.venv\\lib\\site-packages (from magn==1.0.0.0) (2.4.1)\n",
      "Requirement already satisfied: async-lru==2.0.4 in c:\\users\\domin\\pycharmprojects\\ggsn---magn\\.venv\\lib\\site-packages (from magn==1.0.0.0) (2.0.4)\n",
      "Requirement already satisfied: attrs==23.2.0 in c:\\users\\domin\\pycharmprojects\\ggsn---magn\\.venv\\lib\\site-packages (from magn==1.0.0.0) (23.2.0)\n",
      "Requirement already satisfied: Babel==2.15.0 in c:\\users\\domin\\pycharmprojects\\ggsn---magn\\.venv\\lib\\site-packages (from magn==1.0.0.0) (2.15.0)\n",
      "Requirement already satisfied: beautifulsoup4==4.12.3 in c:\\users\\domin\\pycharmprojects\\ggsn---magn\\.venv\\lib\\site-packages (from magn==1.0.0.0) (4.12.3)\n",
      "Requirement already satisfied: bleach==6.1.0 in c:\\users\\domin\\pycharmprojects\\ggsn---magn\\.venv\\lib\\site-packages (from magn==1.0.0.0) (6.1.0)\n",
      "Requirement already satisfied: build==1.2.1 in c:\\users\\domin\\pycharmprojects\\ggsn---magn\\.venv\\lib\\site-packages (from magn==1.0.0.0) (1.2.1)\n",
      "Requirement already satisfied: certifi==2024.2.2 in c:\\users\\domin\\pycharmprojects\\ggsn---magn\\.venv\\lib\\site-packages (from magn==1.0.0.0) (2024.2.2)\n",
      "Requirement already satisfied: cffi==1.16.0 in c:\\users\\domin\\pycharmprojects\\ggsn---magn\\.venv\\lib\\site-packages (from magn==1.0.0.0) (1.16.0)\n",
      "Requirement already satisfied: charset-normalizer==3.3.2 in c:\\users\\domin\\pycharmprojects\\ggsn---magn\\.venv\\lib\\site-packages (from magn==1.0.0.0) (3.3.2)\n",
      "Requirement already satisfied: colorama==0.4.6 in c:\\users\\domin\\pycharmprojects\\ggsn---magn\\.venv\\lib\\site-packages (from magn==1.0.0.0) (0.4.6)\n",
      "Requirement already satisfied: comm==0.2.2 in c:\\users\\domin\\pycharmprojects\\ggsn---magn\\.venv\\lib\\site-packages (from magn==1.0.0.0) (0.2.2)\n",
      "Requirement already satisfied: contourpy==1.2.1 in c:\\users\\domin\\pycharmprojects\\ggsn---magn\\.venv\\lib\\site-packages (from magn==1.0.0.0) (1.2.1)\n",
      "Requirement already satisfied: cycler==0.12.1 in c:\\users\\domin\\pycharmprojects\\ggsn---magn\\.venv\\lib\\site-packages (from magn==1.0.0.0) (0.12.1)\n",
      "Requirement already satisfied: debugpy==1.8.1 in c:\\users\\domin\\pycharmprojects\\ggsn---magn\\.venv\\lib\\site-packages (from magn==1.0.0.0) (1.8.1)\n",
      "Requirement already satisfied: decorator==5.1.1 in c:\\users\\domin\\pycharmprojects\\ggsn---magn\\.venv\\lib\\site-packages (from magn==1.0.0.0) (5.1.1)\n",
      "Requirement already satisfied: defusedxml==0.7.1 in c:\\users\\domin\\pycharmprojects\\ggsn---magn\\.venv\\lib\\site-packages (from magn==1.0.0.0) (0.7.1)\n",
      "Requirement already satisfied: dill==0.3.8 in c:\\users\\domin\\pycharmprojects\\ggsn---magn\\.venv\\lib\\site-packages (from magn==1.0.0.0) (0.3.8)\n",
      "Requirement already satisfied: executing==2.0.1 in c:\\users\\domin\\pycharmprojects\\ggsn---magn\\.venv\\lib\\site-packages (from magn==1.0.0.0) (2.0.1)\n",
      "Requirement already satisfied: fastjsonschema==2.19.1 in c:\\users\\domin\\pycharmprojects\\ggsn---magn\\.venv\\lib\\site-packages (from magn==1.0.0.0) (2.19.1)\n",
      "Requirement already satisfied: fonttools==4.51.0 in c:\\users\\domin\\pycharmprojects\\ggsn---magn\\.venv\\lib\\site-packages (from magn==1.0.0.0) (4.51.0)\n",
      "Requirement already satisfied: fqdn==1.5.1 in c:\\users\\domin\\pycharmprojects\\ggsn---magn\\.venv\\lib\\site-packages (from magn==1.0.0.0) (1.5.1)\n",
      "Requirement already satisfied: h11==0.14.0 in c:\\users\\domin\\pycharmprojects\\ggsn---magn\\.venv\\lib\\site-packages (from magn==1.0.0.0) (0.14.0)\n",
      "Requirement already satisfied: httpcore==1.0.5 in c:\\users\\domin\\pycharmprojects\\ggsn---magn\\.venv\\lib\\site-packages (from magn==1.0.0.0) (1.0.5)\n",
      "Requirement already satisfied: httpx==0.27.0 in c:\\users\\domin\\pycharmprojects\\ggsn---magn\\.venv\\lib\\site-packages (from magn==1.0.0.0) (0.27.0)\n",
      "Requirement already satisfied: idna==3.7 in c:\\users\\domin\\pycharmprojects\\ggsn---magn\\.venv\\lib\\site-packages (from magn==1.0.0.0) (3.7)\n",
      "Requirement already satisfied: ipykernel==6.29.4 in c:\\users\\domin\\pycharmprojects\\ggsn---magn\\.venv\\lib\\site-packages (from magn==1.0.0.0) (6.29.4)\n",
      "Requirement already satisfied: ipython==8.24.0 in c:\\users\\domin\\pycharmprojects\\ggsn---magn\\.venv\\lib\\site-packages (from magn==1.0.0.0) (8.24.0)\n",
      "Requirement already satisfied: ipywidgets==8.1.2 in c:\\users\\domin\\pycharmprojects\\ggsn---magn\\.venv\\lib\\site-packages (from magn==1.0.0.0) (8.1.2)\n",
      "Requirement already satisfied: isoduration==20.11.0 in c:\\users\\domin\\pycharmprojects\\ggsn---magn\\.venv\\lib\\site-packages (from magn==1.0.0.0) (20.11.0)\n",
      "Requirement already satisfied: isort==5.13.2 in c:\\users\\domin\\pycharmprojects\\ggsn---magn\\.venv\\lib\\site-packages (from magn==1.0.0.0) (5.13.2)\n",
      "Requirement already satisfied: jedi==0.19.1 in c:\\users\\domin\\pycharmprojects\\ggsn---magn\\.venv\\lib\\site-packages (from magn==1.0.0.0) (0.19.1)\n",
      "Requirement already satisfied: Jinja2==3.1.4 in c:\\users\\domin\\pycharmprojects\\ggsn---magn\\.venv\\lib\\site-packages (from magn==1.0.0.0) (3.1.4)\n",
      "Requirement already satisfied: json5==0.9.25 in c:\\users\\domin\\pycharmprojects\\ggsn---magn\\.venv\\lib\\site-packages (from magn==1.0.0.0) (0.9.25)\n",
      "Requirement already satisfied: jsonpointer==2.4 in c:\\users\\domin\\pycharmprojects\\ggsn---magn\\.venv\\lib\\site-packages (from magn==1.0.0.0) (2.4)\n",
      "Requirement already satisfied: jsonschema==4.22.0 in c:\\users\\domin\\pycharmprojects\\ggsn---magn\\.venv\\lib\\site-packages (from magn==1.0.0.0) (4.22.0)\n",
      "Requirement already satisfied: jsonschema-specifications==2023.12.1 in c:\\users\\domin\\pycharmprojects\\ggsn---magn\\.venv\\lib\\site-packages (from magn==1.0.0.0) (2023.12.1)\n",
      "Requirement already satisfied: jupyter==1.0.0 in c:\\users\\domin\\pycharmprojects\\ggsn---magn\\.venv\\lib\\site-packages (from magn==1.0.0.0) (1.0.0)\n",
      "Requirement already satisfied: jupyter-console==6.6.3 in c:\\users\\domin\\pycharmprojects\\ggsn---magn\\.venv\\lib\\site-packages (from magn==1.0.0.0) (6.6.3)\n",
      "Requirement already satisfied: jupyter-events==0.10.0 in c:\\users\\domin\\pycharmprojects\\ggsn---magn\\.venv\\lib\\site-packages (from magn==1.0.0.0) (0.10.0)\n",
      "Requirement already satisfied: jupyter-lsp==2.2.5 in c:\\users\\domin\\pycharmprojects\\ggsn---magn\\.venv\\lib\\site-packages (from magn==1.0.0.0) (2.2.5)\n",
      "Requirement already satisfied: jupyter-client==8.6.1 in c:\\users\\domin\\pycharmprojects\\ggsn---magn\\.venv\\lib\\site-packages (from magn==1.0.0.0) (8.6.1)\n",
      "Requirement already satisfied: jupyter-core==5.7.2 in c:\\users\\domin\\pycharmprojects\\ggsn---magn\\.venv\\lib\\site-packages (from magn==1.0.0.0) (5.7.2)\n",
      "Requirement already satisfied: jupyter-server==2.14.0 in c:\\users\\domin\\pycharmprojects\\ggsn---magn\\.venv\\lib\\site-packages (from magn==1.0.0.0) (2.14.0)\n",
      "Requirement already satisfied: jupyter-server-terminals==0.5.3 in c:\\users\\domin\\pycharmprojects\\ggsn---magn\\.venv\\lib\\site-packages (from magn==1.0.0.0) (0.5.3)\n",
      "Requirement already satisfied: jupyterlab==4.2.0 in c:\\users\\domin\\pycharmprojects\\ggsn---magn\\.venv\\lib\\site-packages (from magn==1.0.0.0) (4.2.0)\n",
      "Requirement already satisfied: jupyterlab-pygments==0.3.0 in c:\\users\\domin\\pycharmprojects\\ggsn---magn\\.venv\\lib\\site-packages (from magn==1.0.0.0) (0.3.0)\n",
      "Requirement already satisfied: jupyterlab-server==2.27.1 in c:\\users\\domin\\pycharmprojects\\ggsn---magn\\.venv\\lib\\site-packages (from magn==1.0.0.0) (2.27.1)\n",
      "Requirement already satisfied: jupyterlab-widgets==3.0.10 in c:\\users\\domin\\pycharmprojects\\ggsn---magn\\.venv\\lib\\site-packages (from magn==1.0.0.0) (3.0.10)\n",
      "Requirement already satisfied: kaggle==1.6.14 in c:\\users\\domin\\pycharmprojects\\ggsn---magn\\.venv\\lib\\site-packages (from magn==1.0.0.0) (1.6.14)\n",
      "Requirement already satisfied: kiwisolver==1.4.5 in c:\\users\\domin\\pycharmprojects\\ggsn---magn\\.venv\\lib\\site-packages (from magn==1.0.0.0) (1.4.5)\n",
      "Requirement already satisfied: MarkupSafe==2.1.5 in c:\\users\\domin\\pycharmprojects\\ggsn---magn\\.venv\\lib\\site-packages (from magn==1.0.0.0) (2.1.5)\n",
      "Requirement already satisfied: matplotlib==3.9.0 in c:\\users\\domin\\pycharmprojects\\ggsn---magn\\.venv\\lib\\site-packages (from magn==1.0.0.0) (3.9.0)\n",
      "Requirement already satisfied: matplotlib-inline==0.1.7 in c:\\users\\domin\\pycharmprojects\\ggsn---magn\\.venv\\lib\\site-packages (from magn==1.0.0.0) (0.1.7)\n",
      "Requirement already satisfied: mccabe==0.7.0 in c:\\users\\domin\\pycharmprojects\\ggsn---magn\\.venv\\lib\\site-packages (from magn==1.0.0.0) (0.7.0)\n",
      "Requirement already satisfied: mistune==3.0.2 in c:\\users\\domin\\pycharmprojects\\ggsn---magn\\.venv\\lib\\site-packages (from magn==1.0.0.0) (3.0.2)\n",
      "Requirement already satisfied: nbclient==0.10.0 in c:\\users\\domin\\pycharmprojects\\ggsn---magn\\.venv\\lib\\site-packages (from magn==1.0.0.0) (0.10.0)\n",
      "Requirement already satisfied: nbconvert==7.16.4 in c:\\users\\domin\\pycharmprojects\\ggsn---magn\\.venv\\lib\\site-packages (from magn==1.0.0.0) (7.16.4)\n",
      "Requirement already satisfied: nbformat==5.10.4 in c:\\users\\domin\\pycharmprojects\\ggsn---magn\\.venv\\lib\\site-packages (from magn==1.0.0.0) (5.10.4)\n",
      "Requirement already satisfied: nest-asyncio==1.6.0 in c:\\users\\domin\\pycharmprojects\\ggsn---magn\\.venv\\lib\\site-packages (from magn==1.0.0.0) (1.6.0)\n",
      "Requirement already satisfied: networkx==3.3 in c:\\users\\domin\\pycharmprojects\\ggsn---magn\\.venv\\lib\\site-packages (from magn==1.0.0.0) (3.3)\n",
      "Requirement already satisfied: notebook==7.2.0 in c:\\users\\domin\\pycharmprojects\\ggsn---magn\\.venv\\lib\\site-packages (from magn==1.0.0.0) (7.2.0)\n",
      "Requirement already satisfied: notebook-shim==0.2.4 in c:\\users\\domin\\pycharmprojects\\ggsn---magn\\.venv\\lib\\site-packages (from magn==1.0.0.0) (0.2.4)\n",
      "Requirement already satisfied: numpy==1.26.4 in c:\\users\\domin\\pycharmprojects\\ggsn---magn\\.venv\\lib\\site-packages (from magn==1.0.0.0) (1.26.4)\n",
      "Requirement already satisfied: overrides==7.7.0 in c:\\users\\domin\\pycharmprojects\\ggsn---magn\\.venv\\lib\\site-packages (from magn==1.0.0.0) (7.7.0)\n",
      "Requirement already satisfied: packaging==24.0 in c:\\users\\domin\\pycharmprojects\\ggsn---magn\\.venv\\lib\\site-packages (from magn==1.0.0.0) (24.0)\n",
      "Requirement already satisfied: pandas==2.2.2 in c:\\users\\domin\\pycharmprojects\\ggsn---magn\\.venv\\lib\\site-packages (from magn==1.0.0.0) (2.2.2)\n",
      "Requirement already satisfied: pandocfilters==1.5.1 in c:\\users\\domin\\pycharmprojects\\ggsn---magn\\.venv\\lib\\site-packages (from magn==1.0.0.0) (1.5.1)\n",
      "Requirement already satisfied: parso==0.8.4 in c:\\users\\domin\\pycharmprojects\\ggsn---magn\\.venv\\lib\\site-packages (from magn==1.0.0.0) (0.8.4)\n",
      "Requirement already satisfied: pillow==10.3.0 in c:\\users\\domin\\pycharmprojects\\ggsn---magn\\.venv\\lib\\site-packages (from magn==1.0.0.0) (10.3.0)\n",
      "Requirement already satisfied: platformdirs==4.2.2 in c:\\users\\domin\\pycharmprojects\\ggsn---magn\\.venv\\lib\\site-packages (from magn==1.0.0.0) (4.2.2)\n",
      "Requirement already satisfied: prometheus-client==0.20.0 in c:\\users\\domin\\pycharmprojects\\ggsn---magn\\.venv\\lib\\site-packages (from magn==1.0.0.0) (0.20.0)\n",
      "Requirement already satisfied: prompt-toolkit==3.0.43 in c:\\users\\domin\\pycharmprojects\\ggsn---magn\\.venv\\lib\\site-packages (from magn==1.0.0.0) (3.0.43)\n",
      "Requirement already satisfied: psutil==5.9.8 in c:\\users\\domin\\pycharmprojects\\ggsn---magn\\.venv\\lib\\site-packages (from magn==1.0.0.0) (5.9.8)\n",
      "Requirement already satisfied: pure-eval==0.2.2 in c:\\users\\domin\\pycharmprojects\\ggsn---magn\\.venv\\lib\\site-packages (from magn==1.0.0.0) (0.2.2)\n",
      "Requirement already satisfied: pycparser==2.22 in c:\\users\\domin\\pycharmprojects\\ggsn---magn\\.venv\\lib\\site-packages (from magn==1.0.0.0) (2.22)\n",
      "Requirement already satisfied: Pygments==2.18.0 in c:\\users\\domin\\pycharmprojects\\ggsn---magn\\.venv\\lib\\site-packages (from magn==1.0.0.0) (2.18.0)\n",
      "Requirement already satisfied: pylint==3.2.3 in c:\\users\\domin\\pycharmprojects\\ggsn---magn\\.venv\\lib\\site-packages (from magn==1.0.0.0) (3.2.3)\n",
      "Requirement already satisfied: pyparsing==3.1.2 in c:\\users\\domin\\pycharmprojects\\ggsn---magn\\.venv\\lib\\site-packages (from magn==1.0.0.0) (3.1.2)\n",
      "Requirement already satisfied: pyproject-hooks==1.1.0 in c:\\users\\domin\\pycharmprojects\\ggsn---magn\\.venv\\lib\\site-packages (from magn==1.0.0.0) (1.1.0)\n",
      "Requirement already satisfied: python-dateutil==2.9.0.post0 in c:\\users\\domin\\pycharmprojects\\ggsn---magn\\.venv\\lib\\site-packages (from magn==1.0.0.0) (2.9.0.post0)\n",
      "Requirement already satisfied: python-json-logger==2.0.7 in c:\\users\\domin\\pycharmprojects\\ggsn---magn\\.venv\\lib\\site-packages (from magn==1.0.0.0) (2.0.7)\n",
      "Requirement already satisfied: python-slugify==8.0.4 in c:\\users\\domin\\pycharmprojects\\ggsn---magn\\.venv\\lib\\site-packages (from magn==1.0.0.0) (8.0.4)\n",
      "Requirement already satisfied: pytz==2024.1 in c:\\users\\domin\\pycharmprojects\\ggsn---magn\\.venv\\lib\\site-packages (from magn==1.0.0.0) (2024.1)\n",
      "Requirement already satisfied: pywin32==306 in c:\\users\\domin\\pycharmprojects\\ggsn---magn\\.venv\\lib\\site-packages (from magn==1.0.0.0) (306)\n",
      "Requirement already satisfied: pywinpty==2.0.13 in c:\\users\\domin\\pycharmprojects\\ggsn---magn\\.venv\\lib\\site-packages (from magn==1.0.0.0) (2.0.13)\n",
      "Requirement already satisfied: PyYAML==6.0.1 in c:\\users\\domin\\pycharmprojects\\ggsn---magn\\.venv\\lib\\site-packages (from magn==1.0.0.0) (6.0.1)\n",
      "Requirement already satisfied: pyzmq==26.0.3 in c:\\users\\domin\\pycharmprojects\\ggsn---magn\\.venv\\lib\\site-packages (from magn==1.0.0.0) (26.0.3)\n",
      "Requirement already satisfied: qtconsole==5.5.2 in c:\\users\\domin\\pycharmprojects\\ggsn---magn\\.venv\\lib\\site-packages (from magn==1.0.0.0) (5.5.2)\n",
      "Requirement already satisfied: QtPy==2.4.1 in c:\\users\\domin\\pycharmprojects\\ggsn---magn\\.venv\\lib\\site-packages (from magn==1.0.0.0) (2.4.1)\n",
      "Requirement already satisfied: referencing==0.35.1 in c:\\users\\domin\\pycharmprojects\\ggsn---magn\\.venv\\lib\\site-packages (from magn==1.0.0.0) (0.35.1)\n",
      "Requirement already satisfied: requests==2.32.2 in c:\\users\\domin\\pycharmprojects\\ggsn---magn\\.venv\\lib\\site-packages (from magn==1.0.0.0) (2.32.2)\n",
      "Requirement already satisfied: rfc3339-validator==0.1.4 in c:\\users\\domin\\pycharmprojects\\ggsn---magn\\.venv\\lib\\site-packages (from magn==1.0.0.0) (0.1.4)\n",
      "Requirement already satisfied: rfc3986-validator==0.1.1 in c:\\users\\domin\\pycharmprojects\\ggsn---magn\\.venv\\lib\\site-packages (from magn==1.0.0.0) (0.1.1)\n",
      "Requirement already satisfied: rpds-py==0.18.1 in c:\\users\\domin\\pycharmprojects\\ggsn---magn\\.venv\\lib\\site-packages (from magn==1.0.0.0) (0.18.1)\n",
      "Requirement already satisfied: Send2Trash==1.8.3 in c:\\users\\domin\\pycharmprojects\\ggsn---magn\\.venv\\lib\\site-packages (from magn==1.0.0.0) (1.8.3)\n",
      "Requirement already satisfied: setuptools==70.0.0 in c:\\users\\domin\\pycharmprojects\\ggsn---magn\\.venv\\lib\\site-packages (from magn==1.0.0.0) (70.0.0)\n",
      "Requirement already satisfied: six==1.16.0 in c:\\users\\domin\\pycharmprojects\\ggsn---magn\\.venv\\lib\\site-packages (from magn==1.0.0.0) (1.16.0)\n",
      "Requirement already satisfied: sniffio==1.3.1 in c:\\users\\domin\\pycharmprojects\\ggsn---magn\\.venv\\lib\\site-packages (from magn==1.0.0.0) (1.3.1)\n",
      "Requirement already satisfied: soupsieve==2.5 in c:\\users\\domin\\pycharmprojects\\ggsn---magn\\.venv\\lib\\site-packages (from magn==1.0.0.0) (2.5)\n",
      "Requirement already satisfied: stack-data==0.6.3 in c:\\users\\domin\\pycharmprojects\\ggsn---magn\\.venv\\lib\\site-packages (from magn==1.0.0.0) (0.6.3)\n",
      "Requirement already satisfied: terminado==0.18.1 in c:\\users\\domin\\pycharmprojects\\ggsn---magn\\.venv\\lib\\site-packages (from magn==1.0.0.0) (0.18.1)\n",
      "Requirement already satisfied: text-unidecode==1.3 in c:\\users\\domin\\pycharmprojects\\ggsn---magn\\.venv\\lib\\site-packages (from magn==1.0.0.0) (1.3)\n",
      "Requirement already satisfied: tinycss2==1.3.0 in c:\\users\\domin\\pycharmprojects\\ggsn---magn\\.venv\\lib\\site-packages (from magn==1.0.0.0) (1.3.0)\n",
      "Requirement already satisfied: tomlkit==0.12.5 in c:\\users\\domin\\pycharmprojects\\ggsn---magn\\.venv\\lib\\site-packages (from magn==1.0.0.0) (0.12.5)\n",
      "Requirement already satisfied: tornado==6.4 in c:\\users\\domin\\pycharmprojects\\ggsn---magn\\.venv\\lib\\site-packages (from magn==1.0.0.0) (6.4)\n",
      "Requirement already satisfied: tqdm==4.66.4 in c:\\users\\domin\\pycharmprojects\\ggsn---magn\\.venv\\lib\\site-packages (from magn==1.0.0.0) (4.66.4)\n",
      "Requirement already satisfied: traitlets==5.14.3 in c:\\users\\domin\\pycharmprojects\\ggsn---magn\\.venv\\lib\\site-packages (from magn==1.0.0.0) (5.14.3)\n",
      "Requirement already satisfied: types-python-dateutil==2.9.0.20240316 in c:\\users\\domin\\pycharmprojects\\ggsn---magn\\.venv\\lib\\site-packages (from magn==1.0.0.0) (2.9.0.20240316)\n",
      "Requirement already satisfied: tzdata==2024.1 in c:\\users\\domin\\pycharmprojects\\ggsn---magn\\.venv\\lib\\site-packages (from magn==1.0.0.0) (2024.1)\n",
      "Requirement already satisfied: uri-template==1.3.0 in c:\\users\\domin\\pycharmprojects\\ggsn---magn\\.venv\\lib\\site-packages (from magn==1.0.0.0) (1.3.0)\n",
      "Requirement already satisfied: urllib3==2.2.1 in c:\\users\\domin\\pycharmprojects\\ggsn---magn\\.venv\\lib\\site-packages (from magn==1.0.0.0) (2.2.1)\n",
      "Requirement already satisfied: wcwidth==0.2.13 in c:\\users\\domin\\pycharmprojects\\ggsn---magn\\.venv\\lib\\site-packages (from magn==1.0.0.0) (0.2.13)\n",
      "Requirement already satisfied: webcolors==1.13 in c:\\users\\domin\\pycharmprojects\\ggsn---magn\\.venv\\lib\\site-packages (from magn==1.0.0.0) (1.13)\n",
      "Requirement already satisfied: webencodings==0.5.1 in c:\\users\\domin\\pycharmprojects\\ggsn---magn\\.venv\\lib\\site-packages (from magn==1.0.0.0) (0.5.1)\n",
      "Requirement already satisfied: websocket-client==1.8.0 in c:\\users\\domin\\pycharmprojects\\ggsn---magn\\.venv\\lib\\site-packages (from magn==1.0.0.0) (1.8.0)\n",
      "Requirement already satisfied: widgetsnbextension==4.0.10 in c:\\users\\domin\\pycharmprojects\\ggsn---magn\\.venv\\lib\\site-packages (from magn==1.0.0.0) (4.0.10)\n",
      "Building wheels for collected packages: magn\n",
      "  Building wheel for magn (pyproject.toml): started\n",
      "  Building wheel for magn (pyproject.toml): finished with status 'done'\n",
      "  Created wheel for magn: filename=magn-1.0.0.0-py3-none-any.whl size=16641 sha256=7befdde90819fd579b187119435b016028a5bbd0d994fbdab9517f05a3424a24\n",
      "  Stored in directory: c:\\users\\domin\\appdata\\local\\pip\\cache\\wheels\\02\\69\\7a\\7a321fc99cdf850f17c5dbe96e53ef1e4b07adda9d5bd3d1f7\n",
      "Successfully built magn\n",
      "Installing collected packages: magn\n",
      "  Attempting uninstall: magn\n",
      "    Found existing installation: magn 1.0.0.0\n",
      "    Not uninstalling magn at c:\\users\\domin\\pycharmprojects\\ggsn---magn\\src, outside environment C:\\Users\\domin\\PycharmProjects\\GGSN---MAGN\\.venv\n",
      "    Can't uninstall 'magn'. No files were found to uninstall.\n",
      "Successfully installed magn-1.0.0.0\n",
      "Note: you may need to restart the kernel to use updated packages.\n"
     ]
    },
    {
     "name": "stderr",
     "output_type": "stream",
     "text": [
      "DEPRECATION: Loading egg at c:\\users\\domin\\pycharmprojects\\ggsn---magn\\.venv\\lib\\site-packages\\magn-1.0.0.0-py3.12.egg is deprecated. pip 24.3 will enforce this behaviour change. A possible replacement is to use pip for package installation.. Discussion can be found at https://github.com/pypa/pip/issues/12330\n"
     ]
    },
    {
     "name": "stdout",
     "output_type": "stream",
     "text": [
      "Requirement already satisfied: scikit-learn in c:\\users\\domin\\pycharmprojects\\ggsn---magn\\.venv\\lib\\site-packages (1.5.0)\n",
      "Requirement already satisfied: numpy>=1.19.5 in c:\\users\\domin\\pycharmprojects\\ggsn---magn\\.venv\\lib\\site-packages (from scikit-learn) (1.26.4)\n",
      "Requirement already satisfied: scipy>=1.6.0 in c:\\users\\domin\\pycharmprojects\\ggsn---magn\\.venv\\lib\\site-packages (from scikit-learn) (1.13.1)\n",
      "Requirement already satisfied: joblib>=1.2.0 in c:\\users\\domin\\pycharmprojects\\ggsn---magn\\.venv\\lib\\site-packages (from scikit-learn) (1.4.2)\n",
      "Requirement already satisfied: threadpoolctl>=3.1.0 in c:\\users\\domin\\pycharmprojects\\ggsn---magn\\.venv\\lib\\site-packages (from scikit-learn) (3.5.0)\n",
      "Note: you may need to restart the kernel to use updated packages.\n"
     ]
    },
    {
     "name": "stderr",
     "output_type": "stream",
     "text": [
      "DEPRECATION: Loading egg at c:\\users\\domin\\pycharmprojects\\ggsn---magn\\.venv\\lib\\site-packages\\magn-1.0.0.0-py3.12.egg is deprecated. pip 24.3 will enforce this behaviour change. A possible replacement is to use pip for package installation.. Discussion can be found at https://github.com/pypa/pip/issues/12330\n"
     ]
    },
    {
     "name": "stdout",
     "output_type": "stream",
     "text": [
      "Requirement already satisfied: numpy in c:\\users\\domin\\pycharmprojects\\ggsn---magn\\.venv\\lib\\site-packages (1.26.4)\n",
      "Note: you may need to restart the kernel to use updated packages.\n"
     ]
    },
    {
     "name": "stderr",
     "output_type": "stream",
     "text": [
      "DEPRECATION: Loading egg at c:\\users\\domin\\pycharmprojects\\ggsn---magn\\.venv\\lib\\site-packages\\magn-1.0.0.0-py3.12.egg is deprecated. pip 24.3 will enforce this behaviour change. A possible replacement is to use pip for package installation.. Discussion can be found at https://github.com/pypa/pip/issues/12330\n"
     ]
    },
    {
     "name": "stdout",
     "output_type": "stream",
     "text": [
      "Requirement already satisfied: kaggle in c:\\users\\domin\\pycharmprojects\\ggsn---magn\\.venv\\lib\\site-packages (1.6.14)\n",
      "Requirement already satisfied: six>=1.10 in c:\\users\\domin\\pycharmprojects\\ggsn---magn\\.venv\\lib\\site-packages (from kaggle) (1.16.0)\n",
      "Requirement already satisfied: certifi>=2023.7.22 in c:\\users\\domin\\pycharmprojects\\ggsn---magn\\.venv\\lib\\site-packages (from kaggle) (2024.2.2)\n",
      "Requirement already satisfied: python-dateutil in c:\\users\\domin\\pycharmprojects\\ggsn---magn\\.venv\\lib\\site-packages (from kaggle) (2.9.0.post0)\n",
      "Requirement already satisfied: requests in c:\\users\\domin\\pycharmprojects\\ggsn---magn\\.venv\\lib\\site-packages (from kaggle) (2.32.2)\n",
      "Requirement already satisfied: tqdm in c:\\users\\domin\\pycharmprojects\\ggsn---magn\\.venv\\lib\\site-packages (from kaggle) (4.66.4)\n",
      "Requirement already satisfied: python-slugify in c:\\users\\domin\\pycharmprojects\\ggsn---magn\\.venv\\lib\\site-packages (from kaggle) (8.0.4)\n",
      "Requirement already satisfied: urllib3 in c:\\users\\domin\\pycharmprojects\\ggsn---magn\\.venv\\lib\\site-packages (from kaggle) (2.2.1)\n",
      "Requirement already satisfied: bleach in c:\\users\\domin\\pycharmprojects\\ggsn---magn\\.venv\\lib\\site-packages (from kaggle) (6.1.0)\n",
      "Requirement already satisfied: webencodings in c:\\users\\domin\\pycharmprojects\\ggsn---magn\\.venv\\lib\\site-packages (from bleach->kaggle) (0.5.1)\n",
      "Requirement already satisfied: text-unidecode>=1.3 in c:\\users\\domin\\pycharmprojects\\ggsn---magn\\.venv\\lib\\site-packages (from python-slugify->kaggle) (1.3)\n",
      "Requirement already satisfied: charset-normalizer<4,>=2 in c:\\users\\domin\\pycharmprojects\\ggsn---magn\\.venv\\lib\\site-packages (from requests->kaggle) (3.3.2)\n",
      "Requirement already satisfied: idna<4,>=2.5 in c:\\users\\domin\\pycharmprojects\\ggsn---magn\\.venv\\lib\\site-packages (from requests->kaggle) (3.7)\n",
      "Requirement already satisfied: colorama in c:\\users\\domin\\pycharmprojects\\ggsn---magn\\.venv\\lib\\site-packages (from tqdm->kaggle) (0.4.6)\n",
      "Note: you may need to restart the kernel to use updated packages.\n"
     ]
    },
    {
     "name": "stderr",
     "output_type": "stream",
     "text": [
      "DEPRECATION: Loading egg at c:\\users\\domin\\pycharmprojects\\ggsn---magn\\.venv\\lib\\site-packages\\magn-1.0.0.0-py3.12.egg is deprecated. pip 24.3 will enforce this behaviour change. A possible replacement is to use pip for package installation.. Discussion can be found at https://github.com/pypa/pip/issues/12330\n"
     ]
    }
   ],
   "execution_count": 1
  },
  {
   "cell_type": "markdown",
   "source": [
    "### Pobranie oraz Przygotowanie Danych\n",
    "\n",
    "Aby przetestować, zbudowaną przez nas bibliotekę pobierzemy zbiór danych z platformy Kaggle.\n",
    "\n",
    "Zbiór danych w formie bazy danych sqlite:\n",
    "- Zbiór ocen piosenek muzycznych z platformy Pitchfork (Formalnie dalej nazywany `Pitchfork`) — [Link do danych z platformy Kaggle](https://www.kaggle.com/datasets/nolanbconaway/pitchfork-data)"
   ],
   "metadata": {
    "collapsed": false
   },
   "id": "1f6bb8bde81e4a6f"
  },
  {
   "cell_type": "code",
   "source": [
    "from pathlib import Path\n",
    "from typing import Final\n",
    "\n",
    "resources_dir: Final[Path] = Path('resources/data/')\n",
    "\n",
    "zip_data_file_pitchfork: Final[Path] = resources_dir.joinpath('pitchfork-data.zip')\n",
    "database_path_pitchfork: Final[Path]  = resources_dir.joinpath('database.sqlite')"
   ],
   "metadata": {
    "collapsed": false,
    "ExecuteTime": {
     "end_time": "2024-06-18T22:02:35.116788Z",
     "start_time": "2024-06-18T22:02:35.114666Z"
    }
   },
   "id": "d1c9901fc12cce66",
   "outputs": [],
   "execution_count": 2
  },
  {
   "metadata": {},
   "cell_type": "markdown",
   "source": "Pobranie zbioru danych i umieszczenie go w folderze `./resources/data/` do dalszej eksploatacji.",
   "id": "ca200f82ccb7b864"
  },
  {
   "metadata": {
    "ExecuteTime": {
     "end_time": "2024-06-18T22:02:35.131296Z",
     "start_time": "2024-06-18T22:02:35.116788Z"
    }
   },
   "cell_type": "code",
   "source": [
    "from os.path import exists\n",
    "    \n",
    "if not exists(zip_data_file_pitchfork):\n",
    "    !kaggle datasets download -d nolanbconaway/pitchfork-data -p resources/data"
   ],
   "id": "112c42936946007e",
   "outputs": [],
   "execution_count": 3
  },
  {
   "metadata": {},
   "cell_type": "markdown",
   "source": "Rozpakowanie danych do odpowiedniego katalogu: `./resources/data/`, aby móc użyć faktycznie bazę.",
   "id": "c922333d59fb2927"
  },
  {
   "metadata": {
    "ExecuteTime": {
     "end_time": "2024-06-18T22:02:35.142462Z",
     "start_time": "2024-06-18T22:02:35.132309Z"
    }
   },
   "cell_type": "code",
   "source": [
    "from zipfile import ZipFile\n",
    "\n",
    "if not exists(database_path_pitchfork):\n",
    "    with ZipFile(zip_data_file_pitchfork, 'r') as zip_ref:\n",
    "        zip_ref.extractall(resources_dir)"
   ],
   "id": "ffe17589666c9475",
   "outputs": [],
   "execution_count": 4
  },
  {
   "metadata": {},
   "cell_type": "markdown",
   "source": "Funkcje pomocnicze potrzebne do przekształcenia naszej pobranej bazy danych, ponieważ z niewiadomego mi powodu wszystkie bazy danych SQLite, pobrane z platformy kaggle nie zawierają np. kluczy głównych, obcych.",
   "id": "4576632a304f2c6a"
  },
  {
   "metadata": {
    "ExecuteTime": {
     "end_time": "2024-06-18T22:02:35.154171Z",
     "start_time": "2024-06-18T22:02:35.143467Z"
    }
   },
   "cell_type": "code",
   "source": [
    "from typing import List, Tuple\n",
    "import sqlite3\n",
    "\n",
    "def get_table_columns_types(db_cursor: sqlite3.Cursor, table_name: str) -> List[Tuple[str, str]]:\n",
    "    \"\"\"Returns a list of tuples containing the column name and data type of given table in a database.\"\"\"\n",
    "\n",
    "    info = db_cursor.execute(f\"\"\"\n",
    "        PRAGMA\n",
    "            table_info({table_name});\n",
    "    \"\"\").fetchall()\n",
    "\n",
    "    return list((table_info[1], table_info[2]) for table_info in info)\n",
    "\n",
    "def get_table_names(db_cursor: sqlite3.Cursor) -> List[str]:\n",
    "    \"\"\"Gets the names of all sqlite tables from a database.\"\"\"\n",
    "    db_cursor.execute(\"\"\"\n",
    "        SELECT\n",
    "            name\n",
    "        FROM\n",
    "            sqlite_master\n",
    "        WHERE\n",
    "            type='table'\n",
    "    \"\"\")\n",
    "\n",
    "    return list(table[0] for table in db_cursor.fetchall())\n",
    "\n",
    "def move_data_and_switch_tables(db_cursor: sqlite3.Cursor, table_name: str, temporary_table_name: str) -> None:\n",
    "    \"\"\"Moves data from a temporary table to the original table and switches the tables in a database.\"\"\"\n",
    "\n",
    "    db_cursor.executescript(f\"\"\"\n",
    "        -- Move the data\n",
    "        INSERT INTO\n",
    "            {temporary_table_name}\n",
    "        SELECT\n",
    "            *\n",
    "        FROM\n",
    "            {table_name};\n",
    "        \n",
    "        -- Drop the old table\n",
    "        DROP TABLE\n",
    "            {table_name};\n",
    "        \n",
    "        -- Rename the new table\n",
    "        ALTER TABLE\n",
    "            {temporary_table_name}\n",
    "        RENAME TO\n",
    "            {table_name};\n",
    "    \"\"\")\n",
    "\n",
    "def create_table_with_primary_key(db_cursor: sqlite3.Cursor, table_name: str, temporary_table_name: str, column_name: str) -> None:\n",
    "    \"\"\"Creates a table with a primary key in a database.\"\"\"\n",
    "\n",
    "    table_columns = get_table_columns_types(db_cursor, table_name)\n",
    "\n",
    "    db_cursor.execute(f\"\"\"\n",
    "        CREATE TABLE {temporary_table_name} (\n",
    "            {\n",
    "                ', '.join(\n",
    "                    f'{column} {data_type}'\n",
    "                    if column != column_name\n",
    "                    else f'{column} {data_type} PRIMARY KEY'\n",
    "                    for column, data_type in table_columns\n",
    "                )\n",
    "            }\n",
    "        );\n",
    "    \"\"\")\n",
    "\n",
    "def create_table_with_foreign_key(db_cursor: sqlite3.Cursor, table_name: str, column_name: str, foreign_table_name: str, foreign_column_name: str, temporary_foreign_table_name: str) -> None:\n",
    "    \"\"\"Creates a table with a foreign key in a database.\"\"\"\n",
    "\n",
    "    foreign_table_columns = get_table_columns_types(db_cursor, foreign_table_name)\n",
    "\n",
    "    db_cursor.execute(f\"\"\"\n",
    "        CREATE TABLE {temporary_foreign_table_name} (\n",
    "            {\n",
    "                ', '.join(\n",
    "                    f'{column} {data_type}'\n",
    "                    for column, data_type in foreign_table_columns\n",
    "                )\n",
    "            },\n",
    "            CONSTRAINT fk_{foreign_table_name}_{foreign_column_name}\n",
    "                FOREIGN KEY\n",
    "                    ({foreign_column_name})\n",
    "                REFERENCES\n",
    "                    {table_name} ({column_name})\n",
    "        );\n",
    "    \"\"\")"
   ],
   "id": "3405079ca28a8aef",
   "outputs": [],
   "execution_count": 5
  },
  {
   "metadata": {},
   "cell_type": "markdown",
   "source": [
    "Z uwagi, że całość musieliśmy zaimplementować w Python -ie to postanowiliśmy ograniczyć dane uczące do około 1000 rekordów z wszystkich tabel. Dla szybkości uczenia i dla ograniczenia złożoności pamięciowej użytkowników o trochę mniejszych komputerach.\n",
    "\n",
    "Zapraszamy do bawienia się tymi parametrami do sprawdzenia wyników uczenia, predykcji przy zmniejszeniu lub zwiększeniu tej liczby. Cały zbiór danych ma około 18000 rekordów.\n",
    "\n",
    "Wyczyścimy sobie też nasze dane, tak aby np. braki w jakiejś kolumnie, nie zepsuły nam wyników uczenia. Usuniemy też błędne i niepotrzebne duplikaty w kluczach głównych. Na spokojnie duplikaty wartości innych niż klucze zostawiamy w spokoju, ponieważ są one potrzebne dla ASA grafów w MAGN."
   ],
   "id": "504a417e6697d955"
  },
  {
   "metadata": {
    "ExecuteTime": {
     "end_time": "2024-06-18T22:02:35.165060Z",
     "start_time": "2024-06-18T22:02:35.155179Z"
    }
   },
   "cell_type": "code",
   "source": [
    "def limit_rows(db_cursor: sqlite3.Cursor, column_name: str, max_rows: int) -> None:\n",
    "    \"\"\"Limits the number of rows in a table in a database.\"\"\"\n",
    "    \n",
    "    all_tables = get_table_names(db_cursor)\n",
    "    \n",
    "    # From every table and every column deletes rows that are NULL\n",
    "    for table_name in all_tables:\n",
    "        for given_column_name, _ in get_table_columns_types(db_cursor, table_name):\n",
    "            db_cursor.execute(f\"\"\"\n",
    "                DELETE FROM\n",
    "                    {table_name}\n",
    "                WHERE\n",
    "                    {given_column_name} IS NULL;\n",
    "            \"\"\")\n",
    "    \n",
    "    # From every table delete rows that are a duplicate of the column_name\n",
    "    for table_name in all_tables:\n",
    "        db_cursor.execute(f\"\"\"\n",
    "            DELETE FROM\n",
    "                {table_name}\n",
    "            WHERE\n",
    "                {column_name} IN (\n",
    "                    SELECT\n",
    "                        {column_name}\n",
    "                    FROM\n",
    "                        {table_name}\n",
    "                    GROUP BY\n",
    "                        {column_name}\n",
    "                    HAVING\n",
    "                        COUNT(*) > 1\n",
    "                );\n",
    "        \"\"\")\n",
    "    \n",
    "    # Find the intersection of a column_name in every table\n",
    "    # Delete rows that are not in the intersection\n",
    "    intersection: str = 'INTERSECT'.join(f\"\"\"\n",
    "        SELECT\n",
    "            {column_name}\n",
    "        FROM\n",
    "            {intersection_table_name}\n",
    "    \"\"\" for intersection_table_name in all_tables)\n",
    "    \n",
    "    for table_name in all_tables:\n",
    "        db_cursor.execute(f\"\"\"\n",
    "            DELETE FROM\n",
    "                {table_name}\n",
    "            WHERE\n",
    "                {column_name} NOT IN (\n",
    "                    {intersection}\n",
    "                );\n",
    "        \"\"\")\n",
    "    \n",
    "    # Limit the number of rows in a table to max_rows\n",
    "    for table_name in all_tables:\n",
    "        db_cursor.execute(f\"\"\"\n",
    "            DELETE FROM\n",
    "                {table_name}\n",
    "            WHERE\n",
    "                {column_name} NOT IN (\n",
    "                    SELECT\n",
    "                        {column_name}\n",
    "                    FROM\n",
    "                        {table_name}\n",
    "                    ORDER BY\n",
    "                        {column_name}\n",
    "                    LIMIT {max_rows}\n",
    "                );\n",
    "        \"\"\")"
   ],
   "id": "a877058a7216d85f",
   "outputs": [],
   "execution_count": 6
  },
  {
   "metadata": {
    "ExecuteTime": {
     "end_time": "2024-06-18T22:02:35.175356Z",
     "start_time": "2024-06-18T22:02:35.165060Z"
    }
   },
   "cell_type": "code",
   "source": [
    "from typing import Final\n",
    "\n",
    "MAX_ROWS: Final[int] = 1000"
   ],
   "id": "5ce295844e1e8900",
   "outputs": [],
   "execution_count": 7
  },
  {
   "metadata": {
    "ExecuteTime": {
     "end_time": "2024-06-18T22:02:35.206547Z",
     "start_time": "2024-06-18T22:02:35.175356Z"
    }
   },
   "cell_type": "code",
   "source": [
    "with sqlite3.connect(database_path_pitchfork) as conn:\n",
    "    limit_rows(conn.cursor(), 'reviewid', MAX_ROWS)"
   ],
   "id": "23a581fad190b1c",
   "outputs": [],
   "execution_count": 8
  },
  {
   "metadata": {},
   "cell_type": "markdown",
   "source": [
    "Dodanie kluczy głównych i obcych do bazy danych, ponieważ nie zostały one dodane podczas tworzenia na platformie Kaggle, a jest to ważne podczas tworzenia MAGN.\n",
    "\n",
    "W tym modelu przyjęliśmy, że klucze zawsze są jedno kolumnowe."
   ],
   "id": "360e80bb10c27325"
  },
  {
   "metadata": {
    "ExecuteTime": {
     "end_time": "2024-06-18T22:02:35.210265Z",
     "start_time": "2024-06-18T22:02:35.206547Z"
    }
   },
   "cell_type": "code",
   "source": [
    "def add_foreign_key(db_cursor: sqlite3.Cursor, table_name: str, column_name: str, foreign_table_name: str, foreign_column_name: str) -> None:\n",
    "    \"\"\"Adds a foreign key to a given table column in a database.\"\"\"\n",
    "\n",
    "    temporary_foreign_table_name = f'{foreign_table_name}_'\n",
    "\n",
    "    db_cursor.execute(f\"\"\"\n",
    "        PRAGMA\n",
    "            foreign_keys = OFF;\n",
    "    \"\"\")\n",
    "\n",
    "    create_table_with_foreign_key(db_cursor, table_name, column_name, foreign_table_name, foreign_column_name, temporary_foreign_table_name)\n",
    "    move_data_and_switch_tables(db_cursor, foreign_table_name, temporary_foreign_table_name)\n",
    "\n",
    "    db_cursor.execute(f\"\"\"\n",
    "        PRAGMA\n",
    "            foreign_keys = ON;\n",
    "    \"\"\")\n",
    "\n",
    "def add_primary_key(db_cursor: sqlite3.Cursor, table_name: str, column_name: str) -> None:\n",
    "    \"\"\"Adds a primary key to a given table column in a database.\"\"\"\n",
    "\n",
    "    temporary_table_name = f'{table_name}_'\n",
    "\n",
    "    create_table_with_primary_key(db_cursor, table_name, temporary_table_name, column_name)\n",
    "    move_data_and_switch_tables(db_cursor, table_name, temporary_table_name)"
   ],
   "id": "71f7b7381bed2d0e",
   "outputs": [],
   "execution_count": 9
  },
  {
   "metadata": {
    "ExecuteTime": {
     "end_time": "2024-06-18T22:02:35.539603Z",
     "start_time": "2024-06-18T22:02:35.211270Z"
    }
   },
   "cell_type": "code",
   "source": [
    "with sqlite3.connect(database_path_pitchfork) as conn:\n",
    "    cursor = conn.cursor()\n",
    "\n",
    "    cursor.execute(f\"\"\"BEGIN;\"\"\")\n",
    "    try:\n",
    "        add_primary_key(cursor, 'reviews', 'reviewid')\n",
    "\n",
    "        add_foreign_key(cursor, 'reviews', 'reviewid', 'artists', 'reviewid')\n",
    "        add_foreign_key(cursor, 'reviews', 'reviewid', 'content', 'reviewid')\n",
    "        add_foreign_key(cursor, 'reviews', 'reviewid', 'genres', 'reviewid')\n",
    "        add_foreign_key(cursor, 'reviews', 'reviewid', 'labels', 'reviewid')\n",
    "        add_foreign_key(cursor, 'reviews', 'reviewid', 'years', 'reviewid')\n",
    "    except Exception as error:\n",
    "        conn.rollback()\n",
    "        raise error\n",
    "    else:\n",
    "        conn.commit()"
   ],
   "id": "f35ecca823ff6ba",
   "outputs": [],
   "execution_count": 10
  },
  {
   "metadata": {},
   "cell_type": "markdown",
   "source": [
    "### Pełny ERD dla bazy danych Pitchfork\n",
    "\n",
    "Poniżej przedstawiam schemat bazy danych `Pitchfork`.\n",
    "\n",
    "![ERD Diagram for the database schema](docs/images/database_erd_pitchfork.png)\n",
    "\n",
    "Został wygenerowany przez nas przy pomocy PyCharm oraz znajduje się w folderze `docs/images/database_erd_pitchfork.png`"
   ],
   "id": "fb6af0bf87422a78"
  },
  {
   "metadata": {},
   "cell_type": "markdown",
   "source": [
    "Zobaczmy, jak nasze funkcje od konwersji do MAGN widzą powyższa baza danych.\n",
    "\n",
    "Warto zauważyć, że meta-tabela (`sqlite_master`) nie jest brana pod uwagę, ponieważ z technicznego punktu widzenia to nie tabela, tylko interface do metadanych bazy."
   ],
   "id": "40eae417a7d4be59"
  },
  {
   "metadata": {
    "ExecuteTime": {
     "end_time": "2024-06-18T22:02:35.836039Z",
     "start_time": "2024-06-18T22:02:35.540646Z"
    }
   },
   "cell_type": "code",
   "source": [
    "from magn.database.sqlite3 import get_table_names\n",
    "\n",
    "all_tables_pitchfork = get_table_names(database_path_pitchfork)\n",
    "\n",
    "all_tables_pitchfork"
   ],
   "id": "59166c943ce4a233",
   "outputs": [
    {
     "data": {
      "text/plain": [
       "['reviews', 'artists', 'content', 'genres', 'labels', 'years']"
      ]
     },
     "execution_count": 11,
     "metadata": {},
     "output_type": "execute_result"
    }
   ],
   "execution_count": 11
  },
  {
   "metadata": {},
   "cell_type": "markdown",
   "source": [
    "Teraz zobaczmy, czy nasze funkcje wyłuskały wszystkie zdefiniowane wcześniej relacje. Dla przypomnienia dla poszczególnych tabel to powinno tak wyglądać:\n",
    "1. `Pitchfork`:\n",
    "   - Klucz główny w `reviews`, `reviewid`\n",
    "   - Klucz obcy w `artists`, `reviewid`\n",
    "   - Klucz obcy w `content`, `reviewid`\n",
    "   - Klucz obcy w `genres`, `reviewid`\n",
    "   - Klucz obcy w `labels`, `reviewid`\n",
    "   - Klucz obcy w `years`, `reviewid`\n",
    "\n",
    "Poniżej zamieszczam jak należy rozumieć to wyjście zmiennej (`keys_%`):\n",
    "\n",
    "![ERD Diagram with key output explanation](docs/images/database_erd_pitchfork_foreign_keys.png)\n",
    "\n",
    "Oznaczenia:\n",
    "- `Czerwony` - Obecna tabela, której klucze obce się tyczą.\n",
    "- `Niebieski` - Tabela końcowa zawierająca klucz główny, który referenconujemy.\n",
    "- `Żółty` - Kolumna z kluczem obcym.\n",
    "- `Zielony` - Kolumna z kluczem głównym."
   ],
   "id": "c70e21cef978e463"
  },
  {
   "metadata": {
    "ExecuteTime": {
     "end_time": "2024-06-18T22:02:35.842989Z",
     "start_time": "2024-06-18T22:02:35.836039Z"
    }
   },
   "cell_type": "code",
   "source": [
    "from magn.database.sqlite3 import SQLite3KeysReader\n",
    "\n",
    "keys_reader = SQLite3KeysReader(database_path_pitchfork, all_tables_pitchfork)\n",
    "keys_pitchfork = keys_reader.read()\n",
    "\n",
    "keys_pitchfork"
   ],
   "id": "a11efb509501ef42",
   "outputs": [
    {
     "data": {
      "text/plain": [
       "{'reviews': Keys(primary_keys=['reviewid'], foreign_keys={}),\n",
       " 'artists': Keys(primary_keys=[], foreign_keys={'reviews': ('reviewid', 'reviewid')}),\n",
       " 'content': Keys(primary_keys=[], foreign_keys={'reviews': ('reviewid', 'reviewid')}),\n",
       " 'genres': Keys(primary_keys=[], foreign_keys={'reviews': ('reviewid', 'reviewid')}),\n",
       " 'labels': Keys(primary_keys=[], foreign_keys={'reviews': ('reviewid', 'reviewid')}),\n",
       " 'years': Keys(primary_keys=[], foreign_keys={'reviews': ('reviewid', 'reviewid')})}"
      ]
     },
     "execution_count": 12,
     "metadata": {},
     "output_type": "execute_result"
    }
   ],
   "execution_count": 12
  },
  {
   "metadata": {},
   "cell_type": "markdown",
   "source": "Tutaj zwrócimy jakie dane z tabel w postaci pandas Dataframe -u zostały znalezione (przynajmniej skrótowo)",
   "id": "a0b3cc7f4aa17a11"
  },
  {
   "metadata": {
    "ExecuteTime": {
     "end_time": "2024-06-18T22:02:35.881254Z",
     "start_time": "2024-06-18T22:02:35.843997Z"
    }
   },
   "cell_type": "code",
   "source": [
    "from magn.database.sqlite3 import SQLite3DataReader\n",
    "\n",
    "data_reader = SQLite3DataReader(database_path_pitchfork, all_tables_pitchfork, keys_pitchfork)\n",
    "data_reader.read()"
   ],
   "id": "e5bb74773fbe6fc6",
   "outputs": [
    {
     "data": {
      "text/plain": [
       "{'reviews':                                   title           artist  \\\n",
       " reviewid                                                   \n",
       " 1                         young forever        aberfeldy   \n",
       " 6                  pure tone audiometry         aarktica   \n",
       " 11        homesick and happy to be here         aberdeen   \n",
       " 31                          rolled gold           action   \n",
       " 33             the scene's out of sight     actionslacks   \n",
       " ...                                 ...              ...   \n",
       " 5329                 advisory committee            mirah   \n",
       " 5334                radio-free brooklyn       pete miser   \n",
       " 5339                          bangzilla  mix master mike   \n",
       " 5341                           three ep      mobius band   \n",
       " 5342                 city vs country ep      mobius band   \n",
       " \n",
       "                                                         url  score  \\\n",
       " reviewid                                                             \n",
       " 1         http://pitchfork.com/reviews/albums/1-young-fo...    3.4   \n",
       " 6         http://pitchfork.com/reviews/albums/6-pure-ton...    7.4   \n",
       " 11        http://pitchfork.com/reviews/albums/11-homesic...    7.0   \n",
       " 31        http://pitchfork.com/reviews/albums/31-rolled-...    8.0   \n",
       " 33        http://pitchfork.com/reviews/albums/33-the-sce...    7.6   \n",
       " ...                                                     ...    ...   \n",
       " 5329      http://pitchfork.com/reviews/albums/5329-advis...    8.3   \n",
       " 5334      http://pitchfork.com/reviews/albums/5334-radio...    7.2   \n",
       " 5339      http://pitchfork.com/reviews/albums/5339-bangz...    5.0   \n",
       " 5341      http://pitchfork.com/reviews/albums/5341-three...    7.8   \n",
       " 5342      http://pitchfork.com/reviews/albums/5342-city-...    8.0   \n",
       " \n",
       "           best_new_music                      author          author_type  \\\n",
       " reviewid                                                                    \n",
       " 1                      0                  marc hogan  senior staff writer   \n",
       " 6                      0                   eric carr          contributor   \n",
       " 11                     0                 joe tangari          contributor   \n",
       " 31                     0             dominique leone          contributor   \n",
       " 33                     0              ryan schreiber      editor-in-chief   \n",
       " ...                  ...                         ...                  ...   \n",
       " 5329                   0                  matt lemay          contributor   \n",
       " 5334                   0  julianne escobedo shepherd          contributor   \n",
       " 5339                   0                 peter macia          contributor   \n",
       " 5341                   0                 joe tangari          contributor   \n",
       " 5342                   0                 ryan dombal        senior editor   \n",
       " \n",
       "             pub_date  pub_weekday  pub_day  pub_month  pub_year  \n",
       " reviewid                                                         \n",
       " 1         2004-08-30            0       30          8      2004  \n",
       " 6         2003-04-08            1        8          4      2003  \n",
       " 11        2002-11-04            0        4         11      2002  \n",
       " 31        2002-11-20            2       20         11      2002  \n",
       " 33        2000-12-31            6       31         12      2000  \n",
       " ...              ...          ...      ...        ...       ...  \n",
       " 5329      2002-04-08            0        8          4      2002  \n",
       " 5334      2003-04-07            0        7          4      2003  \n",
       " 5339      2004-12-07            1        7         12      2004  \n",
       " 5341      2002-11-26            1       26         11      2002  \n",
       " 5342      2005-03-02            2        2          3      2005  \n",
       " \n",
       " [1000 rows x 12 columns],\n",
       " 'artists':                    artist\n",
       " reviewid                 \n",
       " 1               aberfeldy\n",
       " 6                aarktica\n",
       " 11               aberdeen\n",
       " 31                 action\n",
       " 33           actionslacks\n",
       " ...                   ...\n",
       " 5329                mirah\n",
       " 5334           pete miser\n",
       " 5339      mix master mike\n",
       " 5341          mobius band\n",
       " 5342          mobius band\n",
       " \n",
       " [1000 rows x 1 columns],\n",
       " 'content':                                                     content\n",
       " reviewid                                                   \n",
       " 1         Aberfeldy recorded their debut, Young Forever,...\n",
       " 6         Can there be any purpose behind a master's deg...\n",
       " 11        If you caught this little blip in the mid-90s,...\n",
       " 31        If The Action were so great, why haven't you h...\n",
       " 33        The Self-Starter Foundation imprint is far fro...\n",
       " ...                                                     ...\n",
       " 5329      It's pretty sorry what passes for intimacy in ...\n",
       " 5334      I have a gigantic problem with people who desc...\n",
       " 5339      Listening to most turntablism albums is like p...\n",
       " 5341      Opening bands have one of the hardest jobs in ...\n",
       " 5342      Hailing from the sleepy, made-up sounding Shut...\n",
       " \n",
       " [1000 rows x 1 columns],\n",
       " 'genres':                genre\n",
       " reviewid            \n",
       " 1               rock\n",
       " 6         electronic\n",
       " 11              rock\n",
       " 31             metal\n",
       " 33              rock\n",
       " ...              ...\n",
       " 5329            rock\n",
       " 5334             rap\n",
       " 5339      electronic\n",
       " 5341            rock\n",
       " 5342            rock\n",
       " \n",
       " [1000 rows x 1 columns],\n",
       " 'labels':                             label\n",
       " reviewid                         \n",
       " 1                     rough trade\n",
       " 6                          silber\n",
       " 11                 better looking\n",
       " 31                        parasol\n",
       " 33        self-starter foundation\n",
       " ...                           ...\n",
       " 5329                            k\n",
       " 5334                      ho-made\n",
       " 5339                     immortal\n",
       " 5341           prescription rails\n",
       " 5342                      ghostly\n",
       " \n",
       " [1000 rows x 1 columns],\n",
       " 'years':           year\n",
       " reviewid      \n",
       " 1         2004\n",
       " 6         2003\n",
       " 11        2002\n",
       " 31        2002\n",
       " 33        2001\n",
       " ...        ...\n",
       " 5329      2002\n",
       " 5334      2003\n",
       " 5339      2004\n",
       " 5341      2002\n",
       " 5342      2005\n",
       " \n",
       " [1000 rows x 1 columns]}"
      ]
     },
     "execution_count": 13,
     "metadata": {},
     "output_type": "execute_result"
    }
   ],
   "execution_count": 13
  },
  {
   "metadata": {},
   "cell_type": "markdown",
   "source": "Tak by wyglądało odczytanie przez nas gotowej bazy danych w całości.",
   "id": "71c1c3592c564211"
  },
  {
   "metadata": {
    "ExecuteTime": {
     "end_time": "2024-06-18T22:02:35.915531Z",
     "start_time": "2024-06-18T22:02:35.881254Z"
    }
   },
   "cell_type": "code",
   "source": [
    "from magn.database.database import Database\n",
    "\n",
    "database_pitchfork = Database.from_sqlite3(database_path_pitchfork)\n",
    "\n",
    "database_pitchfork"
   ],
   "id": "15ddf9dcad08b926",
   "outputs": [
    {
     "data": {
      "text/plain": [
       "Database(all_data={'reviews': Table(data=                                  title           artist  \\\n",
       "reviewid                                                   \n",
       "1                         young forever        aberfeldy   \n",
       "6                  pure tone audiometry         aarktica   \n",
       "11        homesick and happy to be here         aberdeen   \n",
       "31                          rolled gold           action   \n",
       "33             the scene's out of sight     actionslacks   \n",
       "...                                 ...              ...   \n",
       "5329                 advisory committee            mirah   \n",
       "5334                radio-free brooklyn       pete miser   \n",
       "5339                          bangzilla  mix master mike   \n",
       "5341                           three ep      mobius band   \n",
       "5342                 city vs country ep      mobius band   \n",
       "\n",
       "                                                        url  score  \\\n",
       "reviewid                                                             \n",
       "1         http://pitchfork.com/reviews/albums/1-young-fo...    3.4   \n",
       "6         http://pitchfork.com/reviews/albums/6-pure-ton...    7.4   \n",
       "11        http://pitchfork.com/reviews/albums/11-homesic...    7.0   \n",
       "31        http://pitchfork.com/reviews/albums/31-rolled-...    8.0   \n",
       "33        http://pitchfork.com/reviews/albums/33-the-sce...    7.6   \n",
       "...                                                     ...    ...   \n",
       "5329      http://pitchfork.com/reviews/albums/5329-advis...    8.3   \n",
       "5334      http://pitchfork.com/reviews/albums/5334-radio...    7.2   \n",
       "5339      http://pitchfork.com/reviews/albums/5339-bangz...    5.0   \n",
       "5341      http://pitchfork.com/reviews/albums/5341-three...    7.8   \n",
       "5342      http://pitchfork.com/reviews/albums/5342-city-...    8.0   \n",
       "\n",
       "          best_new_music                      author          author_type  \\\n",
       "reviewid                                                                    \n",
       "1                      0                  marc hogan  senior staff writer   \n",
       "6                      0                   eric carr          contributor   \n",
       "11                     0                 joe tangari          contributor   \n",
       "31                     0             dominique leone          contributor   \n",
       "33                     0              ryan schreiber      editor-in-chief   \n",
       "...                  ...                         ...                  ...   \n",
       "5329                   0                  matt lemay          contributor   \n",
       "5334                   0  julianne escobedo shepherd          contributor   \n",
       "5339                   0                 peter macia          contributor   \n",
       "5341                   0                 joe tangari          contributor   \n",
       "5342                   0                 ryan dombal        senior editor   \n",
       "\n",
       "            pub_date  pub_weekday  pub_day  pub_month  pub_year  \n",
       "reviewid                                                         \n",
       "1         2004-08-30            0       30          8      2004  \n",
       "6         2003-04-08            1        8          4      2003  \n",
       "11        2002-11-04            0        4         11      2002  \n",
       "31        2002-11-20            2       20         11      2002  \n",
       "33        2000-12-31            6       31         12      2000  \n",
       "...              ...          ...      ...        ...       ...  \n",
       "5329      2002-04-08            0        8          4      2002  \n",
       "5334      2003-04-07            0        7          4      2003  \n",
       "5339      2004-12-07            1        7         12      2004  \n",
       "5341      2002-11-26            1       26         11      2002  \n",
       "5342      2005-03-02            2        2          3      2005  \n",
       "\n",
       "[1000 rows x 12 columns], keys=Keys(primary_keys=['reviewid'], foreign_keys={})), 'artists': Table(data=                   artist\n",
       "reviewid                 \n",
       "1               aberfeldy\n",
       "6                aarktica\n",
       "11               aberdeen\n",
       "31                 action\n",
       "33           actionslacks\n",
       "...                   ...\n",
       "5329                mirah\n",
       "5334           pete miser\n",
       "5339      mix master mike\n",
       "5341          mobius band\n",
       "5342          mobius band\n",
       "\n",
       "[1000 rows x 1 columns], keys=Keys(primary_keys=[], foreign_keys={'reviews': ('reviewid', 'reviewid')})), 'content': Table(data=                                                    content\n",
       "reviewid                                                   \n",
       "1         Aberfeldy recorded their debut, Young Forever,...\n",
       "6         Can there be any purpose behind a master's deg...\n",
       "11        If you caught this little blip in the mid-90s,...\n",
       "31        If The Action were so great, why haven't you h...\n",
       "33        The Self-Starter Foundation imprint is far fro...\n",
       "...                                                     ...\n",
       "5329      It's pretty sorry what passes for intimacy in ...\n",
       "5334      I have a gigantic problem with people who desc...\n",
       "5339      Listening to most turntablism albums is like p...\n",
       "5341      Opening bands have one of the hardest jobs in ...\n",
       "5342      Hailing from the sleepy, made-up sounding Shut...\n",
       "\n",
       "[1000 rows x 1 columns], keys=Keys(primary_keys=[], foreign_keys={'reviews': ('reviewid', 'reviewid')})), 'genres': Table(data=               genre\n",
       "reviewid            \n",
       "1               rock\n",
       "6         electronic\n",
       "11              rock\n",
       "31             metal\n",
       "33              rock\n",
       "...              ...\n",
       "5329            rock\n",
       "5334             rap\n",
       "5339      electronic\n",
       "5341            rock\n",
       "5342            rock\n",
       "\n",
       "[1000 rows x 1 columns], keys=Keys(primary_keys=[], foreign_keys={'reviews': ('reviewid', 'reviewid')})), 'labels': Table(data=                            label\n",
       "reviewid                         \n",
       "1                     rough trade\n",
       "6                          silber\n",
       "11                 better looking\n",
       "31                        parasol\n",
       "33        self-starter foundation\n",
       "...                           ...\n",
       "5329                            k\n",
       "5334                      ho-made\n",
       "5339                     immortal\n",
       "5341           prescription rails\n",
       "5342                      ghostly\n",
       "\n",
       "[1000 rows x 1 columns], keys=Keys(primary_keys=[], foreign_keys={'reviews': ('reviewid', 'reviewid')})), 'years': Table(data=          year\n",
       "reviewid      \n",
       "1         2004\n",
       "6         2003\n",
       "11        2002\n",
       "31        2002\n",
       "33        2001\n",
       "...        ...\n",
       "5329      2002\n",
       "5334      2003\n",
       "5339      2004\n",
       "5341      2002\n",
       "5342      2005\n",
       "\n",
       "[1000 rows x 1 columns], keys=Keys(primary_keys=[], foreign_keys={'reviews': ('reviewid', 'reviewid')}))})"
      ]
     },
     "execution_count": 14,
     "metadata": {},
     "output_type": "execute_result"
    }
   ],
   "execution_count": 14
  },
  {
   "metadata": {
    "ExecuteTime": {
     "end_time": "2024-06-18T22:02:35.918075Z",
     "start_time": "2024-06-18T22:02:35.915531Z"
    }
   },
   "cell_type": "code",
   "source": "",
   "id": "a0c289e80d3a3a46",
   "outputs": [],
   "execution_count": 14
  },
  {
   "metadata": {
    "ExecuteTime": {
     "end_time": "2024-06-18T22:02:35.920296Z",
     "start_time": "2024-06-18T22:02:35.918075Z"
    }
   },
   "cell_type": "code",
   "source": "",
   "id": "3956f5962b8c9339",
   "outputs": [],
   "execution_count": 14
  },
  {
   "metadata": {
    "ExecuteTime": {
     "end_time": "2024-06-18T22:02:35.922441Z",
     "start_time": "2024-06-18T22:02:35.920296Z"
    }
   },
   "cell_type": "code",
   "source": "",
   "id": "68963dcd938eb9b3",
   "outputs": [],
   "execution_count": 14
  },
  {
   "metadata": {
    "ExecuteTime": {
     "end_time": "2024-06-18T22:02:35.924438Z",
     "start_time": "2024-06-18T22:02:35.922441Z"
    }
   },
   "cell_type": "code",
   "source": "",
   "id": "635a6451281467c3",
   "outputs": [],
   "execution_count": 14
  },
  {
   "metadata": {
    "ExecuteTime": {
     "end_time": "2024-06-18T22:02:35.926352Z",
     "start_time": "2024-06-18T22:02:35.924438Z"
    }
   },
   "cell_type": "code",
   "source": "",
   "id": "3117555e382af122",
   "outputs": [],
   "execution_count": 14
  },
  {
   "metadata": {},
   "cell_type": "markdown",
   "source": [
    "### Wnioski:\n",
    "- ...\n",
    "\n",
    "### Co się nauczyliśmy:\n",
    "- Jak działają poszczególne struktury danych. Jakie mają operacje wstawianie / usuwania itd.:\n",
    "    - ASA\n",
    "    - MAGN\n",
    "    - B-Drzewa\n",
    "- Jak przeprowadzić uczenie / predykcję dla MAGN.\n",
    "- Jak zrobić transformatę arbitralnej bazy danych do MAGN.\n",
    "- Jak pracować z bazą danych typu SQLite przy pomocy Pythona:\n",
    "    - Jak utworzyć klucze główne, obce dla tabel, już wcześniej stworzonych.\n",
    "    - Jak dostać jakie kolumny, tabele ma baza danych (meta dane o schemacie bazy).\n",
    "- Wizualizacje przy pomocy Graphviza MAGN (Jak działa Graphviz i jak go użyć do wizualizacji).\n",
    "- Jak w PyCharm wygenerować diagram ERD dla bazy danych.\n",
    "- Jak działa i jak zaimplementować sortowanie topologiczne.\n",
    "- Jak poprawnie stworzyć package w python- ie."
   ],
   "id": "3cf86755aa946836"
  },
  {
   "metadata": {},
   "cell_type": "markdown",
   "source": [
    "### Źródła:\n",
    "\n",
    "Wykorzystane przez nas materiały / artykuły niezbędne do stworzenia tego projektu.\n",
    "- Construction and Training of Multi-Associative Graph Networks, Adrian Horzyk, Daniel Bulanda, and Janusz A. Starzyk\n",
    "- Associative Data Structures and Associative Neural Graphs, Adrian Horzyk [LINK](https://home.agh.edu.pl/~horzyk/lectures/ci/CI-AssociativeNeuralGraphs.pdf)\n",
    "- ASA-graphs for efficient data representation and processing [LINK](https://sciendo.com/article/10.34768/amcs-2020-0053)\n",
    "- How to Use Associative Knowledge Graphs to Build Efficient Knowledge Models [LINK](https://grapeup.com/blog/associative-knowledge-graphs)\n",
    "- Building ASA Graphs [LINK](https://youtube.com/watch?v=K1a2Bk8NrYQ&si=n5OPz9_Em5TVgX_2)"
   ],
   "id": "48272343db519272"
  }
 ],
 "metadata": {
  "kernelspec": {
   "name": "gigsn",
   "language": "python",
   "display_name": "GiGSN"
  },
  "language_info": {
   "codemirror_mode": {
    "name": "ipython",
    "version": 2
   },
   "file_extension": ".py",
   "mimetype": "text/x-python",
   "name": "python",
   "nbconvert_exporter": "python",
   "pygments_lexer": "ipython2",
   "version": "2.7.6"
  }
 },
 "nbformat": 4,
 "nbformat_minor": 5
}
