{
 "cells": [
  {
   "metadata": {},
   "cell_type": "markdown",
   "source": [
    "# Projekt MAGN\n",
    "\n",
    "### Autorzy:\n",
    "\n",
    "- Szymon Jurecki\n",
    "- Dominik Breksa"
   ],
   "id": "13be8f19b56bc48d"
  },
  {
   "cell_type": "code",
   "id": "initial_id",
   "metadata": {
    "collapsed": true,
    "ExecuteTime": {
     "end_time": "2024-06-17T12:23:20.332491Z",
     "start_time": "2024-06-17T12:23:07.895150Z"
    }
   },
   "source": [
    "%pip install .\n",
    "%pip install pandas\n",
    "%pip install numpy\n",
    "%pip install kaggle"
   ],
   "outputs": [
    {
     "name": "stdout",
     "output_type": "stream",
     "text": [
      "Processing c:\\users\\domin\\pycharmprojects\\ggsn---magn\n",
      "  Installing build dependencies: started\n",
      "  Installing build dependencies: finished with status 'done'\n",
      "  Getting requirements to build wheel: started\n",
      "  Getting requirements to build wheel: finished with status 'done'\n",
      "  Installing backend dependencies: started\n",
      "  Installing backend dependencies: finished with status 'done'\n",
      "  Preparing metadata (pyproject.toml): started\n",
      "  Preparing metadata (pyproject.toml): finished with status 'done'\n",
      "Requirement already satisfied: anyio==4.3.0 in c:\\users\\domin\\pycharmprojects\\ggsn---magn\\.venv\\lib\\site-packages (from magn==1.0.0.0) (4.3.0)\n",
      "Requirement already satisfied: argon2-cffi==23.1.0 in c:\\users\\domin\\pycharmprojects\\ggsn---magn\\.venv\\lib\\site-packages (from magn==1.0.0.0) (23.1.0)\n",
      "Requirement already satisfied: argon2-cffi-bindings==21.2.0 in c:\\users\\domin\\pycharmprojects\\ggsn---magn\\.venv\\lib\\site-packages (from magn==1.0.0.0) (21.2.0)\n",
      "Requirement already satisfied: arrow==1.3.0 in c:\\users\\domin\\pycharmprojects\\ggsn---magn\\.venv\\lib\\site-packages (from magn==1.0.0.0) (1.3.0)\n",
      "Requirement already satisfied: astroid==3.2.2 in c:\\users\\domin\\pycharmprojects\\ggsn---magn\\.venv\\lib\\site-packages (from magn==1.0.0.0) (3.2.2)\n",
      "Requirement already satisfied: asttokens==2.4.1 in c:\\users\\domin\\pycharmprojects\\ggsn---magn\\.venv\\lib\\site-packages (from magn==1.0.0.0) (2.4.1)\n",
      "Requirement already satisfied: async-lru==2.0.4 in c:\\users\\domin\\pycharmprojects\\ggsn---magn\\.venv\\lib\\site-packages (from magn==1.0.0.0) (2.0.4)\n",
      "Requirement already satisfied: attrs==23.2.0 in c:\\users\\domin\\pycharmprojects\\ggsn---magn\\.venv\\lib\\site-packages (from magn==1.0.0.0) (23.2.0)\n",
      "Requirement already satisfied: Babel==2.15.0 in c:\\users\\domin\\pycharmprojects\\ggsn---magn\\.venv\\lib\\site-packages (from magn==1.0.0.0) (2.15.0)\n",
      "Requirement already satisfied: beautifulsoup4==4.12.3 in c:\\users\\domin\\pycharmprojects\\ggsn---magn\\.venv\\lib\\site-packages (from magn==1.0.0.0) (4.12.3)\n",
      "Requirement already satisfied: bleach==6.1.0 in c:\\users\\domin\\pycharmprojects\\ggsn---magn\\.venv\\lib\\site-packages (from magn==1.0.0.0) (6.1.0)\n",
      "Requirement already satisfied: build==1.2.1 in c:\\users\\domin\\pycharmprojects\\ggsn---magn\\.venv\\lib\\site-packages (from magn==1.0.0.0) (1.2.1)\n",
      "Requirement already satisfied: certifi==2024.2.2 in c:\\users\\domin\\pycharmprojects\\ggsn---magn\\.venv\\lib\\site-packages (from magn==1.0.0.0) (2024.2.2)\n",
      "Requirement already satisfied: cffi==1.16.0 in c:\\users\\domin\\pycharmprojects\\ggsn---magn\\.venv\\lib\\site-packages (from magn==1.0.0.0) (1.16.0)\n",
      "Requirement already satisfied: charset-normalizer==3.3.2 in c:\\users\\domin\\pycharmprojects\\ggsn---magn\\.venv\\lib\\site-packages (from magn==1.0.0.0) (3.3.2)\n",
      "Requirement already satisfied: colorama==0.4.6 in c:\\users\\domin\\pycharmprojects\\ggsn---magn\\.venv\\lib\\site-packages (from magn==1.0.0.0) (0.4.6)\n",
      "Requirement already satisfied: comm==0.2.2 in c:\\users\\domin\\pycharmprojects\\ggsn---magn\\.venv\\lib\\site-packages (from magn==1.0.0.0) (0.2.2)\n",
      "Requirement already satisfied: contourpy==1.2.1 in c:\\users\\domin\\pycharmprojects\\ggsn---magn\\.venv\\lib\\site-packages (from magn==1.0.0.0) (1.2.1)\n",
      "Requirement already satisfied: cycler==0.12.1 in c:\\users\\domin\\pycharmprojects\\ggsn---magn\\.venv\\lib\\site-packages (from magn==1.0.0.0) (0.12.1)\n",
      "Requirement already satisfied: debugpy==1.8.1 in c:\\users\\domin\\pycharmprojects\\ggsn---magn\\.venv\\lib\\site-packages (from magn==1.0.0.0) (1.8.1)\n",
      "Requirement already satisfied: decorator==5.1.1 in c:\\users\\domin\\pycharmprojects\\ggsn---magn\\.venv\\lib\\site-packages (from magn==1.0.0.0) (5.1.1)\n",
      "Requirement already satisfied: defusedxml==0.7.1 in c:\\users\\domin\\pycharmprojects\\ggsn---magn\\.venv\\lib\\site-packages (from magn==1.0.0.0) (0.7.1)\n",
      "Requirement already satisfied: dill==0.3.8 in c:\\users\\domin\\pycharmprojects\\ggsn---magn\\.venv\\lib\\site-packages (from magn==1.0.0.0) (0.3.8)\n",
      "Requirement already satisfied: executing==2.0.1 in c:\\users\\domin\\pycharmprojects\\ggsn---magn\\.venv\\lib\\site-packages (from magn==1.0.0.0) (2.0.1)\n",
      "Requirement already satisfied: fastjsonschema==2.19.1 in c:\\users\\domin\\pycharmprojects\\ggsn---magn\\.venv\\lib\\site-packages (from magn==1.0.0.0) (2.19.1)\n",
      "Requirement already satisfied: fonttools==4.51.0 in c:\\users\\domin\\pycharmprojects\\ggsn---magn\\.venv\\lib\\site-packages (from magn==1.0.0.0) (4.51.0)\n",
      "Requirement already satisfied: fqdn==1.5.1 in c:\\users\\domin\\pycharmprojects\\ggsn---magn\\.venv\\lib\\site-packages (from magn==1.0.0.0) (1.5.1)\n",
      "Requirement already satisfied: h11==0.14.0 in c:\\users\\domin\\pycharmprojects\\ggsn---magn\\.venv\\lib\\site-packages (from magn==1.0.0.0) (0.14.0)\n",
      "Requirement already satisfied: httpcore==1.0.5 in c:\\users\\domin\\pycharmprojects\\ggsn---magn\\.venv\\lib\\site-packages (from magn==1.0.0.0) (1.0.5)\n",
      "Requirement already satisfied: httpx==0.27.0 in c:\\users\\domin\\pycharmprojects\\ggsn---magn\\.venv\\lib\\site-packages (from magn==1.0.0.0) (0.27.0)\n",
      "Requirement already satisfied: idna==3.7 in c:\\users\\domin\\pycharmprojects\\ggsn---magn\\.venv\\lib\\site-packages (from magn==1.0.0.0) (3.7)\n",
      "Requirement already satisfied: ipykernel==6.29.4 in c:\\users\\domin\\pycharmprojects\\ggsn---magn\\.venv\\lib\\site-packages (from magn==1.0.0.0) (6.29.4)\n",
      "Requirement already satisfied: ipython==8.24.0 in c:\\users\\domin\\pycharmprojects\\ggsn---magn\\.venv\\lib\\site-packages (from magn==1.0.0.0) (8.24.0)\n",
      "Requirement already satisfied: ipywidgets==8.1.2 in c:\\users\\domin\\pycharmprojects\\ggsn---magn\\.venv\\lib\\site-packages (from magn==1.0.0.0) (8.1.2)\n",
      "Requirement already satisfied: isoduration==20.11.0 in c:\\users\\domin\\pycharmprojects\\ggsn---magn\\.venv\\lib\\site-packages (from magn==1.0.0.0) (20.11.0)\n",
      "Requirement already satisfied: isort==5.13.2 in c:\\users\\domin\\pycharmprojects\\ggsn---magn\\.venv\\lib\\site-packages (from magn==1.0.0.0) (5.13.2)\n",
      "Requirement already satisfied: jedi==0.19.1 in c:\\users\\domin\\pycharmprojects\\ggsn---magn\\.venv\\lib\\site-packages (from magn==1.0.0.0) (0.19.1)\n",
      "Requirement already satisfied: Jinja2==3.1.4 in c:\\users\\domin\\pycharmprojects\\ggsn---magn\\.venv\\lib\\site-packages (from magn==1.0.0.0) (3.1.4)\n",
      "Requirement already satisfied: json5==0.9.25 in c:\\users\\domin\\pycharmprojects\\ggsn---magn\\.venv\\lib\\site-packages (from magn==1.0.0.0) (0.9.25)\n",
      "Requirement already satisfied: jsonpointer==2.4 in c:\\users\\domin\\pycharmprojects\\ggsn---magn\\.venv\\lib\\site-packages (from magn==1.0.0.0) (2.4)\n",
      "Requirement already satisfied: jsonschema==4.22.0 in c:\\users\\domin\\pycharmprojects\\ggsn---magn\\.venv\\lib\\site-packages (from magn==1.0.0.0) (4.22.0)\n",
      "Requirement already satisfied: jsonschema-specifications==2023.12.1 in c:\\users\\domin\\pycharmprojects\\ggsn---magn\\.venv\\lib\\site-packages (from magn==1.0.0.0) (2023.12.1)\n",
      "Requirement already satisfied: jupyter==1.0.0 in c:\\users\\domin\\pycharmprojects\\ggsn---magn\\.venv\\lib\\site-packages (from magn==1.0.0.0) (1.0.0)\n",
      "Requirement already satisfied: jupyter-console==6.6.3 in c:\\users\\domin\\pycharmprojects\\ggsn---magn\\.venv\\lib\\site-packages (from magn==1.0.0.0) (6.6.3)\n",
      "Requirement already satisfied: jupyter-events==0.10.0 in c:\\users\\domin\\pycharmprojects\\ggsn---magn\\.venv\\lib\\site-packages (from magn==1.0.0.0) (0.10.0)\n",
      "Requirement already satisfied: jupyter-lsp==2.2.5 in c:\\users\\domin\\pycharmprojects\\ggsn---magn\\.venv\\lib\\site-packages (from magn==1.0.0.0) (2.2.5)\n",
      "Requirement already satisfied: jupyter-client==8.6.1 in c:\\users\\domin\\pycharmprojects\\ggsn---magn\\.venv\\lib\\site-packages (from magn==1.0.0.0) (8.6.1)\n",
      "Requirement already satisfied: jupyter-core==5.7.2 in c:\\users\\domin\\pycharmprojects\\ggsn---magn\\.venv\\lib\\site-packages (from magn==1.0.0.0) (5.7.2)\n",
      "Requirement already satisfied: jupyter-server==2.14.0 in c:\\users\\domin\\pycharmprojects\\ggsn---magn\\.venv\\lib\\site-packages (from magn==1.0.0.0) (2.14.0)\n",
      "Requirement already satisfied: jupyter-server-terminals==0.5.3 in c:\\users\\domin\\pycharmprojects\\ggsn---magn\\.venv\\lib\\site-packages (from magn==1.0.0.0) (0.5.3)\n",
      "Requirement already satisfied: jupyterlab==4.2.0 in c:\\users\\domin\\pycharmprojects\\ggsn---magn\\.venv\\lib\\site-packages (from magn==1.0.0.0) (4.2.0)\n",
      "Requirement already satisfied: jupyterlab-pygments==0.3.0 in c:\\users\\domin\\pycharmprojects\\ggsn---magn\\.venv\\lib\\site-packages (from magn==1.0.0.0) (0.3.0)\n",
      "Requirement already satisfied: jupyterlab-server==2.27.1 in c:\\users\\domin\\pycharmprojects\\ggsn---magn\\.venv\\lib\\site-packages (from magn==1.0.0.0) (2.27.1)\n",
      "Requirement already satisfied: jupyterlab-widgets==3.0.10 in c:\\users\\domin\\pycharmprojects\\ggsn---magn\\.venv\\lib\\site-packages (from magn==1.0.0.0) (3.0.10)\n",
      "Requirement already satisfied: kaggle==1.6.14 in c:\\users\\domin\\pycharmprojects\\ggsn---magn\\.venv\\lib\\site-packages (from magn==1.0.0.0) (1.6.14)\n",
      "Requirement already satisfied: kiwisolver==1.4.5 in c:\\users\\domin\\pycharmprojects\\ggsn---magn\\.venv\\lib\\site-packages (from magn==1.0.0.0) (1.4.5)\n",
      "Requirement already satisfied: MarkupSafe==2.1.5 in c:\\users\\domin\\pycharmprojects\\ggsn---magn\\.venv\\lib\\site-packages (from magn==1.0.0.0) (2.1.5)\n",
      "Requirement already satisfied: matplotlib==3.9.0 in c:\\users\\domin\\pycharmprojects\\ggsn---magn\\.venv\\lib\\site-packages (from magn==1.0.0.0) (3.9.0)\n",
      "Requirement already satisfied: matplotlib-inline==0.1.7 in c:\\users\\domin\\pycharmprojects\\ggsn---magn\\.venv\\lib\\site-packages (from magn==1.0.0.0) (0.1.7)\n",
      "Requirement already satisfied: mccabe==0.7.0 in c:\\users\\domin\\pycharmprojects\\ggsn---magn\\.venv\\lib\\site-packages (from magn==1.0.0.0) (0.7.0)\n",
      "Requirement already satisfied: mistune==3.0.2 in c:\\users\\domin\\pycharmprojects\\ggsn---magn\\.venv\\lib\\site-packages (from magn==1.0.0.0) (3.0.2)\n",
      "Requirement already satisfied: nbclient==0.10.0 in c:\\users\\domin\\pycharmprojects\\ggsn---magn\\.venv\\lib\\site-packages (from magn==1.0.0.0) (0.10.0)\n",
      "Requirement already satisfied: nbconvert==7.16.4 in c:\\users\\domin\\pycharmprojects\\ggsn---magn\\.venv\\lib\\site-packages (from magn==1.0.0.0) (7.16.4)\n",
      "Requirement already satisfied: nbformat==5.10.4 in c:\\users\\domin\\pycharmprojects\\ggsn---magn\\.venv\\lib\\site-packages (from magn==1.0.0.0) (5.10.4)\n",
      "Requirement already satisfied: nest-asyncio==1.6.0 in c:\\users\\domin\\pycharmprojects\\ggsn---magn\\.venv\\lib\\site-packages (from magn==1.0.0.0) (1.6.0)\n",
      "Requirement already satisfied: networkx==3.3 in c:\\users\\domin\\pycharmprojects\\ggsn---magn\\.venv\\lib\\site-packages (from magn==1.0.0.0) (3.3)\n",
      "Requirement already satisfied: notebook==7.2.0 in c:\\users\\domin\\pycharmprojects\\ggsn---magn\\.venv\\lib\\site-packages (from magn==1.0.0.0) (7.2.0)\n",
      "Requirement already satisfied: notebook-shim==0.2.4 in c:\\users\\domin\\pycharmprojects\\ggsn---magn\\.venv\\lib\\site-packages (from magn==1.0.0.0) (0.2.4)\n",
      "Requirement already satisfied: numpy==1.26.4 in c:\\users\\domin\\pycharmprojects\\ggsn---magn\\.venv\\lib\\site-packages (from magn==1.0.0.0) (1.26.4)\n",
      "Requirement already satisfied: overrides==7.7.0 in c:\\users\\domin\\pycharmprojects\\ggsn---magn\\.venv\\lib\\site-packages (from magn==1.0.0.0) (7.7.0)\n",
      "Requirement already satisfied: packaging==24.0 in c:\\users\\domin\\pycharmprojects\\ggsn---magn\\.venv\\lib\\site-packages (from magn==1.0.0.0) (24.0)\n",
      "Requirement already satisfied: pandas==2.2.2 in c:\\users\\domin\\pycharmprojects\\ggsn---magn\\.venv\\lib\\site-packages (from magn==1.0.0.0) (2.2.2)\n",
      "Requirement already satisfied: pandocfilters==1.5.1 in c:\\users\\domin\\pycharmprojects\\ggsn---magn\\.venv\\lib\\site-packages (from magn==1.0.0.0) (1.5.1)\n",
      "Requirement already satisfied: parso==0.8.4 in c:\\users\\domin\\pycharmprojects\\ggsn---magn\\.venv\\lib\\site-packages (from magn==1.0.0.0) (0.8.4)\n",
      "Requirement already satisfied: pillow==10.3.0 in c:\\users\\domin\\pycharmprojects\\ggsn---magn\\.venv\\lib\\site-packages (from magn==1.0.0.0) (10.3.0)\n",
      "Requirement already satisfied: platformdirs==4.2.2 in c:\\users\\domin\\pycharmprojects\\ggsn---magn\\.venv\\lib\\site-packages (from magn==1.0.0.0) (4.2.2)\n",
      "Requirement already satisfied: prometheus-client==0.20.0 in c:\\users\\domin\\pycharmprojects\\ggsn---magn\\.venv\\lib\\site-packages (from magn==1.0.0.0) (0.20.0)\n",
      "Requirement already satisfied: prompt-toolkit==3.0.43 in c:\\users\\domin\\pycharmprojects\\ggsn---magn\\.venv\\lib\\site-packages (from magn==1.0.0.0) (3.0.43)\n",
      "Requirement already satisfied: psutil==5.9.8 in c:\\users\\domin\\pycharmprojects\\ggsn---magn\\.venv\\lib\\site-packages (from magn==1.0.0.0) (5.9.8)\n",
      "Requirement already satisfied: pure-eval==0.2.2 in c:\\users\\domin\\pycharmprojects\\ggsn---magn\\.venv\\lib\\site-packages (from magn==1.0.0.0) (0.2.2)\n",
      "Requirement already satisfied: pycparser==2.22 in c:\\users\\domin\\pycharmprojects\\ggsn---magn\\.venv\\lib\\site-packages (from magn==1.0.0.0) (2.22)\n",
      "Requirement already satisfied: Pygments==2.18.0 in c:\\users\\domin\\pycharmprojects\\ggsn---magn\\.venv\\lib\\site-packages (from magn==1.0.0.0) (2.18.0)\n",
      "Requirement already satisfied: pylint==3.2.3 in c:\\users\\domin\\pycharmprojects\\ggsn---magn\\.venv\\lib\\site-packages (from magn==1.0.0.0) (3.2.3)\n",
      "Requirement already satisfied: pyparsing==3.1.2 in c:\\users\\domin\\pycharmprojects\\ggsn---magn\\.venv\\lib\\site-packages (from magn==1.0.0.0) (3.1.2)\n",
      "Requirement already satisfied: pyproject-hooks==1.1.0 in c:\\users\\domin\\pycharmprojects\\ggsn---magn\\.venv\\lib\\site-packages (from magn==1.0.0.0) (1.1.0)\n",
      "Requirement already satisfied: python-dateutil==2.9.0.post0 in c:\\users\\domin\\pycharmprojects\\ggsn---magn\\.venv\\lib\\site-packages (from magn==1.0.0.0) (2.9.0.post0)\n",
      "Requirement already satisfied: python-json-logger==2.0.7 in c:\\users\\domin\\pycharmprojects\\ggsn---magn\\.venv\\lib\\site-packages (from magn==1.0.0.0) (2.0.7)\n",
      "Requirement already satisfied: python-slugify==8.0.4 in c:\\users\\domin\\pycharmprojects\\ggsn---magn\\.venv\\lib\\site-packages (from magn==1.0.0.0) (8.0.4)\n",
      "Requirement already satisfied: pytz==2024.1 in c:\\users\\domin\\pycharmprojects\\ggsn---magn\\.venv\\lib\\site-packages (from magn==1.0.0.0) (2024.1)\n",
      "Requirement already satisfied: pywin32==306 in c:\\users\\domin\\pycharmprojects\\ggsn---magn\\.venv\\lib\\site-packages (from magn==1.0.0.0) (306)\n",
      "Requirement already satisfied: pywinpty==2.0.13 in c:\\users\\domin\\pycharmprojects\\ggsn---magn\\.venv\\lib\\site-packages (from magn==1.0.0.0) (2.0.13)\n",
      "Requirement already satisfied: PyYAML==6.0.1 in c:\\users\\domin\\pycharmprojects\\ggsn---magn\\.venv\\lib\\site-packages (from magn==1.0.0.0) (6.0.1)\n",
      "Requirement already satisfied: pyzmq==26.0.3 in c:\\users\\domin\\pycharmprojects\\ggsn---magn\\.venv\\lib\\site-packages (from magn==1.0.0.0) (26.0.3)\n",
      "Requirement already satisfied: qtconsole==5.5.2 in c:\\users\\domin\\pycharmprojects\\ggsn---magn\\.venv\\lib\\site-packages (from magn==1.0.0.0) (5.5.2)\n",
      "Requirement already satisfied: QtPy==2.4.1 in c:\\users\\domin\\pycharmprojects\\ggsn---magn\\.venv\\lib\\site-packages (from magn==1.0.0.0) (2.4.1)\n",
      "Requirement already satisfied: referencing==0.35.1 in c:\\users\\domin\\pycharmprojects\\ggsn---magn\\.venv\\lib\\site-packages (from magn==1.0.0.0) (0.35.1)\n",
      "Requirement already satisfied: requests==2.32.2 in c:\\users\\domin\\pycharmprojects\\ggsn---magn\\.venv\\lib\\site-packages (from magn==1.0.0.0) (2.32.2)\n",
      "Requirement already satisfied: rfc3339-validator==0.1.4 in c:\\users\\domin\\pycharmprojects\\ggsn---magn\\.venv\\lib\\site-packages (from magn==1.0.0.0) (0.1.4)\n",
      "Requirement already satisfied: rfc3986-validator==0.1.1 in c:\\users\\domin\\pycharmprojects\\ggsn---magn\\.venv\\lib\\site-packages (from magn==1.0.0.0) (0.1.1)\n",
      "Requirement already satisfied: rpds-py==0.18.1 in c:\\users\\domin\\pycharmprojects\\ggsn---magn\\.venv\\lib\\site-packages (from magn==1.0.0.0) (0.18.1)\n",
      "Requirement already satisfied: Send2Trash==1.8.3 in c:\\users\\domin\\pycharmprojects\\ggsn---magn\\.venv\\lib\\site-packages (from magn==1.0.0.0) (1.8.3)\n",
      "Requirement already satisfied: setuptools==70.0.0 in c:\\users\\domin\\pycharmprojects\\ggsn---magn\\.venv\\lib\\site-packages (from magn==1.0.0.0) (70.0.0)\n",
      "Requirement already satisfied: six==1.16.0 in c:\\users\\domin\\pycharmprojects\\ggsn---magn\\.venv\\lib\\site-packages (from magn==1.0.0.0) (1.16.0)\n",
      "Requirement already satisfied: sniffio==1.3.1 in c:\\users\\domin\\pycharmprojects\\ggsn---magn\\.venv\\lib\\site-packages (from magn==1.0.0.0) (1.3.1)\n",
      "Requirement already satisfied: soupsieve==2.5 in c:\\users\\domin\\pycharmprojects\\ggsn---magn\\.venv\\lib\\site-packages (from magn==1.0.0.0) (2.5)\n",
      "Requirement already satisfied: stack-data==0.6.3 in c:\\users\\domin\\pycharmprojects\\ggsn---magn\\.venv\\lib\\site-packages (from magn==1.0.0.0) (0.6.3)\n",
      "Requirement already satisfied: terminado==0.18.1 in c:\\users\\domin\\pycharmprojects\\ggsn---magn\\.venv\\lib\\site-packages (from magn==1.0.0.0) (0.18.1)\n",
      "Requirement already satisfied: text-unidecode==1.3 in c:\\users\\domin\\pycharmprojects\\ggsn---magn\\.venv\\lib\\site-packages (from magn==1.0.0.0) (1.3)\n",
      "Requirement already satisfied: tinycss2==1.3.0 in c:\\users\\domin\\pycharmprojects\\ggsn---magn\\.venv\\lib\\site-packages (from magn==1.0.0.0) (1.3.0)\n",
      "Requirement already satisfied: tomlkit==0.12.5 in c:\\users\\domin\\pycharmprojects\\ggsn---magn\\.venv\\lib\\site-packages (from magn==1.0.0.0) (0.12.5)\n",
      "Requirement already satisfied: tornado==6.4 in c:\\users\\domin\\pycharmprojects\\ggsn---magn\\.venv\\lib\\site-packages (from magn==1.0.0.0) (6.4)\n",
      "Requirement already satisfied: tqdm==4.66.4 in c:\\users\\domin\\pycharmprojects\\ggsn---magn\\.venv\\lib\\site-packages (from magn==1.0.0.0) (4.66.4)\n",
      "Requirement already satisfied: traitlets==5.14.3 in c:\\users\\domin\\pycharmprojects\\ggsn---magn\\.venv\\lib\\site-packages (from magn==1.0.0.0) (5.14.3)\n",
      "Requirement already satisfied: types-python-dateutil==2.9.0.20240316 in c:\\users\\domin\\pycharmprojects\\ggsn---magn\\.venv\\lib\\site-packages (from magn==1.0.0.0) (2.9.0.20240316)\n",
      "Requirement already satisfied: tzdata==2024.1 in c:\\users\\domin\\pycharmprojects\\ggsn---magn\\.venv\\lib\\site-packages (from magn==1.0.0.0) (2024.1)\n",
      "Requirement already satisfied: uri-template==1.3.0 in c:\\users\\domin\\pycharmprojects\\ggsn---magn\\.venv\\lib\\site-packages (from magn==1.0.0.0) (1.3.0)\n",
      "Requirement already satisfied: urllib3==2.2.1 in c:\\users\\domin\\pycharmprojects\\ggsn---magn\\.venv\\lib\\site-packages (from magn==1.0.0.0) (2.2.1)\n",
      "Requirement already satisfied: wcwidth==0.2.13 in c:\\users\\domin\\pycharmprojects\\ggsn---magn\\.venv\\lib\\site-packages (from magn==1.0.0.0) (0.2.13)\n",
      "Requirement already satisfied: webcolors==1.13 in c:\\users\\domin\\pycharmprojects\\ggsn---magn\\.venv\\lib\\site-packages (from magn==1.0.0.0) (1.13)\n",
      "Requirement already satisfied: webencodings==0.5.1 in c:\\users\\domin\\pycharmprojects\\ggsn---magn\\.venv\\lib\\site-packages (from magn==1.0.0.0) (0.5.1)\n",
      "Requirement already satisfied: websocket-client==1.8.0 in c:\\users\\domin\\pycharmprojects\\ggsn---magn\\.venv\\lib\\site-packages (from magn==1.0.0.0) (1.8.0)\n",
      "Requirement already satisfied: widgetsnbextension==4.0.10 in c:\\users\\domin\\pycharmprojects\\ggsn---magn\\.venv\\lib\\site-packages (from magn==1.0.0.0) (4.0.10)\n",
      "Building wheels for collected packages: magn\n",
      "  Building wheel for magn (pyproject.toml): started\n",
      "  Building wheel for magn (pyproject.toml): finished with status 'done'\n",
      "  Created wheel for magn: filename=magn-1.0.0.0-py3-none-any.whl size=15110 sha256=97bdf82813e22313d7a96fb596737fd2c8fa45652283bbd75b4e78cbafa22731\n",
      "  Stored in directory: c:\\users\\domin\\appdata\\local\\pip\\cache\\wheels\\02\\69\\7a\\7a321fc99cdf850f17c5dbe96e53ef1e4b07adda9d5bd3d1f7\n",
      "Successfully built magn\n",
      "Installing collected packages: magn\n",
      "  Attempting uninstall: magn\n",
      "    Found existing installation: magn 1.0.0.0\n",
      "    Not uninstalling magn at c:\\users\\domin\\pycharmprojects\\ggsn---magn\\src, outside environment C:\\Users\\domin\\PycharmProjects\\GGSN---MAGN\\.venv\n",
      "    Can't uninstall 'magn'. No files were found to uninstall.\n",
      "Successfully installed magn-1.0.0.0\n",
      "Note: you may need to restart the kernel to use updated packages.\n"
     ]
    },
    {
     "name": "stderr",
     "output_type": "stream",
     "text": [
      "DEPRECATION: Loading egg at c:\\users\\domin\\pycharmprojects\\ggsn---magn\\.venv\\lib\\site-packages\\magn-1.0.0.0-py3.12.egg is deprecated. pip 24.3 will enforce this behaviour change. A possible replacement is to use pip for package installation.. Discussion can be found at https://github.com/pypa/pip/issues/12330\n"
     ]
    },
    {
     "name": "stdout",
     "output_type": "stream",
     "text": [
      "Requirement already satisfied: pandas in c:\\users\\domin\\pycharmprojects\\ggsn---magn\\.venv\\lib\\site-packages (2.2.2)\n",
      "Requirement already satisfied: numpy>=1.26.0 in c:\\users\\domin\\pycharmprojects\\ggsn---magn\\.venv\\lib\\site-packages (from pandas) (1.26.4)\n",
      "Requirement already satisfied: python-dateutil>=2.8.2 in c:\\users\\domin\\pycharmprojects\\ggsn---magn\\.venv\\lib\\site-packages (from pandas) (2.9.0.post0)\n",
      "Requirement already satisfied: pytz>=2020.1 in c:\\users\\domin\\pycharmprojects\\ggsn---magn\\.venv\\lib\\site-packages (from pandas) (2024.1)\n",
      "Requirement already satisfied: tzdata>=2022.7 in c:\\users\\domin\\pycharmprojects\\ggsn---magn\\.venv\\lib\\site-packages (from pandas) (2024.1)\n",
      "Requirement already satisfied: six>=1.5 in c:\\users\\domin\\pycharmprojects\\ggsn---magn\\.venv\\lib\\site-packages (from python-dateutil>=2.8.2->pandas) (1.16.0)\n",
      "Note: you may need to restart the kernel to use updated packages.\n"
     ]
    },
    {
     "name": "stderr",
     "output_type": "stream",
     "text": [
      "DEPRECATION: Loading egg at c:\\users\\domin\\pycharmprojects\\ggsn---magn\\.venv\\lib\\site-packages\\magn-1.0.0.0-py3.12.egg is deprecated. pip 24.3 will enforce this behaviour change. A possible replacement is to use pip for package installation.. Discussion can be found at https://github.com/pypa/pip/issues/12330\n"
     ]
    },
    {
     "name": "stdout",
     "output_type": "stream",
     "text": [
      "Requirement already satisfied: numpy in c:\\users\\domin\\pycharmprojects\\ggsn---magn\\.venv\\lib\\site-packages (1.26.4)\n",
      "Note: you may need to restart the kernel to use updated packages.\n"
     ]
    },
    {
     "name": "stderr",
     "output_type": "stream",
     "text": [
      "DEPRECATION: Loading egg at c:\\users\\domin\\pycharmprojects\\ggsn---magn\\.venv\\lib\\site-packages\\magn-1.0.0.0-py3.12.egg is deprecated. pip 24.3 will enforce this behaviour change. A possible replacement is to use pip for package installation.. Discussion can be found at https://github.com/pypa/pip/issues/12330\n"
     ]
    },
    {
     "name": "stdout",
     "output_type": "stream",
     "text": [
      "Requirement already satisfied: kaggle in c:\\users\\domin\\pycharmprojects\\ggsn---magn\\.venv\\lib\\site-packages (1.6.14)\n",
      "Requirement already satisfied: six>=1.10 in c:\\users\\domin\\pycharmprojects\\ggsn---magn\\.venv\\lib\\site-packages (from kaggle) (1.16.0)\n",
      "Requirement already satisfied: certifi>=2023.7.22 in c:\\users\\domin\\pycharmprojects\\ggsn---magn\\.venv\\lib\\site-packages (from kaggle) (2024.2.2)\n",
      "Requirement already satisfied: python-dateutil in c:\\users\\domin\\pycharmprojects\\ggsn---magn\\.venv\\lib\\site-packages (from kaggle) (2.9.0.post0)\n",
      "Requirement already satisfied: requests in c:\\users\\domin\\pycharmprojects\\ggsn---magn\\.venv\\lib\\site-packages (from kaggle) (2.32.2)\n",
      "Requirement already satisfied: tqdm in c:\\users\\domin\\pycharmprojects\\ggsn---magn\\.venv\\lib\\site-packages (from kaggle) (4.66.4)\n",
      "Requirement already satisfied: python-slugify in c:\\users\\domin\\pycharmprojects\\ggsn---magn\\.venv\\lib\\site-packages (from kaggle) (8.0.4)\n",
      "Requirement already satisfied: urllib3 in c:\\users\\domin\\pycharmprojects\\ggsn---magn\\.venv\\lib\\site-packages (from kaggle) (2.2.1)\n",
      "Requirement already satisfied: bleach in c:\\users\\domin\\pycharmprojects\\ggsn---magn\\.venv\\lib\\site-packages (from kaggle) (6.1.0)\n",
      "Requirement already satisfied: webencodings in c:\\users\\domin\\pycharmprojects\\ggsn---magn\\.venv\\lib\\site-packages (from bleach->kaggle) (0.5.1)\n",
      "Requirement already satisfied: text-unidecode>=1.3 in c:\\users\\domin\\pycharmprojects\\ggsn---magn\\.venv\\lib\\site-packages (from python-slugify->kaggle) (1.3)\n",
      "Requirement already satisfied: charset-normalizer<4,>=2 in c:\\users\\domin\\pycharmprojects\\ggsn---magn\\.venv\\lib\\site-packages (from requests->kaggle) (3.3.2)\n",
      "Requirement already satisfied: idna<4,>=2.5 in c:\\users\\domin\\pycharmprojects\\ggsn---magn\\.venv\\lib\\site-packages (from requests->kaggle) (3.7)\n",
      "Requirement already satisfied: colorama in c:\\users\\domin\\pycharmprojects\\ggsn---magn\\.venv\\lib\\site-packages (from tqdm->kaggle) (0.4.6)\n",
      "Note: you may need to restart the kernel to use updated packages.\n"
     ]
    },
    {
     "name": "stderr",
     "output_type": "stream",
     "text": [
      "DEPRECATION: Loading egg at c:\\users\\domin\\pycharmprojects\\ggsn---magn\\.venv\\lib\\site-packages\\magn-1.0.0.0-py3.12.egg is deprecated. pip 24.3 will enforce this behaviour change. A possible replacement is to use pip for package installation.. Discussion can be found at https://github.com/pypa/pip/issues/12330\n"
     ]
    }
   ],
   "execution_count": 1
  },
  {
   "cell_type": "markdown",
   "source": [
    "Pobranie oraz Przygotowanie Danych"
   ],
   "metadata": {
    "collapsed": false
   },
   "id": "1f6bb8bde81e4a6f"
  },
  {
   "cell_type": "code",
   "source": [
    "from pathlib import Path\n",
    "from typing import Final\n",
    "\n",
    "resources_dir: Final[Path] = Path('resources/data/')\n",
    "zip_data_file: Final[Path] = resources_dir.joinpath('pitchfork-data.zip')\n",
    "database_path: Final[Path]  = resources_dir.joinpath('database.sqlite')"
   ],
   "metadata": {
    "collapsed": false,
    "ExecuteTime": {
     "end_time": "2024-06-17T12:23:20.339855Z",
     "start_time": "2024-06-17T12:23:20.332491Z"
    }
   },
   "id": "d1c9901fc12cce66",
   "outputs": [],
   "execution_count": 2
  },
  {
   "metadata": {},
   "cell_type": "markdown",
   "source": [
    "Pobranie danych z platformy Kaggle\n",
    "\n",
    "[Link do danych z platformy Kaggle](https://www.kaggle.com/datasets/nolanbconaway/pitchfork-data)"
   ],
   "id": "ca200f82ccb7b864"
  },
  {
   "metadata": {
    "ExecuteTime": {
     "end_time": "2024-06-17T12:23:20.351874Z",
     "start_time": "2024-06-17T12:23:20.339855Z"
    }
   },
   "cell_type": "code",
   "source": [
    "from os.path import exists\n",
    "\n",
    "if not exists(zip_data_file):\n",
    "    !kaggle datasets download -d nolanbconaway/pitchfork-data -p resources/data"
   ],
   "id": "112c42936946007e",
   "outputs": [],
   "execution_count": 3
  },
  {
   "metadata": {},
   "cell_type": "markdown",
   "source": [
    "Rozpakowanie danych do odpowiedniego katalogu"
   ],
   "id": "c922333d59fb2927"
  },
  {
   "metadata": {
    "ExecuteTime": {
     "end_time": "2024-06-17T12:23:20.725722Z",
     "start_time": "2024-06-17T12:23:20.352878Z"
    }
   },
   "cell_type": "code",
   "source": [
    "from zipfile import ZipFile\n",
    "\n",
    "if not exists(database_path):\n",
    "    with ZipFile(zip_data_file, 'r') as zip_ref:\n",
    "        zip_ref.extractall(resources_dir)"
   ],
   "id": "ffe17589666c9475",
   "outputs": [],
   "execution_count": 4
  },
  {
   "metadata": {},
   "cell_type": "markdown",
   "source": [
    "Dodanie kluczy głównych i obcych do bazy danych, ponieważ nie zostały one dodane podczas tworzenia na platformie Kaggle, a jest to ważne podczas tworzenia MAGN."
   ],
   "id": "360e80bb10c27325"
  },
  {
   "metadata": {},
   "cell_type": "code",
   "source": [
    "from typing import List, Tuple\n",
    "import sqlite3\n",
    "\n",
    "def get_table_columns_types(db_cursor: sqlite3.Cursor, table_name: str) -> List[Tuple[str, str]]:\n",
    "    \"\"\"Returns a list of tuples containing the column name and data type of given table in a database.\"\"\"\n",
    "    \n",
    "    return list(map(\n",
    "        lambda x: (x[1], x[2]),\n",
    "        db_cursor.execute(f\"\"\"\n",
    "            PRAGMA\n",
    "                table_info({table_name});\n",
    "        \"\"\").fetchall(),\n",
    "    ))\n",
    "\n",
    "def delete_duplicates(db_cursor: sqlite3.Cursor, table_name: str, column_name: str) -> None:\n",
    "    \"\"\"Deletes duplicates from a given table column in a database.\"\"\"\n",
    "    \n",
    "    db_cursor.executescript(f\"\"\"\n",
    "        DELETE FROM\n",
    "            {table_name}\n",
    "        WHERE\n",
    "            {column_name} IN (\n",
    "                SELECT\n",
    "                    {column_name}\n",
    "                FROM\n",
    "                    {table_name}\n",
    "                GROUP BY\n",
    "                    {column_name}\n",
    "                HAVING\n",
    "                    COUNT(*) > 1\n",
    "            );\n",
    "    \"\"\")\n",
    "\n",
    "def create_table_with_primary_key(db_cursor: sqlite3.Cursor, table_name: str, temporary_table_name: str, column_name: str) -> None:\n",
    "    \"\"\"Creates a table with a primary key in a database.\"\"\"\n",
    "    \n",
    "    table_columns = get_table_columns_types(db_cursor, table_name)\n",
    "    \n",
    "    db_cursor.execute(f\"\"\"\n",
    "        CREATE TABLE {temporary_table_name} (\n",
    "            {\n",
    "                ', '.join(\n",
    "                    f'{column} {data_type}'\n",
    "                    if column != column_name\n",
    "                    else f'{column} {data_type} PRIMARY KEY'\n",
    "                    for column, data_type in table_columns\n",
    "                )\n",
    "            }\n",
    "        );\n",
    "    \"\"\")\n",
    "    \n",
    "def move_data_and_switch_tables(db_cursor: sqlite3.Cursor, table_name: str, temporary_table_name: str) -> None:\n",
    "    \"\"\"Moves data from a temporary table to the original table and switches the tables in a database.\"\"\"\n",
    "    \n",
    "    db_cursor.executescript(f\"\"\"\n",
    "        -- Move the data\n",
    "        INSERT INTO\n",
    "            {temporary_table_name}\n",
    "        SELECT\n",
    "            *\n",
    "        FROM\n",
    "            {table_name};\n",
    "        \n",
    "        -- Drop the old table\n",
    "        DROP TABLE\n",
    "            {table_name};\n",
    "        \n",
    "        -- Rename the new table\n",
    "        ALTER TABLE\n",
    "            {temporary_table_name}\n",
    "        RENAME TO\n",
    "            {table_name};\n",
    "    \"\"\")\n",
    "\n",
    "def add_primary_key(db_cursor: sqlite3.Cursor, table_name: str, column_name: str) -> None:\n",
    "    \"\"\"Adds a primary key to a given table column in a database.\"\"\"\n",
    "    temporary_table_name = f'{table_name}_'\n",
    "    \n",
    "    delete_duplicates(db_cursor, table_name, column_name)\n",
    "    create_table_with_primary_key(db_cursor, table_name, temporary_table_name, column_name)\n",
    "    move_data_and_switch_tables(db_cursor, table_name, temporary_table_name)\n",
    "\n",
    "def create_table_with_foreign_key(db_cursor: sqlite3.Cursor, table_name: str, column_name: str, foreign_table_name: str, foreign_column_name: str, temporary_foreign_table_name: str) -> None:\n",
    "    \"\"\"Creates a table with a foreign key in a database.\"\"\"\n",
    "\n",
    "    foreign_table_columns = get_table_columns_types(db_cursor, foreign_table_name)\n",
    "    \n",
    "    db_cursor.execute(f\"\"\"\n",
    "        CREATE TABLE {temporary_foreign_table_name} (\n",
    "            {\n",
    "            ', '.join(\n",
    "                f'{column} {data_type}'\n",
    "                for column, data_type in foreign_table_columns\n",
    "            )\n",
    "            },\n",
    "            CONSTRAINT fk_{foreign_table_name}_{foreign_column_name}\n",
    "                FOREIGN KEY\n",
    "                    ({foreign_column_name})\n",
    "                REFERENCES\n",
    "                    {table_name} ({column_name})\n",
    "        );\n",
    "    \"\"\")\n",
    "\n",
    "def add_foreign_key(db_cursor: sqlite3.Cursor, table_name: str, column_name: str, foreign_table_name: str, foreign_column_name: str) -> None:\n",
    "    \"\"\"Adds a foreign key to a given table column in a database.\"\"\"\n",
    "\n",
    "    temporary_foreign_table_name = f'{foreign_table_name}_'\n",
    "        \n",
    "    db_cursor.execute(f\"\"\"\n",
    "        PRAGMA\n",
    "            foreign_keys = OFF;\n",
    "    \"\"\")\n",
    "    \n",
    "    create_table_with_foreign_key(db_cursor, table_name, column_name, foreign_table_name, foreign_column_name, temporary_foreign_table_name)\n",
    "    move_data_and_switch_tables(db_cursor, foreign_table_name, temporary_foreign_table_name)\n",
    "\n",
    "    db_cursor.execute(f\"\"\"\n",
    "        PRAGMA\n",
    "            foreign_keys = ON;\n",
    "    \"\"\")"
   ],
   "id": "d79992ed27020211",
   "outputs": [],
   "execution_count": null
  },
  {
   "metadata": {},
   "cell_type": "code",
   "source": [
    "with sqlite3.connect(database_path) as conn:\n",
    "    cursor = conn.cursor()\n",
    "\n",
    "    cursor.execute(f\"\"\"BEGIN;\"\"\")\n",
    "    try:\n",
    "        add_primary_key(cursor, 'reviews', 'reviewid')\n",
    "\n",
    "        add_foreign_key(cursor, 'reviews', 'reviewid', 'artists', 'reviewid')\n",
    "        add_foreign_key(cursor, 'reviews', 'reviewid', 'content', 'reviewid')\n",
    "        add_foreign_key(cursor, 'reviews', 'reviewid', 'genres', 'reviewid')\n",
    "        add_foreign_key(cursor, 'reviews', 'reviewid', 'labels', 'reviewid')\n",
    "        add_foreign_key(cursor, 'reviews', 'reviewid', 'years', 'reviewid')\n",
    "    except Exception as error:\n",
    "        conn.rollback()\n",
    "        raise error\n",
    "    else:\n",
    "        conn.commit()"
   ],
   "id": "38fd4ac028fe0b1f",
   "outputs": [],
   "execution_count": null
  },
  {
   "metadata": {},
   "cell_type": "markdown",
   "source": [
    "![ERD Diagram for the database schema](docs/images/database_erd.png)"
   ],
   "id": "f6ce43c594a432f"
  },
  {
   "metadata": {},
   "cell_type": "code",
   "source": [
    "from magn.database.sqlite3 import get_table_names\n",
    "\n",
    "all_tables = get_table_names(database_path)\n",
    "\n",
    "all_tables"
   ],
   "id": "b4c96aa4268533ef",
   "outputs": [],
   "execution_count": null
  },
  {
   "metadata": {},
   "cell_type": "code",
   "source": [
    "from magn.database.sqlite3 import SQLite3KeysReader\n",
    "\n",
    "keys_reader = SQLite3KeysReader(database_path, all_tables)\n",
    "keys_reader.read()"
   ],
   "id": "850b84268716c77",
   "outputs": [],
   "execution_count": null
  },
  {
   "metadata": {},
   "cell_type": "code",
   "source": [
    "from magn.database.sqlite3 import SQLite3DataReader\n",
    "\n",
    "data_reader = SQLite3DataReader(database_path, all_tables, keys_reader.read())\n",
    "data_reader.read()"
   ],
   "id": "e5bb74773fbe6fc6",
   "outputs": [],
   "execution_count": null
  },
  {
   "metadata": {},
   "cell_type": "code",
   "source": [
    "dfs = data_reader.read()\n",
    "\n",
    "dfs['artists']"
   ],
   "id": "8f3992a59d4f64a8",
   "outputs": [],
   "execution_count": null
  },
  {
   "metadata": {},
   "cell_type": "code",
   "source": [
    "dfs['reviews']"
   ],
   "id": "e6437831a5df6514",
   "outputs": [],
   "execution_count": null
  },
  {
   "metadata": {},
   "cell_type": "code",
   "source": [
    "from magn.database.database import Database\n",
    "\n",
    "dataframe_database = Database.from_sqlite3(database_path)"
   ],
   "id": "15ddf9dcad08b926",
   "outputs": [],
   "execution_count": null
  },
  {
   "cell_type": "code",
   "source": [
    "from magn.database.topological_sort import TopologicalSorter\n",
    "\n",
    "sort_data = {\n",
    "    '0': ['1'],\n",
    "    '1': ['2'],\n",
    "    '2': [],\n",
    "    '3': ['1', '2']\n",
    "}\n",
    "\n",
    "topological_sort = TopologicalSorter()\n",
    "for x in topological_sort.sort(sort_data):\n",
    "    print(x)"
   ],
   "metadata": {
    "collapsed": false
   },
   "id": "b5037ac456e301b2",
   "outputs": [],
   "execution_count": null
  },
  {
   "metadata": {},
   "cell_type": "code",
   "source": "list(dataframe_database.sort())",
   "id": "ec2c65ed8c718106",
   "outputs": [],
   "execution_count": null
  },
  {
   "metadata": {},
   "cell_type": "code",
   "source": "dataframe_database",
   "id": "7b26e94e14977feb",
   "outputs": [],
   "execution_count": null
  },
  {
   "metadata": {},
   "cell_type": "code",
   "source": "dataframe_database['reviews'].data[dataframe_database['reviews'].data.columns[0]]",
   "id": "1f130c6c512ba5f3",
   "outputs": [],
   "execution_count": null
  },
  {
   "metadata": {},
   "cell_type": "code",
   "source": "dataframe_database.create_mock_target(\"reviews\")",
   "id": "e79e79eb5f7e90db",
   "outputs": [],
   "execution_count": null
  },
  {
   "metadata": {},
   "cell_type": "code",
   "source": "",
   "id": "b5c2d9d65d5f34e1",
   "outputs": [],
   "execution_count": null
  }
 ],
 "metadata": {
  "kernelspec": {
   "name": "gigsn",
   "language": "python",
   "display_name": "GiGSN"
  },
  "language_info": {
   "codemirror_mode": {
    "name": "ipython",
    "version": 2
   },
   "file_extension": ".py",
   "mimetype": "text/x-python",
   "name": "python",
   "nbconvert_exporter": "python",
   "pygments_lexer": "ipython2",
   "version": "2.7.6"
  }
 },
 "nbformat": 4,
 "nbformat_minor": 5
}
