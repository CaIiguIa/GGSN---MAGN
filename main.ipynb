{
 "cells": [
  {
   "metadata": {},
   "cell_type": "markdown",
   "source": [
    "# Projekt MAGN\n",
    "\n",
    "### Autorzy:\n",
    "\n",
    "- Szymon Jurecki\n",
    "- Dominik Breksa"
   ],
   "id": "13be8f19b56bc48d"
  },
  {
   "cell_type": "code",
   "id": "initial_id",
   "metadata": {
    "collapsed": true,
    "ExecuteTime": {
     "end_time": "2024-06-17T14:20:51.131349Z",
     "start_time": "2024-06-17T14:20:38.010987Z"
    }
   },
   "source": [
    "%pip install .\n",
    "%pip install pandas\n",
    "%pip install numpy\n",
    "%pip install kaggle"
   ],
   "outputs": [
    {
     "name": "stdout",
     "output_type": "stream",
     "text": [
      "Processing c:\\users\\domin\\pycharmprojects\\ggsn---magn\n",
      "  Installing build dependencies: started\n",
      "  Installing build dependencies: finished with status 'done'\n",
      "  Getting requirements to build wheel: started\n",
      "  Getting requirements to build wheel: finished with status 'done'\n",
      "  Installing backend dependencies: started\n",
      "  Installing backend dependencies: finished with status 'done'\n",
      "  Preparing metadata (pyproject.toml): started\n",
      "  Preparing metadata (pyproject.toml): finished with status 'done'\n",
      "Requirement already satisfied: anyio==4.3.0 in c:\\users\\domin\\pycharmprojects\\ggsn---magn\\.venv\\lib\\site-packages (from magn==1.0.0.0) (4.3.0)\n",
      "Requirement already satisfied: argon2-cffi==23.1.0 in c:\\users\\domin\\pycharmprojects\\ggsn---magn\\.venv\\lib\\site-packages (from magn==1.0.0.0) (23.1.0)\n",
      "Requirement already satisfied: argon2-cffi-bindings==21.2.0 in c:\\users\\domin\\pycharmprojects\\ggsn---magn\\.venv\\lib\\site-packages (from magn==1.0.0.0) (21.2.0)\n",
      "Requirement already satisfied: arrow==1.3.0 in c:\\users\\domin\\pycharmprojects\\ggsn---magn\\.venv\\lib\\site-packages (from magn==1.0.0.0) (1.3.0)\n",
      "Requirement already satisfied: astroid==3.2.2 in c:\\users\\domin\\pycharmprojects\\ggsn---magn\\.venv\\lib\\site-packages (from magn==1.0.0.0) (3.2.2)\n",
      "Requirement already satisfied: asttokens==2.4.1 in c:\\users\\domin\\pycharmprojects\\ggsn---magn\\.venv\\lib\\site-packages (from magn==1.0.0.0) (2.4.1)\n",
      "Requirement already satisfied: async-lru==2.0.4 in c:\\users\\domin\\pycharmprojects\\ggsn---magn\\.venv\\lib\\site-packages (from magn==1.0.0.0) (2.0.4)\n",
      "Requirement already satisfied: attrs==23.2.0 in c:\\users\\domin\\pycharmprojects\\ggsn---magn\\.venv\\lib\\site-packages (from magn==1.0.0.0) (23.2.0)\n",
      "Requirement already satisfied: Babel==2.15.0 in c:\\users\\domin\\pycharmprojects\\ggsn---magn\\.venv\\lib\\site-packages (from magn==1.0.0.0) (2.15.0)\n",
      "Requirement already satisfied: beautifulsoup4==4.12.3 in c:\\users\\domin\\pycharmprojects\\ggsn---magn\\.venv\\lib\\site-packages (from magn==1.0.0.0) (4.12.3)\n",
      "Requirement already satisfied: bleach==6.1.0 in c:\\users\\domin\\pycharmprojects\\ggsn---magn\\.venv\\lib\\site-packages (from magn==1.0.0.0) (6.1.0)\n",
      "Requirement already satisfied: build==1.2.1 in c:\\users\\domin\\pycharmprojects\\ggsn---magn\\.venv\\lib\\site-packages (from magn==1.0.0.0) (1.2.1)\n",
      "Requirement already satisfied: certifi==2024.2.2 in c:\\users\\domin\\pycharmprojects\\ggsn---magn\\.venv\\lib\\site-packages (from magn==1.0.0.0) (2024.2.2)\n",
      "Requirement already satisfied: cffi==1.16.0 in c:\\users\\domin\\pycharmprojects\\ggsn---magn\\.venv\\lib\\site-packages (from magn==1.0.0.0) (1.16.0)\n",
      "Requirement already satisfied: charset-normalizer==3.3.2 in c:\\users\\domin\\pycharmprojects\\ggsn---magn\\.venv\\lib\\site-packages (from magn==1.0.0.0) (3.3.2)\n",
      "Requirement already satisfied: colorama==0.4.6 in c:\\users\\domin\\pycharmprojects\\ggsn---magn\\.venv\\lib\\site-packages (from magn==1.0.0.0) (0.4.6)\n",
      "Requirement already satisfied: comm==0.2.2 in c:\\users\\domin\\pycharmprojects\\ggsn---magn\\.venv\\lib\\site-packages (from magn==1.0.0.0) (0.2.2)\n",
      "Requirement already satisfied: contourpy==1.2.1 in c:\\users\\domin\\pycharmprojects\\ggsn---magn\\.venv\\lib\\site-packages (from magn==1.0.0.0) (1.2.1)\n",
      "Requirement already satisfied: cycler==0.12.1 in c:\\users\\domin\\pycharmprojects\\ggsn---magn\\.venv\\lib\\site-packages (from magn==1.0.0.0) (0.12.1)\n",
      "Requirement already satisfied: debugpy==1.8.1 in c:\\users\\domin\\pycharmprojects\\ggsn---magn\\.venv\\lib\\site-packages (from magn==1.0.0.0) (1.8.1)\n",
      "Requirement already satisfied: decorator==5.1.1 in c:\\users\\domin\\pycharmprojects\\ggsn---magn\\.venv\\lib\\site-packages (from magn==1.0.0.0) (5.1.1)\n",
      "Requirement already satisfied: defusedxml==0.7.1 in c:\\users\\domin\\pycharmprojects\\ggsn---magn\\.venv\\lib\\site-packages (from magn==1.0.0.0) (0.7.1)\n",
      "Requirement already satisfied: dill==0.3.8 in c:\\users\\domin\\pycharmprojects\\ggsn---magn\\.venv\\lib\\site-packages (from magn==1.0.0.0) (0.3.8)\n",
      "Requirement already satisfied: executing==2.0.1 in c:\\users\\domin\\pycharmprojects\\ggsn---magn\\.venv\\lib\\site-packages (from magn==1.0.0.0) (2.0.1)\n",
      "Requirement already satisfied: fastjsonschema==2.19.1 in c:\\users\\domin\\pycharmprojects\\ggsn---magn\\.venv\\lib\\site-packages (from magn==1.0.0.0) (2.19.1)\n",
      "Requirement already satisfied: fonttools==4.51.0 in c:\\users\\domin\\pycharmprojects\\ggsn---magn\\.venv\\lib\\site-packages (from magn==1.0.0.0) (4.51.0)\n",
      "Requirement already satisfied: fqdn==1.5.1 in c:\\users\\domin\\pycharmprojects\\ggsn---magn\\.venv\\lib\\site-packages (from magn==1.0.0.0) (1.5.1)\n",
      "Requirement already satisfied: h11==0.14.0 in c:\\users\\domin\\pycharmprojects\\ggsn---magn\\.venv\\lib\\site-packages (from magn==1.0.0.0) (0.14.0)\n",
      "Requirement already satisfied: httpcore==1.0.5 in c:\\users\\domin\\pycharmprojects\\ggsn---magn\\.venv\\lib\\site-packages (from magn==1.0.0.0) (1.0.5)\n",
      "Requirement already satisfied: httpx==0.27.0 in c:\\users\\domin\\pycharmprojects\\ggsn---magn\\.venv\\lib\\site-packages (from magn==1.0.0.0) (0.27.0)\n",
      "Requirement already satisfied: idna==3.7 in c:\\users\\domin\\pycharmprojects\\ggsn---magn\\.venv\\lib\\site-packages (from magn==1.0.0.0) (3.7)\n",
      "Requirement already satisfied: ipykernel==6.29.4 in c:\\users\\domin\\pycharmprojects\\ggsn---magn\\.venv\\lib\\site-packages (from magn==1.0.0.0) (6.29.4)\n",
      "Requirement already satisfied: ipython==8.24.0 in c:\\users\\domin\\pycharmprojects\\ggsn---magn\\.venv\\lib\\site-packages (from magn==1.0.0.0) (8.24.0)\n",
      "Requirement already satisfied: ipywidgets==8.1.2 in c:\\users\\domin\\pycharmprojects\\ggsn---magn\\.venv\\lib\\site-packages (from magn==1.0.0.0) (8.1.2)\n",
      "Requirement already satisfied: isoduration==20.11.0 in c:\\users\\domin\\pycharmprojects\\ggsn---magn\\.venv\\lib\\site-packages (from magn==1.0.0.0) (20.11.0)\n",
      "Requirement already satisfied: isort==5.13.2 in c:\\users\\domin\\pycharmprojects\\ggsn---magn\\.venv\\lib\\site-packages (from magn==1.0.0.0) (5.13.2)\n",
      "Requirement already satisfied: jedi==0.19.1 in c:\\users\\domin\\pycharmprojects\\ggsn---magn\\.venv\\lib\\site-packages (from magn==1.0.0.0) (0.19.1)\n",
      "Requirement already satisfied: Jinja2==3.1.4 in c:\\users\\domin\\pycharmprojects\\ggsn---magn\\.venv\\lib\\site-packages (from magn==1.0.0.0) (3.1.4)\n",
      "Requirement already satisfied: json5==0.9.25 in c:\\users\\domin\\pycharmprojects\\ggsn---magn\\.venv\\lib\\site-packages (from magn==1.0.0.0) (0.9.25)\n",
      "Requirement already satisfied: jsonpointer==2.4 in c:\\users\\domin\\pycharmprojects\\ggsn---magn\\.venv\\lib\\site-packages (from magn==1.0.0.0) (2.4)\n",
      "Requirement already satisfied: jsonschema==4.22.0 in c:\\users\\domin\\pycharmprojects\\ggsn---magn\\.venv\\lib\\site-packages (from magn==1.0.0.0) (4.22.0)\n",
      "Requirement already satisfied: jsonschema-specifications==2023.12.1 in c:\\users\\domin\\pycharmprojects\\ggsn---magn\\.venv\\lib\\site-packages (from magn==1.0.0.0) (2023.12.1)\n",
      "Requirement already satisfied: jupyter==1.0.0 in c:\\users\\domin\\pycharmprojects\\ggsn---magn\\.venv\\lib\\site-packages (from magn==1.0.0.0) (1.0.0)\n",
      "Requirement already satisfied: jupyter-console==6.6.3 in c:\\users\\domin\\pycharmprojects\\ggsn---magn\\.venv\\lib\\site-packages (from magn==1.0.0.0) (6.6.3)\n",
      "Requirement already satisfied: jupyter-events==0.10.0 in c:\\users\\domin\\pycharmprojects\\ggsn---magn\\.venv\\lib\\site-packages (from magn==1.0.0.0) (0.10.0)\n",
      "Requirement already satisfied: jupyter-lsp==2.2.5 in c:\\users\\domin\\pycharmprojects\\ggsn---magn\\.venv\\lib\\site-packages (from magn==1.0.0.0) (2.2.5)\n",
      "Requirement already satisfied: jupyter-client==8.6.1 in c:\\users\\domin\\pycharmprojects\\ggsn---magn\\.venv\\lib\\site-packages (from magn==1.0.0.0) (8.6.1)\n",
      "Requirement already satisfied: jupyter-core==5.7.2 in c:\\users\\domin\\pycharmprojects\\ggsn---magn\\.venv\\lib\\site-packages (from magn==1.0.0.0) (5.7.2)\n",
      "Requirement already satisfied: jupyter-server==2.14.0 in c:\\users\\domin\\pycharmprojects\\ggsn---magn\\.venv\\lib\\site-packages (from magn==1.0.0.0) (2.14.0)\n",
      "Requirement already satisfied: jupyter-server-terminals==0.5.3 in c:\\users\\domin\\pycharmprojects\\ggsn---magn\\.venv\\lib\\site-packages (from magn==1.0.0.0) (0.5.3)\n",
      "Requirement already satisfied: jupyterlab==4.2.0 in c:\\users\\domin\\pycharmprojects\\ggsn---magn\\.venv\\lib\\site-packages (from magn==1.0.0.0) (4.2.0)\n",
      "Requirement already satisfied: jupyterlab-pygments==0.3.0 in c:\\users\\domin\\pycharmprojects\\ggsn---magn\\.venv\\lib\\site-packages (from magn==1.0.0.0) (0.3.0)\n",
      "Requirement already satisfied: jupyterlab-server==2.27.1 in c:\\users\\domin\\pycharmprojects\\ggsn---magn\\.venv\\lib\\site-packages (from magn==1.0.0.0) (2.27.1)\n",
      "Requirement already satisfied: jupyterlab-widgets==3.0.10 in c:\\users\\domin\\pycharmprojects\\ggsn---magn\\.venv\\lib\\site-packages (from magn==1.0.0.0) (3.0.10)\n",
      "Requirement already satisfied: kaggle==1.6.14 in c:\\users\\domin\\pycharmprojects\\ggsn---magn\\.venv\\lib\\site-packages (from magn==1.0.0.0) (1.6.14)\n",
      "Requirement already satisfied: kiwisolver==1.4.5 in c:\\users\\domin\\pycharmprojects\\ggsn---magn\\.venv\\lib\\site-packages (from magn==1.0.0.0) (1.4.5)\n",
      "Requirement already satisfied: MarkupSafe==2.1.5 in c:\\users\\domin\\pycharmprojects\\ggsn---magn\\.venv\\lib\\site-packages (from magn==1.0.0.0) (2.1.5)\n",
      "Requirement already satisfied: matplotlib==3.9.0 in c:\\users\\domin\\pycharmprojects\\ggsn---magn\\.venv\\lib\\site-packages (from magn==1.0.0.0) (3.9.0)\n",
      "Requirement already satisfied: matplotlib-inline==0.1.7 in c:\\users\\domin\\pycharmprojects\\ggsn---magn\\.venv\\lib\\site-packages (from magn==1.0.0.0) (0.1.7)\n",
      "Requirement already satisfied: mccabe==0.7.0 in c:\\users\\domin\\pycharmprojects\\ggsn---magn\\.venv\\lib\\site-packages (from magn==1.0.0.0) (0.7.0)\n",
      "Requirement already satisfied: mistune==3.0.2 in c:\\users\\domin\\pycharmprojects\\ggsn---magn\\.venv\\lib\\site-packages (from magn==1.0.0.0) (3.0.2)\n",
      "Requirement already satisfied: nbclient==0.10.0 in c:\\users\\domin\\pycharmprojects\\ggsn---magn\\.venv\\lib\\site-packages (from magn==1.0.0.0) (0.10.0)\n",
      "Requirement already satisfied: nbconvert==7.16.4 in c:\\users\\domin\\pycharmprojects\\ggsn---magn\\.venv\\lib\\site-packages (from magn==1.0.0.0) (7.16.4)\n",
      "Requirement already satisfied: nbformat==5.10.4 in c:\\users\\domin\\pycharmprojects\\ggsn---magn\\.venv\\lib\\site-packages (from magn==1.0.0.0) (5.10.4)\n",
      "Requirement already satisfied: nest-asyncio==1.6.0 in c:\\users\\domin\\pycharmprojects\\ggsn---magn\\.venv\\lib\\site-packages (from magn==1.0.0.0) (1.6.0)\n",
      "Requirement already satisfied: networkx==3.3 in c:\\users\\domin\\pycharmprojects\\ggsn---magn\\.venv\\lib\\site-packages (from magn==1.0.0.0) (3.3)\n",
      "Requirement already satisfied: notebook==7.2.0 in c:\\users\\domin\\pycharmprojects\\ggsn---magn\\.venv\\lib\\site-packages (from magn==1.0.0.0) (7.2.0)\n",
      "Requirement already satisfied: notebook-shim==0.2.4 in c:\\users\\domin\\pycharmprojects\\ggsn---magn\\.venv\\lib\\site-packages (from magn==1.0.0.0) (0.2.4)\n",
      "Requirement already satisfied: numpy==1.26.4 in c:\\users\\domin\\pycharmprojects\\ggsn---magn\\.venv\\lib\\site-packages (from magn==1.0.0.0) (1.26.4)\n",
      "Requirement already satisfied: overrides==7.7.0 in c:\\users\\domin\\pycharmprojects\\ggsn---magn\\.venv\\lib\\site-packages (from magn==1.0.0.0) (7.7.0)\n",
      "Requirement already satisfied: packaging==24.0 in c:\\users\\domin\\pycharmprojects\\ggsn---magn\\.venv\\lib\\site-packages (from magn==1.0.0.0) (24.0)\n",
      "Requirement already satisfied: pandas==2.2.2 in c:\\users\\domin\\pycharmprojects\\ggsn---magn\\.venv\\lib\\site-packages (from magn==1.0.0.0) (2.2.2)\n",
      "Requirement already satisfied: pandocfilters==1.5.1 in c:\\users\\domin\\pycharmprojects\\ggsn---magn\\.venv\\lib\\site-packages (from magn==1.0.0.0) (1.5.1)\n",
      "Requirement already satisfied: parso==0.8.4 in c:\\users\\domin\\pycharmprojects\\ggsn---magn\\.venv\\lib\\site-packages (from magn==1.0.0.0) (0.8.4)\n",
      "Requirement already satisfied: pillow==10.3.0 in c:\\users\\domin\\pycharmprojects\\ggsn---magn\\.venv\\lib\\site-packages (from magn==1.0.0.0) (10.3.0)\n",
      "Requirement already satisfied: platformdirs==4.2.2 in c:\\users\\domin\\pycharmprojects\\ggsn---magn\\.venv\\lib\\site-packages (from magn==1.0.0.0) (4.2.2)\n",
      "Requirement already satisfied: prometheus-client==0.20.0 in c:\\users\\domin\\pycharmprojects\\ggsn---magn\\.venv\\lib\\site-packages (from magn==1.0.0.0) (0.20.0)\n",
      "Requirement already satisfied: prompt-toolkit==3.0.43 in c:\\users\\domin\\pycharmprojects\\ggsn---magn\\.venv\\lib\\site-packages (from magn==1.0.0.0) (3.0.43)\n",
      "Requirement already satisfied: psutil==5.9.8 in c:\\users\\domin\\pycharmprojects\\ggsn---magn\\.venv\\lib\\site-packages (from magn==1.0.0.0) (5.9.8)\n",
      "Requirement already satisfied: pure-eval==0.2.2 in c:\\users\\domin\\pycharmprojects\\ggsn---magn\\.venv\\lib\\site-packages (from magn==1.0.0.0) (0.2.2)\n",
      "Requirement already satisfied: pycparser==2.22 in c:\\users\\domin\\pycharmprojects\\ggsn---magn\\.venv\\lib\\site-packages (from magn==1.0.0.0) (2.22)\n",
      "Requirement already satisfied: Pygments==2.18.0 in c:\\users\\domin\\pycharmprojects\\ggsn---magn\\.venv\\lib\\site-packages (from magn==1.0.0.0) (2.18.0)\n",
      "Requirement already satisfied: pylint==3.2.3 in c:\\users\\domin\\pycharmprojects\\ggsn---magn\\.venv\\lib\\site-packages (from magn==1.0.0.0) (3.2.3)\n",
      "Requirement already satisfied: pyparsing==3.1.2 in c:\\users\\domin\\pycharmprojects\\ggsn---magn\\.venv\\lib\\site-packages (from magn==1.0.0.0) (3.1.2)\n",
      "Requirement already satisfied: pyproject-hooks==1.1.0 in c:\\users\\domin\\pycharmprojects\\ggsn---magn\\.venv\\lib\\site-packages (from magn==1.0.0.0) (1.1.0)\n",
      "Requirement already satisfied: python-dateutil==2.9.0.post0 in c:\\users\\domin\\pycharmprojects\\ggsn---magn\\.venv\\lib\\site-packages (from magn==1.0.0.0) (2.9.0.post0)\n",
      "Requirement already satisfied: python-json-logger==2.0.7 in c:\\users\\domin\\pycharmprojects\\ggsn---magn\\.venv\\lib\\site-packages (from magn==1.0.0.0) (2.0.7)\n",
      "Requirement already satisfied: python-slugify==8.0.4 in c:\\users\\domin\\pycharmprojects\\ggsn---magn\\.venv\\lib\\site-packages (from magn==1.0.0.0) (8.0.4)\n",
      "Requirement already satisfied: pytz==2024.1 in c:\\users\\domin\\pycharmprojects\\ggsn---magn\\.venv\\lib\\site-packages (from magn==1.0.0.0) (2024.1)\n",
      "Requirement already satisfied: pywin32==306 in c:\\users\\domin\\pycharmprojects\\ggsn---magn\\.venv\\lib\\site-packages (from magn==1.0.0.0) (306)\n",
      "Requirement already satisfied: pywinpty==2.0.13 in c:\\users\\domin\\pycharmprojects\\ggsn---magn\\.venv\\lib\\site-packages (from magn==1.0.0.0) (2.0.13)\n",
      "Requirement already satisfied: PyYAML==6.0.1 in c:\\users\\domin\\pycharmprojects\\ggsn---magn\\.venv\\lib\\site-packages (from magn==1.0.0.0) (6.0.1)\n",
      "Requirement already satisfied: pyzmq==26.0.3 in c:\\users\\domin\\pycharmprojects\\ggsn---magn\\.venv\\lib\\site-packages (from magn==1.0.0.0) (26.0.3)\n",
      "Requirement already satisfied: qtconsole==5.5.2 in c:\\users\\domin\\pycharmprojects\\ggsn---magn\\.venv\\lib\\site-packages (from magn==1.0.0.0) (5.5.2)\n",
      "Requirement already satisfied: QtPy==2.4.1 in c:\\users\\domin\\pycharmprojects\\ggsn---magn\\.venv\\lib\\site-packages (from magn==1.0.0.0) (2.4.1)\n",
      "Requirement already satisfied: referencing==0.35.1 in c:\\users\\domin\\pycharmprojects\\ggsn---magn\\.venv\\lib\\site-packages (from magn==1.0.0.0) (0.35.1)\n",
      "Requirement already satisfied: requests==2.32.2 in c:\\users\\domin\\pycharmprojects\\ggsn---magn\\.venv\\lib\\site-packages (from magn==1.0.0.0) (2.32.2)\n",
      "Requirement already satisfied: rfc3339-validator==0.1.4 in c:\\users\\domin\\pycharmprojects\\ggsn---magn\\.venv\\lib\\site-packages (from magn==1.0.0.0) (0.1.4)\n",
      "Requirement already satisfied: rfc3986-validator==0.1.1 in c:\\users\\domin\\pycharmprojects\\ggsn---magn\\.venv\\lib\\site-packages (from magn==1.0.0.0) (0.1.1)\n",
      "Requirement already satisfied: rpds-py==0.18.1 in c:\\users\\domin\\pycharmprojects\\ggsn---magn\\.venv\\lib\\site-packages (from magn==1.0.0.0) (0.18.1)\n",
      "Requirement already satisfied: Send2Trash==1.8.3 in c:\\users\\domin\\pycharmprojects\\ggsn---magn\\.venv\\lib\\site-packages (from magn==1.0.0.0) (1.8.3)\n",
      "Requirement already satisfied: setuptools==70.0.0 in c:\\users\\domin\\pycharmprojects\\ggsn---magn\\.venv\\lib\\site-packages (from magn==1.0.0.0) (70.0.0)\n",
      "Requirement already satisfied: six==1.16.0 in c:\\users\\domin\\pycharmprojects\\ggsn---magn\\.venv\\lib\\site-packages (from magn==1.0.0.0) (1.16.0)\n",
      "Requirement already satisfied: sniffio==1.3.1 in c:\\users\\domin\\pycharmprojects\\ggsn---magn\\.venv\\lib\\site-packages (from magn==1.0.0.0) (1.3.1)\n",
      "Requirement already satisfied: soupsieve==2.5 in c:\\users\\domin\\pycharmprojects\\ggsn---magn\\.venv\\lib\\site-packages (from magn==1.0.0.0) (2.5)\n",
      "Requirement already satisfied: stack-data==0.6.3 in c:\\users\\domin\\pycharmprojects\\ggsn---magn\\.venv\\lib\\site-packages (from magn==1.0.0.0) (0.6.3)\n",
      "Requirement already satisfied: terminado==0.18.1 in c:\\users\\domin\\pycharmprojects\\ggsn---magn\\.venv\\lib\\site-packages (from magn==1.0.0.0) (0.18.1)\n",
      "Requirement already satisfied: text-unidecode==1.3 in c:\\users\\domin\\pycharmprojects\\ggsn---magn\\.venv\\lib\\site-packages (from magn==1.0.0.0) (1.3)\n",
      "Requirement already satisfied: tinycss2==1.3.0 in c:\\users\\domin\\pycharmprojects\\ggsn---magn\\.venv\\lib\\site-packages (from magn==1.0.0.0) (1.3.0)\n",
      "Requirement already satisfied: tomlkit==0.12.5 in c:\\users\\domin\\pycharmprojects\\ggsn---magn\\.venv\\lib\\site-packages (from magn==1.0.0.0) (0.12.5)\n",
      "Requirement already satisfied: tornado==6.4 in c:\\users\\domin\\pycharmprojects\\ggsn---magn\\.venv\\lib\\site-packages (from magn==1.0.0.0) (6.4)\n",
      "Requirement already satisfied: tqdm==4.66.4 in c:\\users\\domin\\pycharmprojects\\ggsn---magn\\.venv\\lib\\site-packages (from magn==1.0.0.0) (4.66.4)\n",
      "Requirement already satisfied: traitlets==5.14.3 in c:\\users\\domin\\pycharmprojects\\ggsn---magn\\.venv\\lib\\site-packages (from magn==1.0.0.0) (5.14.3)\n",
      "Requirement already satisfied: types-python-dateutil==2.9.0.20240316 in c:\\users\\domin\\pycharmprojects\\ggsn---magn\\.venv\\lib\\site-packages (from magn==1.0.0.0) (2.9.0.20240316)\n",
      "Requirement already satisfied: tzdata==2024.1 in c:\\users\\domin\\pycharmprojects\\ggsn---magn\\.venv\\lib\\site-packages (from magn==1.0.0.0) (2024.1)\n",
      "Requirement already satisfied: uri-template==1.3.0 in c:\\users\\domin\\pycharmprojects\\ggsn---magn\\.venv\\lib\\site-packages (from magn==1.0.0.0) (1.3.0)\n",
      "Requirement already satisfied: urllib3==2.2.1 in c:\\users\\domin\\pycharmprojects\\ggsn---magn\\.venv\\lib\\site-packages (from magn==1.0.0.0) (2.2.1)\n",
      "Requirement already satisfied: wcwidth==0.2.13 in c:\\users\\domin\\pycharmprojects\\ggsn---magn\\.venv\\lib\\site-packages (from magn==1.0.0.0) (0.2.13)\n",
      "Requirement already satisfied: webcolors==1.13 in c:\\users\\domin\\pycharmprojects\\ggsn---magn\\.venv\\lib\\site-packages (from magn==1.0.0.0) (1.13)\n",
      "Requirement already satisfied: webencodings==0.5.1 in c:\\users\\domin\\pycharmprojects\\ggsn---magn\\.venv\\lib\\site-packages (from magn==1.0.0.0) (0.5.1)\n",
      "Requirement already satisfied: websocket-client==1.8.0 in c:\\users\\domin\\pycharmprojects\\ggsn---magn\\.venv\\lib\\site-packages (from magn==1.0.0.0) (1.8.0)\n",
      "Requirement already satisfied: widgetsnbextension==4.0.10 in c:\\users\\domin\\pycharmprojects\\ggsn---magn\\.venv\\lib\\site-packages (from magn==1.0.0.0) (4.0.10)\n",
      "Building wheels for collected packages: magn\n",
      "  Building wheel for magn (pyproject.toml): started\n",
      "  Building wheel for magn (pyproject.toml): finished with status 'done'\n",
      "  Created wheel for magn: filename=magn-1.0.0.0-py3-none-any.whl size=15181 sha256=69ec30c5c0cfec67c3ac616cbf9cc6343f66ab3406961a88698fc3dfebf22253\n",
      "  Stored in directory: c:\\users\\domin\\appdata\\local\\pip\\cache\\wheels\\02\\69\\7a\\7a321fc99cdf850f17c5dbe96e53ef1e4b07adda9d5bd3d1f7\n",
      "Successfully built magn\n",
      "Installing collected packages: magn\n",
      "  Attempting uninstall: magn\n",
      "    Found existing installation: magn 1.0.0.0\n",
      "    Not uninstalling magn at c:\\users\\domin\\pycharmprojects\\ggsn---magn\\src, outside environment C:\\Users\\domin\\PycharmProjects\\GGSN---MAGN\\.venv\n",
      "    Can't uninstall 'magn'. No files were found to uninstall.\n",
      "Successfully installed magn-1.0.0.0\n",
      "Note: you may need to restart the kernel to use updated packages.\n"
     ]
    },
    {
     "name": "stderr",
     "output_type": "stream",
     "text": [
      "DEPRECATION: Loading egg at c:\\users\\domin\\pycharmprojects\\ggsn---magn\\.venv\\lib\\site-packages\\magn-1.0.0.0-py3.12.egg is deprecated. pip 24.3 will enforce this behaviour change. A possible replacement is to use pip for package installation.. Discussion can be found at https://github.com/pypa/pip/issues/12330\n"
     ]
    },
    {
     "name": "stdout",
     "output_type": "stream",
     "text": [
      "Requirement already satisfied: pandas in c:\\users\\domin\\pycharmprojects\\ggsn---magn\\.venv\\lib\\site-packages (2.2.2)\n",
      "Requirement already satisfied: numpy>=1.26.0 in c:\\users\\domin\\pycharmprojects\\ggsn---magn\\.venv\\lib\\site-packages (from pandas) (1.26.4)\n",
      "Requirement already satisfied: python-dateutil>=2.8.2 in c:\\users\\domin\\pycharmprojects\\ggsn---magn\\.venv\\lib\\site-packages (from pandas) (2.9.0.post0)\n",
      "Requirement already satisfied: pytz>=2020.1 in c:\\users\\domin\\pycharmprojects\\ggsn---magn\\.venv\\lib\\site-packages (from pandas) (2024.1)\n",
      "Requirement already satisfied: tzdata>=2022.7 in c:\\users\\domin\\pycharmprojects\\ggsn---magn\\.venv\\lib\\site-packages (from pandas) (2024.1)\n",
      "Requirement already satisfied: six>=1.5 in c:\\users\\domin\\pycharmprojects\\ggsn---magn\\.venv\\lib\\site-packages (from python-dateutil>=2.8.2->pandas) (1.16.0)\n",
      "Note: you may need to restart the kernel to use updated packages.\n"
     ]
    },
    {
     "name": "stderr",
     "output_type": "stream",
     "text": [
      "DEPRECATION: Loading egg at c:\\users\\domin\\pycharmprojects\\ggsn---magn\\.venv\\lib\\site-packages\\magn-1.0.0.0-py3.12.egg is deprecated. pip 24.3 will enforce this behaviour change. A possible replacement is to use pip for package installation.. Discussion can be found at https://github.com/pypa/pip/issues/12330\n"
     ]
    },
    {
     "name": "stdout",
     "output_type": "stream",
     "text": [
      "Requirement already satisfied: numpy in c:\\users\\domin\\pycharmprojects\\ggsn---magn\\.venv\\lib\\site-packages (1.26.4)\n",
      "Note: you may need to restart the kernel to use updated packages.\n"
     ]
    },
    {
     "name": "stderr",
     "output_type": "stream",
     "text": [
      "DEPRECATION: Loading egg at c:\\users\\domin\\pycharmprojects\\ggsn---magn\\.venv\\lib\\site-packages\\magn-1.0.0.0-py3.12.egg is deprecated. pip 24.3 will enforce this behaviour change. A possible replacement is to use pip for package installation.. Discussion can be found at https://github.com/pypa/pip/issues/12330\n"
     ]
    },
    {
     "name": "stdout",
     "output_type": "stream",
     "text": [
      "Requirement already satisfied: kaggle in c:\\users\\domin\\pycharmprojects\\ggsn---magn\\.venv\\lib\\site-packages (1.6.14)\n",
      "Requirement already satisfied: six>=1.10 in c:\\users\\domin\\pycharmprojects\\ggsn---magn\\.venv\\lib\\site-packages (from kaggle) (1.16.0)\n",
      "Requirement already satisfied: certifi>=2023.7.22 in c:\\users\\domin\\pycharmprojects\\ggsn---magn\\.venv\\lib\\site-packages (from kaggle) (2024.2.2)\n",
      "Requirement already satisfied: python-dateutil in c:\\users\\domin\\pycharmprojects\\ggsn---magn\\.venv\\lib\\site-packages (from kaggle) (2.9.0.post0)\n",
      "Requirement already satisfied: requests in c:\\users\\domin\\pycharmprojects\\ggsn---magn\\.venv\\lib\\site-packages (from kaggle) (2.32.2)\n",
      "Requirement already satisfied: tqdm in c:\\users\\domin\\pycharmprojects\\ggsn---magn\\.venv\\lib\\site-packages (from kaggle) (4.66.4)\n",
      "Requirement already satisfied: python-slugify in c:\\users\\domin\\pycharmprojects\\ggsn---magn\\.venv\\lib\\site-packages (from kaggle) (8.0.4)\n",
      "Requirement already satisfied: urllib3 in c:\\users\\domin\\pycharmprojects\\ggsn---magn\\.venv\\lib\\site-packages (from kaggle) (2.2.1)\n",
      "Requirement already satisfied: bleach in c:\\users\\domin\\pycharmprojects\\ggsn---magn\\.venv\\lib\\site-packages (from kaggle) (6.1.0)\n",
      "Requirement already satisfied: webencodings in c:\\users\\domin\\pycharmprojects\\ggsn---magn\\.venv\\lib\\site-packages (from bleach->kaggle) (0.5.1)\n",
      "Requirement already satisfied: text-unidecode>=1.3 in c:\\users\\domin\\pycharmprojects\\ggsn---magn\\.venv\\lib\\site-packages (from python-slugify->kaggle) (1.3)\n",
      "Requirement already satisfied: charset-normalizer<4,>=2 in c:\\users\\domin\\pycharmprojects\\ggsn---magn\\.venv\\lib\\site-packages (from requests->kaggle) (3.3.2)\n",
      "Requirement already satisfied: idna<4,>=2.5 in c:\\users\\domin\\pycharmprojects\\ggsn---magn\\.venv\\lib\\site-packages (from requests->kaggle) (3.7)\n",
      "Requirement already satisfied: colorama in c:\\users\\domin\\pycharmprojects\\ggsn---magn\\.venv\\lib\\site-packages (from tqdm->kaggle) (0.4.6)\n",
      "Note: you may need to restart the kernel to use updated packages.\n"
     ]
    },
    {
     "name": "stderr",
     "output_type": "stream",
     "text": [
      "DEPRECATION: Loading egg at c:\\users\\domin\\pycharmprojects\\ggsn---magn\\.venv\\lib\\site-packages\\magn-1.0.0.0-py3.12.egg is deprecated. pip 24.3 will enforce this behaviour change. A possible replacement is to use pip for package installation.. Discussion can be found at https://github.com/pypa/pip/issues/12330\n"
     ]
    }
   ],
   "execution_count": 1
  },
  {
   "cell_type": "markdown",
   "source": [
    "Pobranie oraz Przygotowanie Danych"
   ],
   "metadata": {
    "collapsed": false
   },
   "id": "1f6bb8bde81e4a6f"
  },
  {
   "cell_type": "code",
   "source": [
    "from pathlib import Path\n",
    "from typing import Final\n",
    "\n",
    "resources_dir: Final[Path] = Path('resources/data/')\n",
    "zip_data_file: Final[Path] = resources_dir.joinpath('movie-data-analytics-dataset.zip')\n",
    "database_path: Final[Path]  = resources_dir.joinpath('movie.sqlite')"
   ],
   "metadata": {
    "collapsed": false,
    "ExecuteTime": {
     "end_time": "2024-06-17T14:20:51.134389Z",
     "start_time": "2024-06-17T14:20:51.132353Z"
    }
   },
   "id": "d1c9901fc12cce66",
   "outputs": [],
   "execution_count": 2
  },
  {
   "metadata": {},
   "cell_type": "markdown",
   "source": [
    "Pobranie danych z platformy Kaggle\n",
    "\n",
    "[Link do danych z platformy Kaggle](https://www.kaggle.com/datasets/shahjhanalam/movie-data-analytics-dataset)"
   ],
   "id": "ca200f82ccb7b864"
  },
  {
   "metadata": {},
   "cell_type": "code",
   "source": [
    "from os.path import exists\n",
    "\n",
    "if not exists(zip_data_file):\n",
    "    !kaggle datasets download -d shahjhanalam/movie-data-analytics-dataset -p resources/data"
   ],
   "id": "112c42936946007e",
   "outputs": [],
   "execution_count": 3
  },
  {
   "metadata": {},
   "cell_type": "markdown",
   "source": [
    "Rozpakowanie danych do odpowiedniego katalogu"
   ],
   "id": "c922333d59fb2927"
  },
  {
   "metadata": {},
   "cell_type": "code",
   "source": [
    "from zipfile import ZipFile\n",
    "\n",
    "if not exists(database_path):\n",
    "    with ZipFile(zip_data_file, 'r') as zip_ref:\n",
    "        zip_ref.extractall(resources_dir)"
   ],
   "id": "ffe17589666c9475",
   "outputs": [],
   "execution_count": 4
  },
  {
   "metadata": {},
   "cell_type": "markdown",
   "source": [
    "Dodanie kluczy głównych i obcych do bazy danych, ponieważ nie zostały one dodane podczas tworzenia na platformie Kaggle, a jest to ważne podczas tworzenia MAGN."
   ],
   "id": "360e80bb10c27325"
  },
  {
   "metadata": {
    "ExecuteTime": {
     "end_time": "2024-06-17T14:22:54.873485Z",
     "start_time": "2024-06-17T14:22:54.865686Z"
    }
   },
   "cell_type": "code",
   "source": [
    "from typing import List, Tuple\n",
    "import sqlite3\n",
    "\n",
    "def get_table_columns_types(db_cursor: sqlite3.Cursor, table_name: str) -> List[Tuple[str, str]]:\n",
    "    \"\"\"Returns a list of tuples containing the column name and data type of given table in a database.\"\"\"\n",
    "    \n",
    "    info = db_cursor.execute(f\"\"\"\n",
    "        PRAGMA\n",
    "            table_info({table_name});\n",
    "    \"\"\").fetchall()\n",
    "    \n",
    "    return list((table_info[1], table_info[2]) for table_info in info)\n",
    "\n",
    "def get_table_names(db_cursor: sqlite3.Cursor) -> List[str]:\n",
    "    \"\"\"\"\"\"\n",
    "    db_cursor.execute(\"\"\"\n",
    "        SELECT\n",
    "            name\n",
    "        FROM\n",
    "            sqlite_master\n",
    "        WHERE\n",
    "            type='table'\n",
    "    \"\"\")\n",
    "    \n",
    "    return list(table[0] for table in db_cursor.fetchall())\n",
    "\n",
    "def delete_duplicates(db_cursor: sqlite3.Cursor, table_name: str, column_name: str) -> None:\n",
    "    \"\"\"Deletes duplicates from a given table column in a database.\"\"\"\n",
    "    \n",
    "    \n",
    "    for given_table_name in get_table_names(db_cursor):\n",
    "        for given_column_name, _ in get_table_columns_types(db_cursor, given_table_name):\n",
    "            db_cursor.execute(f\"\"\"\n",
    "                DELETE FROM\n",
    "                    {given_table_name}\n",
    "                WHERE\n",
    "                    {given_column_name} IN (\n",
    "                        SELECT\n",
    "                            {column_name}\n",
    "                        FROM\n",
    "                            {table_name}\n",
    "                        GROUP BY\n",
    "                            {column_name}\n",
    "                        HAVING\n",
    "                            COUNT(*) > 1\n",
    "                    );\n",
    "            \"\"\")\n",
    "\n",
    "def create_table_with_primary_key(db_cursor: sqlite3.Cursor, table_name: str, temporary_table_name: str, column_name: str) -> None:\n",
    "    \"\"\"Creates a table with a primary key in a database.\"\"\"\n",
    "    \n",
    "    table_columns = get_table_columns_types(db_cursor, table_name)\n",
    "    \n",
    "    db_cursor.execute(f\"\"\"\n",
    "        CREATE TABLE {temporary_table_name} (\n",
    "            {\n",
    "                ', '.join(\n",
    "                    f'{column} {data_type}'\n",
    "                    if column != column_name\n",
    "                    else f'{column} {data_type} PRIMARY KEY'\n",
    "                    for column, data_type in table_columns\n",
    "                )\n",
    "            }\n",
    "        );\n",
    "    \"\"\")\n",
    "    \n",
    "def move_data_and_switch_tables(db_cursor: sqlite3.Cursor, table_name: str, temporary_table_name: str) -> None:\n",
    "    \"\"\"Moves data from a temporary table to the original table and switches the tables in a database.\"\"\"\n",
    "    \n",
    "    db_cursor.executescript(f\"\"\"\n",
    "        -- Move the data\n",
    "        INSERT INTO\n",
    "            {temporary_table_name}\n",
    "        SELECT\n",
    "            *\n",
    "        FROM\n",
    "            {table_name};\n",
    "        \n",
    "        -- Drop the old table\n",
    "        DROP TABLE\n",
    "            {table_name};\n",
    "        \n",
    "        -- Rename the new table\n",
    "        ALTER TABLE\n",
    "            {temporary_table_name}\n",
    "        RENAME TO\n",
    "            {table_name};\n",
    "    \"\"\")\n",
    "\n",
    "def add_primary_key(db_cursor: sqlite3.Cursor, table_name: str, column_name: str) -> None:\n",
    "    \"\"\"Adds a primary key to a given table column in a database.\"\"\"\n",
    "    temporary_table_name = f'{table_name}_'\n",
    "    \n",
    "    delete_duplicates(db_cursor, table_name, column_name)\n",
    "    create_table_with_primary_key(db_cursor, table_name, temporary_table_name, column_name)\n",
    "    move_data_and_switch_tables(db_cursor, table_name, temporary_table_name)\n",
    "\n",
    "def create_table_with_foreign_key(db_cursor: sqlite3.Cursor, table_name: str, column_name: str, foreign_table_name: str, foreign_column_name: str, temporary_foreign_table_name: str) -> None:\n",
    "    \"\"\"Creates a table with a foreign key in a database.\"\"\"\n",
    "\n",
    "    foreign_table_columns = get_table_columns_types(db_cursor, foreign_table_name)\n",
    "    \n",
    "    db_cursor.execute(f\"\"\"\n",
    "        CREATE TABLE {temporary_foreign_table_name} (\n",
    "            {\n",
    "            ', '.join(\n",
    "                f'{column} {data_type}'\n",
    "                for column, data_type in foreign_table_columns\n",
    "            )\n",
    "            },\n",
    "            CONSTRAINT fk_{foreign_table_name}_{foreign_column_name}\n",
    "                FOREIGN KEY\n",
    "                    ({foreign_column_name})\n",
    "                REFERENCES\n",
    "                    {table_name} ({column_name})\n",
    "        );\n",
    "    \"\"\")\n",
    "\n",
    "def add_foreign_key(db_cursor: sqlite3.Cursor, table_name: str, column_name: str, foreign_table_name: str, foreign_column_name: str) -> None:\n",
    "    \"\"\"Adds a foreign key to a given table column in a database.\"\"\"\n",
    "\n",
    "    temporary_foreign_table_name = f'{foreign_table_name}_'\n",
    "        \n",
    "    db_cursor.execute(f\"\"\"\n",
    "        PRAGMA\n",
    "            foreign_keys = OFF;\n",
    "    \"\"\")\n",
    "    \n",
    "    create_table_with_foreign_key(db_cursor, table_name, column_name, foreign_table_name, foreign_column_name, temporary_foreign_table_name)\n",
    "    move_data_and_switch_tables(db_cursor, foreign_table_name, temporary_foreign_table_name)\n",
    "\n",
    "    db_cursor.execute(f\"\"\"\n",
    "        PRAGMA\n",
    "            foreign_keys = ON;\n",
    "    \"\"\")"
   ],
   "id": "d79992ed27020211",
   "outputs": [],
   "execution_count": 5
  },
  {
   "metadata": {
    "ExecuteTime": {
     "end_time": "2024-06-17T14:23:44.530671Z",
     "start_time": "2024-06-17T14:23:44.343666Z"
    }
   },
   "cell_type": "code",
   "source": [
    "with sqlite3.connect(database_path) as conn:\n",
    "    cursor = conn.cursor()\n",
    "\n",
    "    cursor.execute(f\"\"\"BEGIN;\"\"\")\n",
    "    try:\n",
    "        add_primary_key(cursor, 'IMDB', 'Movie_id')\n",
    "\n",
    "        add_foreign_key(cursor, 'IMDB', 'Movie_id', 'earning', 'Movie_id')\n",
    "        add_foreign_key(cursor, 'IMDB', 'Movie_id', 'genre', 'Movie_id')\n",
    "    except Exception as error:\n",
    "        conn.rollback()\n",
    "        raise error\n",
    "    else:\n",
    "        conn.commit()"
   ],
   "id": "38fd4ac028fe0b1f",
   "outputs": [],
   "execution_count": 6
  },
  {
   "metadata": {},
   "cell_type": "markdown",
   "source": [
    "![ERD Diagram for the database schema](docs/images/database_erd.png)"
   ],
   "id": "f6ce43c594a432f"
  },
  {
   "metadata": {
    "ExecuteTime": {
     "end_time": "2024-06-17T14:34:47.366344Z",
     "start_time": "2024-06-17T14:34:47.134660Z"
    }
   },
   "cell_type": "code",
   "source": [
    "from magn.database.sqlite3 import get_table_names\n",
    "\n",
    "all_tables = get_table_names(database_path)\n",
    "\n",
    "all_tables"
   ],
   "id": "b4c96aa4268533ef",
   "outputs": [
    {
     "data": {
      "text/plain": [
       "['IMDB', 'earning', 'genre']"
      ]
     },
     "execution_count": 7,
     "metadata": {},
     "output_type": "execute_result"
    }
   ],
   "execution_count": 7
  },
  {
   "metadata": {
    "ExecuteTime": {
     "end_time": "2024-06-17T14:34:47.927248Z",
     "start_time": "2024-06-17T14:34:47.919230Z"
    }
   },
   "cell_type": "code",
   "source": [
    "from magn.database.sqlite3 import SQLite3KeysReader\n",
    "\n",
    "keys_reader = SQLite3KeysReader(database_path, all_tables)\n",
    "keys_reader.read()"
   ],
   "id": "850b84268716c77",
   "outputs": [
    {
     "data": {
      "text/plain": [
       "{'IMDB': Keys(primary_keys=['Movie_id'], foreign_keys={}),\n",
       " 'earning': Keys(primary_keys=[], foreign_keys={'IMDB': ('Movie_id', 'Movie_id')}),\n",
       " 'genre': Keys(primary_keys=[], foreign_keys={'IMDB': ('Movie_id', 'Movie_id')})}"
      ]
     },
     "execution_count": 8,
     "metadata": {},
     "output_type": "execute_result"
    }
   ],
   "execution_count": 8
  },
  {
   "metadata": {
    "ExecuteTime": {
     "end_time": "2024-06-17T14:34:49.175755Z",
     "start_time": "2024-06-17T14:34:49.150062Z"
    }
   },
   "cell_type": "code",
   "source": [
    "from magn.database.sqlite3 import SQLite3DataReader\n",
    "\n",
    "data_reader = SQLite3DataReader(database_path, all_tables, keys_reader.read())\n",
    "data_reader.read()"
   ],
   "id": "e5bb74773fbe6fc6",
   "outputs": [
    {
     "data": {
      "text/plain": [
       "{'IMDB':                                       Title  Rating  TotalVotes MetaCritic  \\\n",
       " Movie_id                                                                     \n",
       " 36809               12 Years a Slave (2013)     8.1      496092         96   \n",
       " 30114                      127 Hours (2010)     7.6      297075         82   \n",
       " 37367                          50/50 (2011)     7.7      283935         72   \n",
       " 49473                     About Time (2013)     7.8      225412              \n",
       " 14867                          Amour (2012)     7.9       76121         94   \n",
       " ...                                     ...     ...         ...        ...   \n",
       " 38262                       Whiplash (2014)     8.5      492285         88   \n",
       " 10023                 Wreck-It Ralph (2012)     7.7      295125         72   \n",
       " 27783     X-Men: Days of Future Past (2014)     8.0      560736         74   \n",
       " 42294             X-Men: First Class (2011)     7.8      556713         65   \n",
       " 32217                       Zootopia (2016)     8.1      309474         78   \n",
       " \n",
       "                Budget  Runtime CVotes10 CVotes09 CVotes08 CVotes07  ...  \\\n",
       " Movie_id                                                            ...   \n",
       " 36809      20000000.0  134 min    75556   126223   161460    83070  ...   \n",
       " 30114      18000000.0   94 min    28939    44110    98845    78451  ...   \n",
       " 37367       8000000.0  100 min    28304    47501    99524    71485  ...   \n",
       " 49473      12000000.0  123 min    38556    43170    70850    45487  ...   \n",
       " 14867       8900000.0  127 min    11093    15944    22942    14187  ...   \n",
       " ...               ...      ...      ...      ...      ...      ...  ...   \n",
       " 38262       3300000.0  107 min   110404   161864   132656    56007  ...   \n",
       " 10023     165000000.0             41980    50262    96477    67934  ...   \n",
       " 27783     200000000.0  132 min    91765   127521   183578   104658  ...   \n",
       " 42294     160000000.0  132 min    64428    96219   200144   129352  ...   \n",
       " 32217     150000000.0  108 min    53626    70912   102352    57261  ...   \n",
       " \n",
       "          Votes3044 Votes3044M Votes3044F Votes45A Votes45AM Votes45AF  \\\n",
       " Movie_id                                                                \n",
       " 36809          8.0        7.9        8.0      7.8       7.8       8.1   \n",
       " 30114          7.5        7.5        7.5      7.3       7.3       7.5   \n",
       " 37367          7.6        7.6        7.6      7.4       7.4       7.5   \n",
       " 49473          7.6        7.6        7.7      7.6       7.5       7.8   \n",
       " 14867          7.7        7.7        7.9      7.9       7.8       8.1   \n",
       " ...            ...        ...        ...      ...       ...       ...   \n",
       " 38262          8.3        8.3        8.2      8.1       8.1       8.2   \n",
       " 10023          7.6        7.6        7.7      7.4       7.4       7.5   \n",
       " 27783          7.8        7.8        8.0      7.7       7.7       7.9   \n",
       " 42294          7.7        7.6        7.8      7.6       7.5       7.7   \n",
       " 32217          7.8        7.8        8.1      7.8       7.8       8.1   \n",
       " \n",
       "          VotesIMDB Votes1000 VotesUS VotesnUS  \n",
       " Movie_id                                       \n",
       " 36809          8.0       7.7     8.3      8.0  \n",
       " 30114          7.6       7.0     7.7      7.6  \n",
       " 37367          7.4       7.0     7.9      7.6  \n",
       " 49473          7.7       6.9     7.8      7.7  \n",
       " 14867          6.6       7.2     7.9      7.8  \n",
       " ...            ...       ...     ...      ...  \n",
       " 38262          8.7       8.0     8.6      8.4  \n",
       " 10023          7.4       7.2     7.9      7.6  \n",
       " 27783          7.5       7.4     8.1      7.9  \n",
       " 42294          7.6       7.3     7.8      7.7  \n",
       " 32217          7.7       7.6     8.0      8.0  \n",
       " \n",
       " [117 rows x 51 columns],\n",
       " 'earning':            Domestic     Worldwide\n",
       " Movie_id                         \n",
       " 36809      56671993  1.877332e+08\n",
       " 30114      18335230  6.073880e+07\n",
       " 37367      35014192  3.918778e+07\n",
       " 49473      15322921  8.710045e+07\n",
       " 14867       6739492  1.983949e+07\n",
       " ...             ...           ...\n",
       " 38262      13092000  4.898204e+07\n",
       " 10023     189422889  4.712229e+08\n",
       " 27783     233921534  7.478628e+08\n",
       " 42294     146408305  3.536241e+08\n",
       " 32217     341268248  1.023784e+09\n",
       " \n",
       " [117 rows x 2 columns],\n",
       " 'genre':               genre\n",
       " Movie_id           \n",
       " 36809     Biography\n",
       " 30114     Adventure\n",
       " 37367        Comedy\n",
       " 49473        Comedy\n",
       " 14867         Drama\n",
       " ...             ...\n",
       " 38262              \n",
       " 10023        Comedy\n",
       " 27783        Sci-Fi\n",
       " 42294        Sci-Fi\n",
       " 32217        Comedy\n",
       " \n",
       " [351 rows x 1 columns]}"
      ]
     },
     "execution_count": 9,
     "metadata": {},
     "output_type": "execute_result"
    }
   ],
   "execution_count": 9
  },
  {
   "metadata": {
    "ExecuteTime": {
     "end_time": "2024-06-17T14:34:50.123413Z",
     "start_time": "2024-06-17T14:34:49.899189Z"
    }
   },
   "cell_type": "code",
   "source": [
    "dfs = data_reader.read()\n",
    "\n",
    "dfs['artists']"
   ],
   "id": "8f3992a59d4f64a8",
   "outputs": [
    {
     "ename": "KeyError",
     "evalue": "'artists'",
     "output_type": "error",
     "traceback": [
      "\u001B[1;31m---------------------------------------------------------------------------\u001B[0m",
      "\u001B[1;31mKeyError\u001B[0m                                  Traceback (most recent call last)",
      "Cell \u001B[1;32mIn[10], line 3\u001B[0m\n\u001B[0;32m      1\u001B[0m dfs \u001B[38;5;241m=\u001B[39m data_reader\u001B[38;5;241m.\u001B[39mread()\n\u001B[1;32m----> 3\u001B[0m \u001B[43mdfs\u001B[49m\u001B[43m[\u001B[49m\u001B[38;5;124;43m'\u001B[39;49m\u001B[38;5;124;43martists\u001B[39;49m\u001B[38;5;124;43m'\u001B[39;49m\u001B[43m]\u001B[49m\n",
      "\u001B[1;31mKeyError\u001B[0m: 'artists'"
     ]
    }
   ],
   "execution_count": 10
  },
  {
   "metadata": {
    "ExecuteTime": {
     "end_time": "2024-06-17T14:34:50.579515Z",
     "start_time": "2024-06-17T14:34:50.565863Z"
    }
   },
   "cell_type": "code",
   "source": [
    "dfs['reviews']"
   ],
   "id": "e6437831a5df6514",
   "outputs": [
    {
     "ename": "KeyError",
     "evalue": "'reviews'",
     "output_type": "error",
     "traceback": [
      "\u001B[1;31m---------------------------------------------------------------------------\u001B[0m",
      "\u001B[1;31mKeyError\u001B[0m                                  Traceback (most recent call last)",
      "Cell \u001B[1;32mIn[11], line 1\u001B[0m\n\u001B[1;32m----> 1\u001B[0m \u001B[43mdfs\u001B[49m\u001B[43m[\u001B[49m\u001B[38;5;124;43m'\u001B[39;49m\u001B[38;5;124;43mreviews\u001B[39;49m\u001B[38;5;124;43m'\u001B[39;49m\u001B[43m]\u001B[49m\n",
      "\u001B[1;31mKeyError\u001B[0m: 'reviews'"
     ]
    }
   ],
   "execution_count": 11
  },
  {
   "metadata": {
    "ExecuteTime": {
     "end_time": "2024-06-17T14:34:57.343287Z",
     "start_time": "2024-06-17T14:34:57.326139Z"
    }
   },
   "cell_type": "code",
   "source": [
    "from magn.database.database import Database\n",
    "\n",
    "dataframe_database = Database.from_sqlite3(database_path, 1000)"
   ],
   "id": "15ddf9dcad08b926",
   "outputs": [],
   "execution_count": 13
  },
  {
   "cell_type": "code",
   "source": [
    "from magn.database.topological_sort import TopologicalSorter\n",
    "\n",
    "sort_data = {\n",
    "    '0': ['1'],\n",
    "    '1': ['2'],\n",
    "    '2': [],\n",
    "    '3': ['1', '2']\n",
    "}\n",
    "\n",
    "topological_sort = TopologicalSorter()\n",
    "for x in topological_sort.sort(sort_data):\n",
    "    print(x)"
   ],
   "metadata": {
    "collapsed": false,
    "ExecuteTime": {
     "end_time": "2024-06-17T14:34:57.700304Z",
     "start_time": "2024-06-17T14:34:57.695840Z"
    }
   },
   "id": "b5037ac456e301b2",
   "outputs": [
    {
     "name": "stdout",
     "output_type": "stream",
     "text": [
      "3\n",
      "0\n",
      "1\n",
      "2\n"
     ]
    }
   ],
   "execution_count": 14
  },
  {
   "metadata": {
    "ExecuteTime": {
     "end_time": "2024-06-17T14:34:58.090107Z",
     "start_time": "2024-06-17T14:34:58.084480Z"
    }
   },
   "cell_type": "code",
   "source": "list(dataframe_database.sort())",
   "id": "ec2c65ed8c718106",
   "outputs": [
    {
     "data": {
      "text/plain": [
       "['IMDB', 'genre', 'earning']"
      ]
     },
     "execution_count": 15,
     "metadata": {},
     "output_type": "execute_result"
    }
   ],
   "execution_count": 15
  },
  {
   "metadata": {
    "ExecuteTime": {
     "end_time": "2024-06-17T14:34:58.810345Z",
     "start_time": "2024-06-17T14:34:58.782504Z"
    }
   },
   "cell_type": "code",
   "source": "dataframe_database",
   "id": "7b26e94e14977feb",
   "outputs": [
    {
     "data": {
      "text/plain": [
       "Database(all_data={'IMDB': Table(data=                                      Title  Rating  TotalVotes MetaCritic  \\\n",
       "Movie_id                                                                     \n",
       "36809               12 Years a Slave (2013)     8.1      496092         96   \n",
       "30114                      127 Hours (2010)     7.6      297075         82   \n",
       "37367                          50/50 (2011)     7.7      283935         72   \n",
       "49473                     About Time (2013)     7.8      225412              \n",
       "14867                          Amour (2012)     7.9       76121         94   \n",
       "...                                     ...     ...         ...        ...   \n",
       "38262                       Whiplash (2014)     8.5      492285         88   \n",
       "10023                 Wreck-It Ralph (2012)     7.7      295125         72   \n",
       "27783     X-Men: Days of Future Past (2014)     8.0      560736         74   \n",
       "42294             X-Men: First Class (2011)     7.8      556713         65   \n",
       "32217                       Zootopia (2016)     8.1      309474         78   \n",
       "\n",
       "               Budget  Runtime CVotes10 CVotes09 CVotes08 CVotes07  ...  \\\n",
       "Movie_id                                                            ...   \n",
       "36809      20000000.0  134 min    75556   126223   161460    83070  ...   \n",
       "30114      18000000.0   94 min    28939    44110    98845    78451  ...   \n",
       "37367       8000000.0  100 min    28304    47501    99524    71485  ...   \n",
       "49473      12000000.0  123 min    38556    43170    70850    45487  ...   \n",
       "14867       8900000.0  127 min    11093    15944    22942    14187  ...   \n",
       "...               ...      ...      ...      ...      ...      ...  ...   \n",
       "38262       3300000.0  107 min   110404   161864   132656    56007  ...   \n",
       "10023     165000000.0             41980    50262    96477    67934  ...   \n",
       "27783     200000000.0  132 min    91765   127521   183578   104658  ...   \n",
       "42294     160000000.0  132 min    64428    96219   200144   129352  ...   \n",
       "32217     150000000.0  108 min    53626    70912   102352    57261  ...   \n",
       "\n",
       "         Votes3044 Votes3044M Votes3044F Votes45A Votes45AM Votes45AF  \\\n",
       "Movie_id                                                                \n",
       "36809          8.0        7.9        8.0      7.8       7.8       8.1   \n",
       "30114          7.5        7.5        7.5      7.3       7.3       7.5   \n",
       "37367          7.6        7.6        7.6      7.4       7.4       7.5   \n",
       "49473          7.6        7.6        7.7      7.6       7.5       7.8   \n",
       "14867          7.7        7.7        7.9      7.9       7.8       8.1   \n",
       "...            ...        ...        ...      ...       ...       ...   \n",
       "38262          8.3        8.3        8.2      8.1       8.1       8.2   \n",
       "10023          7.6        7.6        7.7      7.4       7.4       7.5   \n",
       "27783          7.8        7.8        8.0      7.7       7.7       7.9   \n",
       "42294          7.7        7.6        7.8      7.6       7.5       7.7   \n",
       "32217          7.8        7.8        8.1      7.8       7.8       8.1   \n",
       "\n",
       "         VotesIMDB Votes1000 VotesUS VotesnUS  \n",
       "Movie_id                                       \n",
       "36809          8.0       7.7     8.3      8.0  \n",
       "30114          7.6       7.0     7.7      7.6  \n",
       "37367          7.4       7.0     7.9      7.6  \n",
       "49473          7.7       6.9     7.8      7.7  \n",
       "14867          6.6       7.2     7.9      7.8  \n",
       "...            ...       ...     ...      ...  \n",
       "38262          8.7       8.0     8.6      8.4  \n",
       "10023          7.4       7.2     7.9      7.6  \n",
       "27783          7.5       7.4     8.1      7.9  \n",
       "42294          7.6       7.3     7.8      7.7  \n",
       "32217          7.7       7.6     8.0      8.0  \n",
       "\n",
       "[117 rows x 51 columns], keys=Keys(primary_keys=['Movie_id'], foreign_keys={})), 'earning': Table(data=           Domestic     Worldwide\n",
       "Movie_id                         \n",
       "36809      56671993  1.877332e+08\n",
       "30114      18335230  6.073880e+07\n",
       "37367      35014192  3.918778e+07\n",
       "49473      15322921  8.710045e+07\n",
       "14867       6739492  1.983949e+07\n",
       "...             ...           ...\n",
       "38262      13092000  4.898204e+07\n",
       "10023     189422889  4.712229e+08\n",
       "27783     233921534  7.478628e+08\n",
       "42294     146408305  3.536241e+08\n",
       "32217     341268248  1.023784e+09\n",
       "\n",
       "[117 rows x 2 columns], keys=Keys(primary_keys=[], foreign_keys={'IMDB': ('Movie_id', 'Movie_id')})), 'genre': Table(data=              genre\n",
       "Movie_id           \n",
       "36809     Biography\n",
       "30114     Adventure\n",
       "37367        Comedy\n",
       "49473        Comedy\n",
       "14867         Drama\n",
       "...             ...\n",
       "38262              \n",
       "10023        Comedy\n",
       "27783        Sci-Fi\n",
       "42294        Sci-Fi\n",
       "32217        Comedy\n",
       "\n",
       "[351 rows x 1 columns], keys=Keys(primary_keys=[], foreign_keys={'IMDB': ('Movie_id', 'Movie_id')}))})"
      ]
     },
     "execution_count": 16,
     "metadata": {},
     "output_type": "execute_result"
    }
   ],
   "execution_count": 16
  },
  {
   "metadata": {
    "ExecuteTime": {
     "end_time": "2024-06-17T14:34:59.774826Z",
     "start_time": "2024-06-17T14:34:59.749996Z"
    }
   },
   "cell_type": "code",
   "source": "dataframe_database['reviews'].data[dataframe_database['reviews'].data.columns[0]]",
   "id": "1f130c6c512ba5f3",
   "outputs": [
    {
     "ename": "KeyError",
     "evalue": "'reviews'",
     "output_type": "error",
     "traceback": [
      "\u001B[1;31m---------------------------------------------------------------------------\u001B[0m",
      "\u001B[1;31mKeyError\u001B[0m                                  Traceback (most recent call last)",
      "Cell \u001B[1;32mIn[17], line 1\u001B[0m\n\u001B[1;32m----> 1\u001B[0m \u001B[43mdataframe_database\u001B[49m\u001B[43m[\u001B[49m\u001B[38;5;124;43m'\u001B[39;49m\u001B[38;5;124;43mreviews\u001B[39;49m\u001B[38;5;124;43m'\u001B[39;49m\u001B[43m]\u001B[49m\u001B[38;5;241m.\u001B[39mdata[dataframe_database[\u001B[38;5;124m'\u001B[39m\u001B[38;5;124mreviews\u001B[39m\u001B[38;5;124m'\u001B[39m]\u001B[38;5;241m.\u001B[39mdata\u001B[38;5;241m.\u001B[39mcolumns[\u001B[38;5;241m0\u001B[39m]]\n",
      "File \u001B[1;32m~\\PycharmProjects\\GGSN---MAGN\\src\\magn\\database\\database.py:53\u001B[0m, in \u001B[0;36mDatabase.__getitem__\u001B[1;34m(self, item)\u001B[0m\n\u001B[0;32m     51\u001B[0m \u001B[38;5;28;01mdef\u001B[39;00m \u001B[38;5;21m__getitem__\u001B[39m(\u001B[38;5;28mself\u001B[39m, item: \u001B[38;5;28mstr\u001B[39m) \u001B[38;5;241m-\u001B[39m\u001B[38;5;241m>\u001B[39m Table:\n\u001B[0;32m     52\u001B[0m \u001B[38;5;250m    \u001B[39m\u001B[38;5;124;03m\"\"\"Lets you subscript the Database object to get a Table object.\"\"\"\u001B[39;00m\n\u001B[1;32m---> 53\u001B[0m     \u001B[38;5;28;01mreturn\u001B[39;00m \u001B[38;5;28;43mself\u001B[39;49m\u001B[38;5;241;43m.\u001B[39;49m\u001B[43mall_data\u001B[49m\u001B[43m[\u001B[49m\u001B[43mitem\u001B[49m\u001B[43m]\u001B[49m\n",
      "\u001B[1;31mKeyError\u001B[0m: 'reviews'"
     ]
    }
   ],
   "execution_count": 17
  },
  {
   "metadata": {
    "ExecuteTime": {
     "end_time": "2024-06-17T14:35:00.255065Z",
     "start_time": "2024-06-17T14:35:00.234222Z"
    }
   },
   "cell_type": "code",
   "source": "dataframe_database.create_mock_target(\"reviews\")",
   "id": "e79e79eb5f7e90db",
   "outputs": [
    {
     "ename": "KeyError",
     "evalue": "'reviews'",
     "output_type": "error",
     "traceback": [
      "\u001B[1;31m---------------------------------------------------------------------------\u001B[0m",
      "\u001B[1;31mKeyError\u001B[0m                                  Traceback (most recent call last)",
      "Cell \u001B[1;32mIn[18], line 1\u001B[0m\n\u001B[1;32m----> 1\u001B[0m \u001B[43mdataframe_database\u001B[49m\u001B[38;5;241;43m.\u001B[39;49m\u001B[43mcreate_mock_target\u001B[49m\u001B[43m(\u001B[49m\u001B[38;5;124;43m\"\u001B[39;49m\u001B[38;5;124;43mreviews\u001B[39;49m\u001B[38;5;124;43m\"\u001B[39;49m\u001B[43m)\u001B[49m\n",
      "File \u001B[1;32m~\\PycharmProjects\\GGSN---MAGN\\src\\magn\\database\\database.py:95\u001B[0m, in \u001B[0;36mDatabase.create_mock_target\u001B[1;34m(self, table_name, choices_iterable, seed_id)\u001B[0m\n\u001B[0;32m     92\u001B[0m \u001B[38;5;250m\u001B[39m\u001B[38;5;124;03m\"\"\"Creates a mock target DataFrame for the given table.\"\"\"\u001B[39;00m\n\u001B[0;32m     93\u001B[0m seed(seed_id)\n\u001B[1;32m---> 95\u001B[0m data, _ \u001B[38;5;241m=\u001B[39m \u001B[38;5;28;43mself\u001B[39;49m\u001B[43m[\u001B[49m\u001B[43mtable_name\u001B[49m\u001B[43m]\u001B[49m\n\u001B[0;32m     96\u001B[0m \u001B[38;5;28;01mif\u001B[39;00m choices_iterable \u001B[38;5;129;01mis\u001B[39;00m \u001B[38;5;28;01mNone\u001B[39;00m:\n\u001B[0;32m     97\u001B[0m     choices_iterable \u001B[38;5;241m=\u001B[39m data\u001B[38;5;241m.\u001B[39mcolumns\n",
      "File \u001B[1;32m~\\PycharmProjects\\GGSN---MAGN\\src\\magn\\database\\database.py:53\u001B[0m, in \u001B[0;36mDatabase.__getitem__\u001B[1;34m(self, item)\u001B[0m\n\u001B[0;32m     51\u001B[0m \u001B[38;5;28;01mdef\u001B[39;00m \u001B[38;5;21m__getitem__\u001B[39m(\u001B[38;5;28mself\u001B[39m, item: \u001B[38;5;28mstr\u001B[39m) \u001B[38;5;241m-\u001B[39m\u001B[38;5;241m>\u001B[39m Table:\n\u001B[0;32m     52\u001B[0m \u001B[38;5;250m    \u001B[39m\u001B[38;5;124;03m\"\"\"Lets you subscript the Database object to get a Table object.\"\"\"\u001B[39;00m\n\u001B[1;32m---> 53\u001B[0m     \u001B[38;5;28;01mreturn\u001B[39;00m \u001B[38;5;28;43mself\u001B[39;49m\u001B[38;5;241;43m.\u001B[39;49m\u001B[43mall_data\u001B[49m\u001B[43m[\u001B[49m\u001B[43mitem\u001B[49m\u001B[43m]\u001B[49m\n",
      "\u001B[1;31mKeyError\u001B[0m: 'reviews'"
     ]
    }
   ],
   "execution_count": 18
  },
  {
   "metadata": {},
   "cell_type": "code",
   "source": "",
   "id": "b5c2d9d65d5f34e1",
   "outputs": [],
   "execution_count": null
  },
  {
   "metadata": {},
   "cell_type": "code",
   "source": "",
   "id": "3117555e382af122",
   "outputs": [],
   "execution_count": null
  }
 ],
 "metadata": {
  "kernelspec": {
   "name": "gigsn",
   "language": "python",
   "display_name": "GiGSN"
  },
  "language_info": {
   "codemirror_mode": {
    "name": "ipython",
    "version": 2
   },
   "file_extension": ".py",
   "mimetype": "text/x-python",
   "name": "python",
   "nbconvert_exporter": "python",
   "pygments_lexer": "ipython2",
   "version": "2.7.6"
  }
 },
 "nbformat": 4,
 "nbformat_minor": 5
}
