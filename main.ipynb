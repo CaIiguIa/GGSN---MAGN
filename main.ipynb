{
 "cells": [
  {
   "metadata": {},
   "cell_type": "markdown",
   "source": [
    "# Projekt MAGN\n",
    "\n",
    "### Autorzy:\n",
    "\n",
    "- Szymon Jurecki\n",
    "- Dominik Breksa"
   ],
   "id": "13be8f19b56bc48d"
  },
  {
   "cell_type": "code",
   "id": "initial_id",
   "metadata": {
    "collapsed": true
   },
   "source": [
    "%pip install .\n",
    "%pip install pandas\n",
    "%pip install numpy\n",
    "%pip install kaggle"
   ],
   "outputs": [],
   "execution_count": null
  },
  {
   "cell_type": "markdown",
   "source": [
    "Pobranie oraz Przygotowanie Danych"
   ],
   "metadata": {
    "collapsed": false
   },
   "id": "1f6bb8bde81e4a6f"
  },
  {
   "cell_type": "code",
   "source": [
    "from pathlib import Path\n",
    "from typing import Final\n",
    "\n",
    "resources_dir: Final[Path] = Path('resources/data/')\n",
    "zip_data_file: Final[Path] = resources_dir.joinpath('pitchfork-data.zip')\n",
    "database_path: Final[Path]  = resources_dir.joinpath('database.sqlite')"
   ],
   "metadata": {
    "collapsed": false
   },
   "id": "d1c9901fc12cce66",
   "outputs": [],
   "execution_count": null
  },
  {
   "metadata": {},
   "cell_type": "markdown",
   "source": [
    "Pobranie danych z platformy Kaggle\n",
    "\n",
    "[Link do danych z platformy Kaggle](https://www.kaggle.com/datasets/nolanbconaway/pitchfork-data)"
   ],
   "id": "ca200f82ccb7b864"
  },
  {
   "metadata": {},
   "cell_type": "code",
   "source": [
    "from os.path import exists\n",
    "\n",
    "if not exists(zip_data_file):\n",
    "    !kaggle datasets download -d nolanbconaway/pitchfork-data -p resources/data"
   ],
   "id": "112c42936946007e",
   "outputs": [],
   "execution_count": null
  },
  {
   "metadata": {},
   "cell_type": "markdown",
   "source": [
    "Rozpakowanie danych do odpowiedniego katalogu"
   ],
   "id": "c922333d59fb2927"
  },
  {
   "metadata": {},
   "cell_type": "code",
   "source": [
    "from zipfile import ZipFile\n",
    "\n",
    "if not exists(database_path):\n",
    "    with ZipFile(zip_data_file, 'r') as zip_ref:\n",
    "        zip_ref.extractall(resources_dir)"
   ],
   "id": "ffe17589666c9475",
   "outputs": [],
   "execution_count": null
  },
  {
   "metadata": {},
   "cell_type": "markdown",
   "source": [
    "Dodanie kluczy głównych i obcych do bazy danych, ponieważ nie zostały one dodane podczas tworzenia na platformie Kaggle, a jest to ważne podczas tworzenia MAGN."
   ],
   "id": "360e80bb10c27325"
  },
  {
   "metadata": {},
   "cell_type": "code",
   "source": [
    "from typing import List, Tuple\n",
    "import sqlite3\n",
    "\n",
    "def get_table_columns_types(db_cursor: sqlite3.Cursor, table_name: str) -> List[Tuple[str, str]]:\n",
    "    \"\"\"Returns a list of tuples containing the column name and data type of given table in a database.\"\"\"\n",
    "    \n",
    "    return list(map(\n",
    "        lambda x: (x[1], x[2]),\n",
    "        db_cursor.execute(f\"\"\"\n",
    "            PRAGMA\n",
    "                table_info({table_name});\n",
    "        \"\"\").fetchall(),\n",
    "    ))\n",
    "\n",
    "def delete_duplicates(db_cursor: sqlite3.Cursor, table_name: str, column_name: str) -> None:\n",
    "    \"\"\"Deletes duplicates from a given table column in a database.\"\"\"\n",
    "    \n",
    "    db_cursor.execute(f\"\"\"\n",
    "        DELETE FROM\n",
    "            {table_name}\n",
    "        WHERE\n",
    "            {column_name} IN (\n",
    "                SELECT\n",
    "                    {column_name}\n",
    "                FROM\n",
    "                    {table_name}\n",
    "                GROUP BY\n",
    "                    {column_name}\n",
    "                HAVING\n",
    "                    COUNT(*) > 1\n",
    "            );\n",
    "    \"\"\")\n",
    "\n",
    "def create_table_with_primary_key(db_cursor: sqlite3.Cursor, table_name: str, temporary_table_name: str, column_name: str) -> None:\n",
    "    \"\"\"Creates a table with a primary key in a database.\"\"\"\n",
    "    \n",
    "    table_columns = get_table_columns_types(db_cursor, table_name)\n",
    "    \n",
    "    db_cursor.execute(f\"\"\"\n",
    "        CREATE TABLE {temporary_table_name} (\n",
    "            {\n",
    "                ', '.join(\n",
    "                    f'{column} {data_type}'\n",
    "                    if column != column_name\n",
    "                    else f'{column} {data_type} PRIMARY KEY'\n",
    "                    for column, data_type in table_columns\n",
    "                )\n",
    "            }\n",
    "        );\n",
    "    \"\"\")\n",
    "    \n",
    "def move_data_and_switch_tables(db_cursor: sqlite3.Cursor, table_name: str, temporary_table_name: str) -> None:\n",
    "    \"\"\"Moves data from a temporary table to the original table and switches the tables in a database.\"\"\"\n",
    "    \n",
    "    db_cursor.executescript(f\"\"\"\n",
    "        -- Move the data\n",
    "        INSERT INTO\n",
    "            {temporary_table_name}\n",
    "        SELECT\n",
    "            *\n",
    "        FROM\n",
    "            {table_name};\n",
    "        \n",
    "        -- Drop the old table\n",
    "        DROP TABLE\n",
    "            {table_name};\n",
    "        \n",
    "        -- Rename the new table\n",
    "        ALTER TABLE\n",
    "            {temporary_table_name}\n",
    "        RENAME TO\n",
    "            {table_name};\n",
    "    \"\"\")\n",
    "\n",
    "def add_primary_key(db_cursor: sqlite3.Cursor, table_name: str, column_name: str) -> None:\n",
    "    \"\"\"Adds a primary key to a given table column in a database.\"\"\"\n",
    "    temporary_table_name = f'{table_name}_'\n",
    "    \n",
    "    delete_duplicates(db_cursor, table_name, column_name)\n",
    "    create_table_with_primary_key(db_cursor, table_name, temporary_table_name, column_name)\n",
    "    move_data_and_switch_tables(db_cursor, table_name, temporary_table_name)\n",
    "\n",
    "def create_table_with_foreign_key(db_cursor: sqlite3.Cursor, table_name: str, column_name: str, foreign_table_name: str, foreign_column_name: str, temporary_foreign_table_name: str) -> None:\n",
    "    \"\"\"Creates a table with a foreign key in a database.\"\"\"\n",
    "\n",
    "    foreign_table_columns = get_table_columns_types(db_cursor, foreign_table_name)\n",
    "    \n",
    "    db_cursor.execute(f\"\"\"\n",
    "        CREATE TABLE {temporary_foreign_table_name} (\n",
    "            {\n",
    "            ', '.join(\n",
    "                f'{column} {data_type}'\n",
    "                for column, data_type in foreign_table_columns\n",
    "            )\n",
    "            },\n",
    "            CONSTRAINT fk_{foreign_table_name}_{foreign_column_name}\n",
    "                FOREIGN KEY\n",
    "                    ({foreign_column_name})\n",
    "                REFERENCES\n",
    "                    {table_name} ({column_name})\n",
    "        );\n",
    "    \"\"\")\n",
    "\n",
    "def add_foreign_key(db_cursor: sqlite3.Cursor, table_name: str, column_name: str, foreign_table_name: str, foreign_column_name: str) -> None:\n",
    "    \"\"\"Adds a foreign key to a given table column in a database.\"\"\"\n",
    "\n",
    "    temporary_foreign_table_name = f'{foreign_table_name}_'\n",
    "        \n",
    "    db_cursor.execute(f\"\"\"\n",
    "        PRAGMA\n",
    "            foreign_keys = OFF;\n",
    "    \"\"\")\n",
    "    \n",
    "    create_table_with_foreign_key(db_cursor, table_name, column_name, foreign_table_name, foreign_column_name, temporary_foreign_table_name)\n",
    "    move_data_and_switch_tables(db_cursor, foreign_table_name, temporary_foreign_table_name)\n",
    "\n",
    "    db_cursor.execute(f\"\"\"\n",
    "        PRAGMA\n",
    "            foreign_keys = ON;\n",
    "    \"\"\")"
   ],
   "id": "d79992ed27020211",
   "outputs": [],
   "execution_count": null
  },
  {
   "metadata": {},
   "cell_type": "code",
   "source": [
    "with sqlite3.connect(database_path) as conn:\n",
    "    cursor = conn.cursor()\n",
    "\n",
    "    cursor.execute(f\"\"\"BEGIN;\"\"\")\n",
    "    try:\n",
    "        add_primary_key(cursor, 'reviews', 'reviewid')\n",
    "\n",
    "        add_foreign_key(cursor, 'reviews', 'reviewid', 'artists', 'reviewid')\n",
    "        add_foreign_key(cursor, 'reviews', 'reviewid', 'content', 'reviewid')\n",
    "        add_foreign_key(cursor, 'reviews', 'reviewid', 'genres', 'reviewid')\n",
    "        add_foreign_key(cursor, 'reviews', 'reviewid', 'labels', 'reviewid')\n",
    "        add_foreign_key(cursor, 'reviews', 'reviewid', 'years', 'reviewid')\n",
    "    except Exception as error:\n",
    "        conn.rollback()\n",
    "        raise error\n",
    "    else:\n",
    "        conn.commit()"
   ],
   "id": "38fd4ac028fe0b1f",
   "outputs": [],
   "execution_count": null
  },
  {
   "metadata": {},
   "cell_type": "markdown",
   "source": [
    "![ERD Diagram for the database schema](docs/images/database_erd.png)"
   ],
   "id": "f6ce43c594a432f"
  },
  {
   "metadata": {},
   "cell_type": "code",
   "source": [
    "from magn.database.sqlite3 import get_table_names\n",
    "\n",
    "all_tables = get_table_names(database_path)\n",
    "\n",
    "all_tables"
   ],
   "id": "b4c96aa4268533ef",
   "outputs": [],
   "execution_count": null
  },
  {
   "metadata": {},
   "cell_type": "code",
   "source": [
    "from magn.database.sqlite3 import SQLite3KeysReader\n",
    "\n",
    "keys_reader = SQLite3KeysReader(database_path, all_tables)\n",
    "keys_reader.read()"
   ],
   "id": "850b84268716c77",
   "outputs": [],
   "execution_count": null
  },
  {
   "metadata": {},
   "cell_type": "code",
   "source": [
    "from magn.database.sqlite3 import SQLite3DataReader\n",
    "\n",
    "data_reader = SQLite3DataReader(database_path, all_tables, keys_reader.read())\n",
    "data_reader.read()"
   ],
   "id": "e5bb74773fbe6fc6",
   "outputs": [],
   "execution_count": null
  },
  {
   "metadata": {},
   "cell_type": "code",
   "source": [
    "dfs = data_reader.read()\n",
    "\n",
    "dfs['artists']"
   ],
   "id": "8f3992a59d4f64a8",
   "outputs": [],
   "execution_count": null
  },
  {
   "metadata": {},
   "cell_type": "code",
   "source": [
    "dfs['reviews']"
   ],
   "id": "e6437831a5df6514",
   "outputs": [],
   "execution_count": null
  },
  {
   "metadata": {},
   "cell_type": "code",
   "source": [
    "from magn.database.database import Database\n",
    "\n",
    "dataframe_database = Database.from_sqlite3(database_path)"
   ],
   "id": "15ddf9dcad08b926",
   "outputs": [],
   "execution_count": null
  },
  {
   "cell_type": "code",
   "source": [
    "from magn.database.topological_sort import TopologicalSorter\n",
    "\n",
    "sort_data = {\n",
    "    '0': ['1'],\n",
    "    '1': ['2'],\n",
    "    '2': [],\n",
    "    '3': ['1', '2']\n",
    "}\n",
    "\n",
    "topological_sort = TopologicalSorter()\n",
    "for x in topological_sort.sort(sort_data):\n",
    "    print(x)"
   ],
   "metadata": {
    "collapsed": false
   },
   "id": "b5037ac456e301b2",
   "outputs": [],
   "execution_count": null
  },
  {
   "metadata": {},
   "cell_type": "code",
   "source": "list(dataframe_database.sort())",
   "id": "ec2c65ed8c718106",
   "outputs": [],
   "execution_count": null
  },
  {
   "metadata": {},
   "cell_type": "code",
   "source": "dataframe_database",
   "id": "7b26e94e14977feb",
   "outputs": [],
   "execution_count": null
  },
  {
   "metadata": {},
   "cell_type": "code",
   "source": "dataframe_database['artists']",
   "id": "1f130c6c512ba5f3",
   "outputs": [],
   "execution_count": null
  }
 ],
 "metadata": {
  "kernelspec": {
   "name": "gigsn",
   "language": "python",
   "display_name": "GiGSN"
  },
  "language_info": {
   "codemirror_mode": {
    "name": "ipython",
    "version": 2
   },
   "file_extension": ".py",
   "mimetype": "text/x-python",
   "name": "python",
   "nbconvert_exporter": "python",
   "pygments_lexer": "ipython2",
   "version": "2.7.6"
  }
 },
 "nbformat": 4,
 "nbformat_minor": 5
}
