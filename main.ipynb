{
 "cells": [
  {
   "cell_type": "markdown",
   "source": [],
   "metadata": {
    "collapsed": false
   },
   "id": "8bc6cd56429ef4bd"
  },
  {
   "metadata": {},
   "cell_type": "markdown",
   "source": [
    "# Projekt MAGN\n",
    "\n",
    "### Autorzy:\n",
    "\n",
    "- Szymon Jurecki\n",
    "- Dominik Breksa"
   ],
   "id": "13be8f19b56bc48d"
  },
  {
   "cell_type": "code",
   "id": "initial_id",
   "metadata": {
    "collapsed": true,
    "ExecuteTime": {
     "end_time": "2024-06-12T22:32:42.429229Z",
     "start_time": "2024-06-12T22:32:31.283673Z"
    }
   },
   "source": [
    "%pip install .\n",
    "%pip install pandas\n",
    "%pip install numpy"
   ],
   "outputs": [
    {
     "name": "stdout",
     "output_type": "stream",
     "text": [
      "Processing c:\\users\\domin\\pycharmprojects\\ggsn---magn\n",
      "  Installing build dependencies: started\n",
      "  Installing build dependencies: finished with status 'done'\n",
      "  Getting requirements to build wheel: started\n",
      "  Getting requirements to build wheel: finished with status 'done'\n",
      "  Installing backend dependencies: started\n",
      "  Installing backend dependencies: finished with status 'done'\n",
      "  Preparing metadata (pyproject.toml): started\n",
      "  Preparing metadata (pyproject.toml): finished with status 'done'\n",
      "Requirement already satisfied: anyio==4.3.0 in c:\\users\\domin\\pycharmprojects\\ggsn---magn\\.venv\\lib\\site-packages (from magn==1.0.0.0) (4.3.0)\n",
      "Requirement already satisfied: argon2-cffi==23.1.0 in c:\\users\\domin\\pycharmprojects\\ggsn---magn\\.venv\\lib\\site-packages (from magn==1.0.0.0) (23.1.0)\n",
      "Requirement already satisfied: argon2-cffi-bindings==21.2.0 in c:\\users\\domin\\pycharmprojects\\ggsn---magn\\.venv\\lib\\site-packages (from magn==1.0.0.0) (21.2.0)\n",
      "Requirement already satisfied: arrow==1.3.0 in c:\\users\\domin\\pycharmprojects\\ggsn---magn\\.venv\\lib\\site-packages (from magn==1.0.0.0) (1.3.0)\n",
      "Requirement already satisfied: asttokens==2.4.1 in c:\\users\\domin\\pycharmprojects\\ggsn---magn\\.venv\\lib\\site-packages (from magn==1.0.0.0) (2.4.1)\n",
      "Requirement already satisfied: async-lru==2.0.4 in c:\\users\\domin\\pycharmprojects\\ggsn---magn\\.venv\\lib\\site-packages (from magn==1.0.0.0) (2.0.4)\n",
      "Requirement already satisfied: attrs==23.2.0 in c:\\users\\domin\\pycharmprojects\\ggsn---magn\\.venv\\lib\\site-packages (from magn==1.0.0.0) (23.2.0)\n",
      "Requirement already satisfied: Babel==2.15.0 in c:\\users\\domin\\pycharmprojects\\ggsn---magn\\.venv\\lib\\site-packages (from magn==1.0.0.0) (2.15.0)\n",
      "Requirement already satisfied: beautifulsoup4==4.12.3 in c:\\users\\domin\\pycharmprojects\\ggsn---magn\\.venv\\lib\\site-packages (from magn==1.0.0.0) (4.12.3)\n",
      "Requirement already satisfied: bleach==6.1.0 in c:\\users\\domin\\pycharmprojects\\ggsn---magn\\.venv\\lib\\site-packages (from magn==1.0.0.0) (6.1.0)\n",
      "Requirement already satisfied: certifi==2024.2.2 in c:\\users\\domin\\pycharmprojects\\ggsn---magn\\.venv\\lib\\site-packages (from magn==1.0.0.0) (2024.2.2)\n",
      "Requirement already satisfied: cffi==1.16.0 in c:\\users\\domin\\pycharmprojects\\ggsn---magn\\.venv\\lib\\site-packages (from magn==1.0.0.0) (1.16.0)\n",
      "Requirement already satisfied: charset-normalizer==3.3.2 in c:\\users\\domin\\pycharmprojects\\ggsn---magn\\.venv\\lib\\site-packages (from magn==1.0.0.0) (3.3.2)\n",
      "Requirement already satisfied: colorama==0.4.6 in c:\\users\\domin\\pycharmprojects\\ggsn---magn\\.venv\\lib\\site-packages (from magn==1.0.0.0) (0.4.6)\n",
      "Requirement already satisfied: comm==0.2.2 in c:\\users\\domin\\pycharmprojects\\ggsn---magn\\.venv\\lib\\site-packages (from magn==1.0.0.0) (0.2.2)\n",
      "Requirement already satisfied: contourpy==1.2.1 in c:\\users\\domin\\pycharmprojects\\ggsn---magn\\.venv\\lib\\site-packages (from magn==1.0.0.0) (1.2.1)\n",
      "Requirement already satisfied: cycler==0.12.1 in c:\\users\\domin\\pycharmprojects\\ggsn---magn\\.venv\\lib\\site-packages (from magn==1.0.0.0) (0.12.1)\n",
      "Requirement already satisfied: debugpy==1.8.1 in c:\\users\\domin\\pycharmprojects\\ggsn---magn\\.venv\\lib\\site-packages (from magn==1.0.0.0) (1.8.1)\n",
      "Requirement already satisfied: decorator==5.1.1 in c:\\users\\domin\\pycharmprojects\\ggsn---magn\\.venv\\lib\\site-packages (from magn==1.0.0.0) (5.1.1)\n",
      "Requirement already satisfied: defusedxml==0.7.1 in c:\\users\\domin\\pycharmprojects\\ggsn---magn\\.venv\\lib\\site-packages (from magn==1.0.0.0) (0.7.1)\n",
      "Requirement already satisfied: executing==2.0.1 in c:\\users\\domin\\pycharmprojects\\ggsn---magn\\.venv\\lib\\site-packages (from magn==1.0.0.0) (2.0.1)\n",
      "Requirement already satisfied: fastjsonschema==2.19.1 in c:\\users\\domin\\pycharmprojects\\ggsn---magn\\.venv\\lib\\site-packages (from magn==1.0.0.0) (2.19.1)\n",
      "Requirement already satisfied: fonttools==4.51.0 in c:\\users\\domin\\pycharmprojects\\ggsn---magn\\.venv\\lib\\site-packages (from magn==1.0.0.0) (4.51.0)\n",
      "Requirement already satisfied: fqdn==1.5.1 in c:\\users\\domin\\pycharmprojects\\ggsn---magn\\.venv\\lib\\site-packages (from magn==1.0.0.0) (1.5.1)\n",
      "Requirement already satisfied: h11==0.14.0 in c:\\users\\domin\\pycharmprojects\\ggsn---magn\\.venv\\lib\\site-packages (from magn==1.0.0.0) (0.14.0)\n",
      "Requirement already satisfied: httpcore==1.0.5 in c:\\users\\domin\\pycharmprojects\\ggsn---magn\\.venv\\lib\\site-packages (from magn==1.0.0.0) (1.0.5)\n",
      "Requirement already satisfied: httpx==0.27.0 in c:\\users\\domin\\pycharmprojects\\ggsn---magn\\.venv\\lib\\site-packages (from magn==1.0.0.0) (0.27.0)\n",
      "Requirement already satisfied: idna==3.7 in c:\\users\\domin\\pycharmprojects\\ggsn---magn\\.venv\\lib\\site-packages (from magn==1.0.0.0) (3.7)\n",
      "Requirement already satisfied: ipykernel==6.29.4 in c:\\users\\domin\\pycharmprojects\\ggsn---magn\\.venv\\lib\\site-packages (from magn==1.0.0.0) (6.29.4)\n",
      "Requirement already satisfied: ipython==8.24.0 in c:\\users\\domin\\pycharmprojects\\ggsn---magn\\.venv\\lib\\site-packages (from magn==1.0.0.0) (8.24.0)\n",
      "Requirement already satisfied: ipywidgets==8.1.2 in c:\\users\\domin\\pycharmprojects\\ggsn---magn\\.venv\\lib\\site-packages (from magn==1.0.0.0) (8.1.2)\n",
      "Requirement already satisfied: isoduration==20.11.0 in c:\\users\\domin\\pycharmprojects\\ggsn---magn\\.venv\\lib\\site-packages (from magn==1.0.0.0) (20.11.0)\n",
      "Requirement already satisfied: jedi==0.19.1 in c:\\users\\domin\\pycharmprojects\\ggsn---magn\\.venv\\lib\\site-packages (from magn==1.0.0.0) (0.19.1)\n",
      "Requirement already satisfied: Jinja2==3.1.4 in c:\\users\\domin\\pycharmprojects\\ggsn---magn\\.venv\\lib\\site-packages (from magn==1.0.0.0) (3.1.4)\n",
      "Requirement already satisfied: json5==0.9.25 in c:\\users\\domin\\pycharmprojects\\ggsn---magn\\.venv\\lib\\site-packages (from magn==1.0.0.0) (0.9.25)\n",
      "Requirement already satisfied: jsonpointer==2.4 in c:\\users\\domin\\pycharmprojects\\ggsn---magn\\.venv\\lib\\site-packages (from magn==1.0.0.0) (2.4)\n",
      "Requirement already satisfied: jsonschema==4.22.0 in c:\\users\\domin\\pycharmprojects\\ggsn---magn\\.venv\\lib\\site-packages (from magn==1.0.0.0) (4.22.0)\n",
      "Requirement already satisfied: jsonschema-specifications==2023.12.1 in c:\\users\\domin\\pycharmprojects\\ggsn---magn\\.venv\\lib\\site-packages (from magn==1.0.0.0) (2023.12.1)\n",
      "Requirement already satisfied: jupyter==1.0.0 in c:\\users\\domin\\pycharmprojects\\ggsn---magn\\.venv\\lib\\site-packages (from magn==1.0.0.0) (1.0.0)\n",
      "Requirement already satisfied: jupyter-console==6.6.3 in c:\\users\\domin\\pycharmprojects\\ggsn---magn\\.venv\\lib\\site-packages (from magn==1.0.0.0) (6.6.3)\n",
      "Requirement already satisfied: jupyter-events==0.10.0 in c:\\users\\domin\\pycharmprojects\\ggsn---magn\\.venv\\lib\\site-packages (from magn==1.0.0.0) (0.10.0)\n",
      "Requirement already satisfied: jupyter-lsp==2.2.5 in c:\\users\\domin\\pycharmprojects\\ggsn---magn\\.venv\\lib\\site-packages (from magn==1.0.0.0) (2.2.5)\n",
      "Requirement already satisfied: jupyter-client==8.6.1 in c:\\users\\domin\\pycharmprojects\\ggsn---magn\\.venv\\lib\\site-packages (from magn==1.0.0.0) (8.6.1)\n",
      "Requirement already satisfied: jupyter-core==5.7.2 in c:\\users\\domin\\pycharmprojects\\ggsn---magn\\.venv\\lib\\site-packages (from magn==1.0.0.0) (5.7.2)\n",
      "Requirement already satisfied: jupyter-server==2.14.0 in c:\\users\\domin\\pycharmprojects\\ggsn---magn\\.venv\\lib\\site-packages (from magn==1.0.0.0) (2.14.0)\n",
      "Requirement already satisfied: jupyter-server-terminals==0.5.3 in c:\\users\\domin\\pycharmprojects\\ggsn---magn\\.venv\\lib\\site-packages (from magn==1.0.0.0) (0.5.3)\n",
      "Requirement already satisfied: jupyterlab==4.2.0 in c:\\users\\domin\\pycharmprojects\\ggsn---magn\\.venv\\lib\\site-packages (from magn==1.0.0.0) (4.2.0)\n",
      "Requirement already satisfied: jupyterlab-pygments==0.3.0 in c:\\users\\domin\\pycharmprojects\\ggsn---magn\\.venv\\lib\\site-packages (from magn==1.0.0.0) (0.3.0)\n",
      "Requirement already satisfied: jupyterlab-server==2.27.1 in c:\\users\\domin\\pycharmprojects\\ggsn---magn\\.venv\\lib\\site-packages (from magn==1.0.0.0) (2.27.1)\n",
      "Requirement already satisfied: jupyterlab-widgets==3.0.10 in c:\\users\\domin\\pycharmprojects\\ggsn---magn\\.venv\\lib\\site-packages (from magn==1.0.0.0) (3.0.10)\n",
      "Requirement already satisfied: kiwisolver==1.4.5 in c:\\users\\domin\\pycharmprojects\\ggsn---magn\\.venv\\lib\\site-packages (from magn==1.0.0.0) (1.4.5)\n",
      "Requirement already satisfied: MarkupSafe==2.1.5 in c:\\users\\domin\\pycharmprojects\\ggsn---magn\\.venv\\lib\\site-packages (from magn==1.0.0.0) (2.1.5)\n",
      "Requirement already satisfied: matplotlib==3.9.0 in c:\\users\\domin\\pycharmprojects\\ggsn---magn\\.venv\\lib\\site-packages (from magn==1.0.0.0) (3.9.0)\n",
      "Requirement already satisfied: matplotlib-inline==0.1.7 in c:\\users\\domin\\pycharmprojects\\ggsn---magn\\.venv\\lib\\site-packages (from magn==1.0.0.0) (0.1.7)\n",
      "Requirement already satisfied: mistune==3.0.2 in c:\\users\\domin\\pycharmprojects\\ggsn---magn\\.venv\\lib\\site-packages (from magn==1.0.0.0) (3.0.2)\n",
      "Requirement already satisfied: nbclient==0.10.0 in c:\\users\\domin\\pycharmprojects\\ggsn---magn\\.venv\\lib\\site-packages (from magn==1.0.0.0) (0.10.0)\n",
      "Requirement already satisfied: nbconvert==7.16.4 in c:\\users\\domin\\pycharmprojects\\ggsn---magn\\.venv\\lib\\site-packages (from magn==1.0.0.0) (7.16.4)\n",
      "Requirement already satisfied: nbformat==5.10.4 in c:\\users\\domin\\pycharmprojects\\ggsn---magn\\.venv\\lib\\site-packages (from magn==1.0.0.0) (5.10.4)\n",
      "Requirement already satisfied: nest-asyncio==1.6.0 in c:\\users\\domin\\pycharmprojects\\ggsn---magn\\.venv\\lib\\site-packages (from magn==1.0.0.0) (1.6.0)\n",
      "Requirement already satisfied: networkx==3.3 in c:\\users\\domin\\pycharmprojects\\ggsn---magn\\.venv\\lib\\site-packages (from magn==1.0.0.0) (3.3)\n",
      "Requirement already satisfied: notebook==7.2.0 in c:\\users\\domin\\pycharmprojects\\ggsn---magn\\.venv\\lib\\site-packages (from magn==1.0.0.0) (7.2.0)\n",
      "Requirement already satisfied: notebook-shim==0.2.4 in c:\\users\\domin\\pycharmprojects\\ggsn---magn\\.venv\\lib\\site-packages (from magn==1.0.0.0) (0.2.4)\n",
      "Requirement already satisfied: numpy==1.26.4 in c:\\users\\domin\\pycharmprojects\\ggsn---magn\\.venv\\lib\\site-packages (from magn==1.0.0.0) (1.26.4)\n",
      "Requirement already satisfied: overrides==7.7.0 in c:\\users\\domin\\pycharmprojects\\ggsn---magn\\.venv\\lib\\site-packages (from magn==1.0.0.0) (7.7.0)\n",
      "Requirement already satisfied: packaging==24.0 in c:\\users\\domin\\pycharmprojects\\ggsn---magn\\.venv\\lib\\site-packages (from magn==1.0.0.0) (24.0)\n",
      "Requirement already satisfied: pandocfilters==1.5.1 in c:\\users\\domin\\pycharmprojects\\ggsn---magn\\.venv\\lib\\site-packages (from magn==1.0.0.0) (1.5.1)\n",
      "Requirement already satisfied: parso==0.8.4 in c:\\users\\domin\\pycharmprojects\\ggsn---magn\\.venv\\lib\\site-packages (from magn==1.0.0.0) (0.8.4)\n",
      "Requirement already satisfied: pandas==2.2.2 in c:\\users\\domin\\pycharmprojects\\ggsn---magn\\.venv\\lib\\site-packages (from magn==1.0.0.0) (2.2.2)\n",
      "Requirement already satisfied: pillow==10.3.0 in c:\\users\\domin\\pycharmprojects\\ggsn---magn\\.venv\\lib\\site-packages (from magn==1.0.0.0) (10.3.0)\n",
      "Requirement already satisfied: platformdirs==4.2.2 in c:\\users\\domin\\pycharmprojects\\ggsn---magn\\.venv\\lib\\site-packages (from magn==1.0.0.0) (4.2.2)\n",
      "Requirement already satisfied: prometheus-client==0.20.0 in c:\\users\\domin\\pycharmprojects\\ggsn---magn\\.venv\\lib\\site-packages (from magn==1.0.0.0) (0.20.0)\n",
      "Requirement already satisfied: prompt-toolkit==3.0.43 in c:\\users\\domin\\pycharmprojects\\ggsn---magn\\.venv\\lib\\site-packages (from magn==1.0.0.0) (3.0.43)\n",
      "Requirement already satisfied: psutil==5.9.8 in c:\\users\\domin\\pycharmprojects\\ggsn---magn\\.venv\\lib\\site-packages (from magn==1.0.0.0) (5.9.8)\n",
      "Requirement already satisfied: pure-eval==0.2.2 in c:\\users\\domin\\pycharmprojects\\ggsn---magn\\.venv\\lib\\site-packages (from magn==1.0.0.0) (0.2.2)\n",
      "Requirement already satisfied: pycparser==2.22 in c:\\users\\domin\\pycharmprojects\\ggsn---magn\\.venv\\lib\\site-packages (from magn==1.0.0.0) (2.22)\n",
      "Requirement already satisfied: Pygments==2.18.0 in c:\\users\\domin\\pycharmprojects\\ggsn---magn\\.venv\\lib\\site-packages (from magn==1.0.0.0) (2.18.0)\n",
      "Requirement already satisfied: pyparsing==3.1.2 in c:\\users\\domin\\pycharmprojects\\ggsn---magn\\.venv\\lib\\site-packages (from magn==1.0.0.0) (3.1.2)\n",
      "Requirement already satisfied: python-dateutil==2.9.0.post0 in c:\\users\\domin\\pycharmprojects\\ggsn---magn\\.venv\\lib\\site-packages (from magn==1.0.0.0) (2.9.0.post0)\n",
      "Requirement already satisfied: python-json-logger==2.0.7 in c:\\users\\domin\\pycharmprojects\\ggsn---magn\\.venv\\lib\\site-packages (from magn==1.0.0.0) (2.0.7)\n",
      "Requirement already satisfied: pywin32==306 in c:\\users\\domin\\pycharmprojects\\ggsn---magn\\.venv\\lib\\site-packages (from magn==1.0.0.0) (306)\n",
      "Requirement already satisfied: pywinpty==2.0.13 in c:\\users\\domin\\pycharmprojects\\ggsn---magn\\.venv\\lib\\site-packages (from magn==1.0.0.0) (2.0.13)\n",
      "Requirement already satisfied: PyYAML==6.0.1 in c:\\users\\domin\\pycharmprojects\\ggsn---magn\\.venv\\lib\\site-packages (from magn==1.0.0.0) (6.0.1)\n",
      "Requirement already satisfied: pyzmq==26.0.3 in c:\\users\\domin\\pycharmprojects\\ggsn---magn\\.venv\\lib\\site-packages (from magn==1.0.0.0) (26.0.3)\n",
      "Requirement already satisfied: qtconsole==5.5.2 in c:\\users\\domin\\pycharmprojects\\ggsn---magn\\.venv\\lib\\site-packages (from magn==1.0.0.0) (5.5.2)\n",
      "Requirement already satisfied: QtPy==2.4.1 in c:\\users\\domin\\pycharmprojects\\ggsn---magn\\.venv\\lib\\site-packages (from magn==1.0.0.0) (2.4.1)\n",
      "Requirement already satisfied: referencing==0.35.1 in c:\\users\\domin\\pycharmprojects\\ggsn---magn\\.venv\\lib\\site-packages (from magn==1.0.0.0) (0.35.1)\n",
      "Requirement already satisfied: requests==2.32.2 in c:\\users\\domin\\pycharmprojects\\ggsn---magn\\.venv\\lib\\site-packages (from magn==1.0.0.0) (2.32.2)\n",
      "Requirement already satisfied: rfc3339-validator==0.1.4 in c:\\users\\domin\\pycharmprojects\\ggsn---magn\\.venv\\lib\\site-packages (from magn==1.0.0.0) (0.1.4)\n",
      "Requirement already satisfied: rfc3986-validator==0.1.1 in c:\\users\\domin\\pycharmprojects\\ggsn---magn\\.venv\\lib\\site-packages (from magn==1.0.0.0) (0.1.1)\n",
      "Requirement already satisfied: rpds-py==0.18.1 in c:\\users\\domin\\pycharmprojects\\ggsn---magn\\.venv\\lib\\site-packages (from magn==1.0.0.0) (0.18.1)\n",
      "Requirement already satisfied: Send2Trash==1.8.3 in c:\\users\\domin\\pycharmprojects\\ggsn---magn\\.venv\\lib\\site-packages (from magn==1.0.0.0) (1.8.3)\n",
      "Requirement already satisfied: six==1.16.0 in c:\\users\\domin\\pycharmprojects\\ggsn---magn\\.venv\\lib\\site-packages (from magn==1.0.0.0) (1.16.0)\n",
      "Requirement already satisfied: sniffio==1.3.1 in c:\\users\\domin\\pycharmprojects\\ggsn---magn\\.venv\\lib\\site-packages (from magn==1.0.0.0) (1.3.1)\n",
      "Requirement already satisfied: soupsieve==2.5 in c:\\users\\domin\\pycharmprojects\\ggsn---magn\\.venv\\lib\\site-packages (from magn==1.0.0.0) (2.5)\n",
      "Requirement already satisfied: stack-data==0.6.3 in c:\\users\\domin\\pycharmprojects\\ggsn---magn\\.venv\\lib\\site-packages (from magn==1.0.0.0) (0.6.3)\n",
      "Requirement already satisfied: terminado==0.18.1 in c:\\users\\domin\\pycharmprojects\\ggsn---magn\\.venv\\lib\\site-packages (from magn==1.0.0.0) (0.18.1)\n",
      "Requirement already satisfied: tinycss2==1.3.0 in c:\\users\\domin\\pycharmprojects\\ggsn---magn\\.venv\\lib\\site-packages (from magn==1.0.0.0) (1.3.0)\n",
      "Requirement already satisfied: tornado==6.4 in c:\\users\\domin\\pycharmprojects\\ggsn---magn\\.venv\\lib\\site-packages (from magn==1.0.0.0) (6.4)\n",
      "Requirement already satisfied: traitlets==5.14.3 in c:\\users\\domin\\pycharmprojects\\ggsn---magn\\.venv\\lib\\site-packages (from magn==1.0.0.0) (5.14.3)\n",
      "Requirement already satisfied: types-python-dateutil==2.9.0.20240316 in c:\\users\\domin\\pycharmprojects\\ggsn---magn\\.venv\\lib\\site-packages (from magn==1.0.0.0) (2.9.0.20240316)\n",
      "Requirement already satisfied: uri-template==1.3.0 in c:\\users\\domin\\pycharmprojects\\ggsn---magn\\.venv\\lib\\site-packages (from magn==1.0.0.0) (1.3.0)\n",
      "Requirement already satisfied: urllib3==2.2.1 in c:\\users\\domin\\pycharmprojects\\ggsn---magn\\.venv\\lib\\site-packages (from magn==1.0.0.0) (2.2.1)\n",
      "Requirement already satisfied: wcwidth==0.2.13 in c:\\users\\domin\\pycharmprojects\\ggsn---magn\\.venv\\lib\\site-packages (from magn==1.0.0.0) (0.2.13)\n",
      "Requirement already satisfied: webcolors==1.13 in c:\\users\\domin\\pycharmprojects\\ggsn---magn\\.venv\\lib\\site-packages (from magn==1.0.0.0) (1.13)\n",
      "Requirement already satisfied: webencodings==0.5.1 in c:\\users\\domin\\pycharmprojects\\ggsn---magn\\.venv\\lib\\site-packages (from magn==1.0.0.0) (0.5.1)\n",
      "Requirement already satisfied: websocket-client==1.8.0 in c:\\users\\domin\\pycharmprojects\\ggsn---magn\\.venv\\lib\\site-packages (from magn==1.0.0.0) (1.8.0)\n",
      "Requirement already satisfied: widgetsnbextension==4.0.10 in c:\\users\\domin\\pycharmprojects\\ggsn---magn\\.venv\\lib\\site-packages (from magn==1.0.0.0) (4.0.10)\n",
      "Requirement already satisfied: pytz>=2020.1 in c:\\users\\domin\\pycharmprojects\\ggsn---magn\\.venv\\lib\\site-packages (from pandas==2.2.2->magn==1.0.0.0) (2024.1)\n",
      "Requirement already satisfied: tzdata>=2022.7 in c:\\users\\domin\\pycharmprojects\\ggsn---magn\\.venv\\lib\\site-packages (from pandas==2.2.2->magn==1.0.0.0) (2024.1)\n",
      "Building wheels for collected packages: magn\n",
      "  Building wheel for magn (pyproject.toml): started\n",
      "  Building wheel for magn (pyproject.toml): finished with status 'done'\n",
      "  Created wheel for magn: filename=magn-1.0.0.0-py3-none-any.whl size=9937 sha256=2b80fc024412c002b040cf57159ba06cc6a43434a6c6ff47dfeada08ee0fe59a\n",
      "  Stored in directory: c:\\users\\domin\\appdata\\local\\pip\\cache\\wheels\\02\\69\\7a\\7a321fc99cdf850f17c5dbe96e53ef1e4b07adda9d5bd3d1f7\n",
      "Successfully built magn\n",
      "Installing collected packages: magn\n",
      "  Attempting uninstall: magn\n",
      "    Found existing installation: magn 1.0.0.0\n",
      "    Not uninstalling magn at c:\\users\\domin\\pycharmprojects\\ggsn---magn\\src, outside environment C:\\Users\\domin\\PycharmProjects\\GGSN---MAGN\\.venv\n",
      "    Can't uninstall 'magn'. No files were found to uninstall.\n",
      "Successfully installed magn-1.0.0.0\n",
      "Note: you may need to restart the kernel to use updated packages.\n"
     ]
    },
    {
     "name": "stderr",
     "output_type": "stream",
     "text": [
      "DEPRECATION: Loading egg at c:\\users\\domin\\pycharmprojects\\ggsn---magn\\.venv\\lib\\site-packages\\magn-1.0.0.0-py3.12.egg is deprecated. pip 24.3 will enforce this behaviour change. A possible replacement is to use pip for package installation.. Discussion can be found at https://github.com/pypa/pip/issues/12330\n"
     ]
    },
    {
     "name": "stdout",
     "output_type": "stream",
     "text": [
      "Requirement already satisfied: pandas in c:\\users\\domin\\pycharmprojects\\ggsn---magn\\.venv\\lib\\site-packages (2.2.2)\n",
      "Requirement already satisfied: numpy>=1.26.0 in c:\\users\\domin\\pycharmprojects\\ggsn---magn\\.venv\\lib\\site-packages (from pandas) (1.26.4)\n",
      "Requirement already satisfied: python-dateutil>=2.8.2 in c:\\users\\domin\\pycharmprojects\\ggsn---magn\\.venv\\lib\\site-packages (from pandas) (2.9.0.post0)\n",
      "Requirement already satisfied: pytz>=2020.1 in c:\\users\\domin\\pycharmprojects\\ggsn---magn\\.venv\\lib\\site-packages (from pandas) (2024.1)\n",
      "Requirement already satisfied: tzdata>=2022.7 in c:\\users\\domin\\pycharmprojects\\ggsn---magn\\.venv\\lib\\site-packages (from pandas) (2024.1)\n",
      "Requirement already satisfied: six>=1.5 in c:\\users\\domin\\pycharmprojects\\ggsn---magn\\.venv\\lib\\site-packages (from python-dateutil>=2.8.2->pandas) (1.16.0)\n",
      "Note: you may need to restart the kernel to use updated packages.\n"
     ]
    },
    {
     "name": "stderr",
     "output_type": "stream",
     "text": [
      "DEPRECATION: Loading egg at c:\\users\\domin\\pycharmprojects\\ggsn---magn\\.venv\\lib\\site-packages\\magn-1.0.0.0-py3.12.egg is deprecated. pip 24.3 will enforce this behaviour change. A possible replacement is to use pip for package installation.. Discussion can be found at https://github.com/pypa/pip/issues/12330\n"
     ]
    },
    {
     "name": "stdout",
     "output_type": "stream",
     "text": [
      "Requirement already satisfied: numpy in c:\\users\\domin\\pycharmprojects\\ggsn---magn\\.venv\\lib\\site-packages (1.26.4)\n",
      "Note: you may need to restart the kernel to use updated packages.\n"
     ]
    },
    {
     "name": "stderr",
     "output_type": "stream",
     "text": [
      "DEPRECATION: Loading egg at c:\\users\\domin\\pycharmprojects\\ggsn---magn\\.venv\\lib\\site-packages\\magn-1.0.0.0-py3.12.egg is deprecated. pip 24.3 will enforce this behaviour change. A possible replacement is to use pip for package installation.. Discussion can be found at https://github.com/pypa/pip/issues/12330\n"
     ]
    }
   ],
   "execution_count": 18
  },
  {
   "cell_type": "markdown",
   "source": "Pobranie oraz Przygotowanie Danych",
   "metadata": {
    "collapsed": false
   },
   "id": "1f6bb8bde81e4a6f"
  },
  {
   "cell_type": "code",
   "source": [
    "from pathlib import Path\n",
    "from typing import Final\n",
    "\n",
    "resources_dir: Final[Path] = Path('resources/data/')\n",
    "zip_data_file: Final[Path] = resources_dir.joinpath('pitchfork-data.zip')\n",
    "database_path: Final[Path]  = resources_dir.joinpath('database.sqlite')"
   ],
   "metadata": {
    "collapsed": false,
    "ExecuteTime": {
     "end_time": "2024-06-12T22:32:42.433094Z",
     "start_time": "2024-06-12T22:32:42.430233Z"
    }
   },
   "id": "d1c9901fc12cce66",
   "outputs": [],
   "execution_count": 19
  },
  {
   "metadata": {},
   "cell_type": "markdown",
   "source": [
    "Pobranie danych z platformy Kaggle\n",
    "\n",
    "[Link do danych z platformy Kaggle](https://www.kaggle.com/datasets/nolanbconaway/pitchfork-data)"
   ],
   "id": "ca200f82ccb7b864"
  },
  {
   "metadata": {
    "ExecuteTime": {
     "end_time": "2024-06-12T22:32:42.446357Z",
     "start_time": "2024-06-12T22:32:42.433094Z"
    }
   },
   "cell_type": "code",
   "source": [
    "from os.path import exists\n",
    "\n",
    "if not exists(zip_data_file):\n",
    "    !kaggle datasets download -d nolanbconaway/pitchfork-data -p resources/data"
   ],
   "id": "112c42936946007e",
   "outputs": [],
   "execution_count": 20
  },
  {
   "metadata": {},
   "cell_type": "markdown",
   "source": "Rozpakowanie danych do odpowiedniego katalogu",
   "id": "c922333d59fb2927"
  },
  {
   "metadata": {
    "ExecuteTime": {
     "end_time": "2024-06-12T22:32:42.458062Z",
     "start_time": "2024-06-12T22:32:42.447366Z"
    }
   },
   "cell_type": "code",
   "source": [
    "from zipfile import ZipFile\n",
    "\n",
    "if not exists(database_path):\n",
    "    with ZipFile(zip_data_file, 'r') as zip_ref:\n",
    "        zip_ref.extractall(resources_dir)"
   ],
   "id": "ffe17589666c9475",
   "outputs": [],
   "execution_count": 21
  },
  {
   "metadata": {},
   "cell_type": "markdown",
   "source": "Dodanie kluczy głównych i obcych do bazy danych, ponieważ nie zostały one dodane podczas tworzenia na platformie Kaggle, a jest to ważne podczas tworzenia MAGN.",
   "id": "360e80bb10c27325"
  },
  {
   "metadata": {
    "ExecuteTime": {
     "end_time": "2024-06-12T22:32:42.470679Z",
     "start_time": "2024-06-12T22:32:42.459071Z"
    }
   },
   "cell_type": "code",
   "source": [
    "from typing import List, Tuple\n",
    "import sqlite3\n",
    "\n",
    "def get_table_columns(db_cursor: sqlite3.Cursor, table_name: str) -> List[Tuple[str, str]]:\n",
    "    \"\"\"Returns a list of tuples containing the column name and data type of given table in a database.\"\"\"\n",
    "    \n",
    "    return list(map(\n",
    "        lambda x: (x[1], x[2]),\n",
    "        db_cursor.execute(f\"\"\"\n",
    "            PRAGMA\n",
    "                table_info({table_name});\n",
    "        \"\"\").fetchall(),\n",
    "    ))\n",
    "\n",
    "def delete_duplicates(db_cursor: sqlite3.Cursor, table_name: str, column_name: str) -> None:\n",
    "    \"\"\"Deletes duplicates from a given table column in a database.\"\"\"\n",
    "    \n",
    "    db_cursor.execute(f\"\"\"\n",
    "        DELETE FROM\n",
    "            {table_name}\n",
    "        WHERE\n",
    "            {column_name} IN (\n",
    "                SELECT\n",
    "                    {column_name}\n",
    "                FROM\n",
    "                    {table_name}\n",
    "                GROUP BY\n",
    "                    {column_name}\n",
    "                HAVING\n",
    "                    COUNT(*) > 1\n",
    "            );\n",
    "    \"\"\")\n",
    "\n",
    "def create_table_with_primary_key(db_cursor: sqlite3.Cursor, table_name: str, temporary_table_name: str, column_name: str) -> None:\n",
    "    \"\"\"Creates a table with a primary key in a database.\"\"\"\n",
    "    \n",
    "    table_columns = get_table_columns(db_cursor, table_name)\n",
    "    \n",
    "    db_cursor.execute(f\"\"\"\n",
    "        CREATE TABLE {temporary_table_name} (\n",
    "            {\n",
    "                ', '.join(\n",
    "                    f'{column} {data_type}'\n",
    "                    if column != column_name\n",
    "                    else f'{column} {data_type} PRIMARY KEY'\n",
    "                    for column, data_type in table_columns\n",
    "                )\n",
    "            }\n",
    "        );\n",
    "    \"\"\")\n",
    "    \n",
    "def move_data_and_switch_tables(db_cursor: sqlite3.Cursor, table_name: str, temporary_table_name: str) -> None:\n",
    "    \"\"\"Moves data from a temporary table to the original table and switches the tables in a database.\"\"\"\n",
    "    \n",
    "    db_cursor.executescript(f\"\"\"\n",
    "        -- Move the data\n",
    "        INSERT INTO\n",
    "            {temporary_table_name}\n",
    "        SELECT\n",
    "            *\n",
    "        FROM\n",
    "            {table_name};\n",
    "        \n",
    "        -- Drop the old table\n",
    "        DROP TABLE\n",
    "            {table_name};\n",
    "        \n",
    "        -- Rename the new table\n",
    "        ALTER TABLE\n",
    "            {temporary_table_name}\n",
    "        RENAME TO\n",
    "            {table_name};\n",
    "    \"\"\")\n",
    "\n",
    "def add_primary_key(db_cursor: sqlite3.Cursor, table_name: str, column_name: str) -> None:\n",
    "    \"\"\"Adds a primary key to a given table column in a database.\"\"\"\n",
    "    temporary_table_name = f'{table_name}_'\n",
    "    \n",
    "    delete_duplicates(db_cursor, table_name, column_name)\n",
    "    create_table_with_primary_key(db_cursor, table_name, temporary_table_name, column_name)\n",
    "    move_data_and_switch_tables(db_cursor, table_name, temporary_table_name)\n",
    "\n",
    "def create_table_with_foreign_key(db_cursor: sqlite3.Cursor, table_name: str, column_name: str, foreign_table_name: str, foreign_column_name: str, temporary_foreign_table_name: str) -> None:\n",
    "    \"\"\"Creates a table with a foreign key in a database.\"\"\"\n",
    "\n",
    "    foreign_table_columns = get_table_columns(db_cursor, foreign_table_name)\n",
    "    \n",
    "    db_cursor.execute(f\"\"\"\n",
    "        CREATE TABLE {temporary_foreign_table_name} (\n",
    "            {\n",
    "            ', '.join(\n",
    "                f'{column} {data_type}'\n",
    "                for column, data_type in foreign_table_columns\n",
    "            )\n",
    "            },\n",
    "            CONSTRAINT fk_{foreign_table_name}_{foreign_column_name}\n",
    "                FOREIGN KEY\n",
    "                    ({foreign_column_name})\n",
    "                REFERENCES\n",
    "                    {table_name} ({column_name})\n",
    "        );\n",
    "    \"\"\")\n",
    "\n",
    "def add_foreign_key(db_cursor: sqlite3.Cursor, table_name: str, column_name: str, foreign_table_name: str, foreign_column_name: str) -> None:\n",
    "    \"\"\"Adds a foreign key to a given table column in a database.\"\"\"\n",
    "\n",
    "    temporary_foreign_table_name = f'{foreign_table_name}_'\n",
    "        \n",
    "    db_cursor.execute(f\"\"\"\n",
    "        PRAGMA\n",
    "            foreign_keys = OFF;\n",
    "    \"\"\")\n",
    "    \n",
    "    create_table_with_foreign_key(db_cursor, table_name, column_name, foreign_table_name, foreign_column_name, temporary_foreign_table_name)\n",
    "    move_data_and_switch_tables(db_cursor, foreign_table_name, temporary_foreign_table_name)\n",
    "\n",
    "    db_cursor.execute(f\"\"\"\n",
    "        PRAGMA\n",
    "            foreign_keys = ON;\n",
    "    \"\"\")"
   ],
   "id": "d79992ed27020211",
   "outputs": [],
   "execution_count": 22
  },
  {
   "metadata": {
    "ExecuteTime": {
     "end_time": "2024-06-12T22:32:43.182643Z",
     "start_time": "2024-06-12T22:32:42.471688Z"
    }
   },
   "cell_type": "code",
   "source": [
    "with sqlite3.connect(database_path) as conn:\n",
    "    cursor = conn.cursor()\n",
    "\n",
    "    cursor.execute(f\"\"\"BEGIN;\"\"\")\n",
    "    try:\n",
    "        add_primary_key(cursor, 'reviews', 'reviewid')\n",
    "\n",
    "        add_foreign_key(cursor, 'reviews', 'reviewid', 'artists', 'reviewid')\n",
    "        add_foreign_key(cursor, 'reviews', 'reviewid', 'content', 'reviewid')\n",
    "        add_foreign_key(cursor, 'reviews', 'reviewid', 'genres', 'reviewid')\n",
    "        add_foreign_key(cursor, 'reviews', 'reviewid', 'labels', 'reviewid')\n",
    "        add_foreign_key(cursor, 'reviews', 'reviewid', 'years', 'reviewid')\n",
    "    except Exception as error:\n",
    "        conn.rollback()\n",
    "        raise error\n",
    "    else:\n",
    "        conn.commit()"
   ],
   "id": "38fd4ac028fe0b1f",
   "outputs": [],
   "execution_count": 23
  },
  {
   "metadata": {},
   "cell_type": "markdown",
   "source": "![ERD Diagram for the database schema](docs/images/database_erd.png)",
   "id": "f6ce43c594a432f"
  },
  {
   "metadata": {
    "ExecuteTime": {
     "end_time": "2024-06-12T22:32:43.190513Z",
     "start_time": "2024-06-12T22:32:43.182643Z"
    }
   },
   "cell_type": "code",
   "source": [
    "from magn.database.sqlite3 import get_table_names\n",
    "\n",
    "all_tables = get_table_names(database_path)\n",
    "\n",
    "all_tables"
   ],
   "id": "b4c96aa4268533ef",
   "outputs": [
    {
     "data": {
      "text/plain": [
       "['reviews', 'artists', 'content', 'genres', 'labels', 'years']"
      ]
     },
     "execution_count": 24,
     "metadata": {},
     "output_type": "execute_result"
    }
   ],
   "execution_count": 24
  },
  {
   "metadata": {
    "ExecuteTime": {
     "end_time": "2024-06-12T22:32:43.204165Z",
     "start_time": "2024-06-12T22:32:43.191517Z"
    }
   },
   "cell_type": "code",
   "source": [
    "from magn.database.sqlite3 import SQLite3KeysReader\n",
    "\n",
    "keys_reader = SQLite3KeysReader(database_path, all_tables)\n",
    "keys_reader.read()"
   ],
   "id": "850b84268716c77",
   "outputs": [
    {
     "data": {
      "text/plain": [
       "{'reviews': Keys(primary_keys=['reviewid'], foreign_keys={}),\n",
       " 'artists': Keys(primary_keys=[], foreign_keys={'reviews': ('reviewid', 'reviewid')}),\n",
       " 'content': Keys(primary_keys=[], foreign_keys={'reviews': ('reviewid', 'reviewid')}),\n",
       " 'genres': Keys(primary_keys=[], foreign_keys={'reviews': ('reviewid', 'reviewid')}),\n",
       " 'labels': Keys(primary_keys=[], foreign_keys={'reviews': ('reviewid', 'reviewid')}),\n",
       " 'years': Keys(primary_keys=[], foreign_keys={'reviews': ('reviewid', 'reviewid')})}"
      ]
     },
     "execution_count": 25,
     "metadata": {},
     "output_type": "execute_result"
    }
   ],
   "execution_count": 25
  },
  {
   "metadata": {
    "ExecuteTime": {
     "end_time": "2024-06-12T22:32:43.498523Z",
     "start_time": "2024-06-12T22:32:43.205176Z"
    }
   },
   "cell_type": "code",
   "source": [
    "from magn.database.sqlite3 import SQLite3DataReader\n",
    "\n",
    "data_reader = SQLite3DataReader(database_path, all_tables, keys_reader.read())\n",
    "data_reader.read()"
   ],
   "id": "e5bb74773fbe6fc6",
   "outputs": [
    {
     "data": {
      "text/plain": [
       "{'reviews':                                                       title           artist  \\\n",
       " reviewid                                                                       \n",
       " 1                                             young forever        aberfeldy   \n",
       " 6                                      pure tone audiometry         aarktica   \n",
       " 7         or you could just go through your whole life a...         aarktica   \n",
       " 8                                            bleeding light         aarktica   \n",
       " 10                                                     abcs             abcs   \n",
       " ...                                                     ...              ...   \n",
       " 22721                                          prelapsarian         krallice   \n",
       " 22722         insecure (music from the hbo original series)  various artists   \n",
       " 22724                          filthy america its beautiful          the lox   \n",
       " 22725                                             new start             taso   \n",
       " 22745                                      run the jewels 3   run the jewels   \n",
       " \n",
       "                                                         url  score  \\\n",
       " reviewid                                                             \n",
       " 1         http://pitchfork.com/reviews/albums/1-young-fo...    3.4   \n",
       " 6         http://pitchfork.com/reviews/albums/6-pure-ton...    7.4   \n",
       " 7         http://pitchfork.com/reviews/albums/7-or-you-c...    8.1   \n",
       " 8         http://pitchfork.com/reviews/albums/8-bleeding...    7.2   \n",
       " 10             http://pitchfork.com/reviews/albums/10-abcs/    8.0   \n",
       " ...                                                     ...    ...   \n",
       " 22721     http://pitchfork.com/reviews/albums/22721-prel...    7.9   \n",
       " 22722     http://pitchfork.com/reviews/albums/22722-inse...    7.4   \n",
       " 22724     http://pitchfork.com/reviews/albums/22724-filt...    5.3   \n",
       " 22725     http://pitchfork.com/reviews/albums/22725-new-...    8.1   \n",
       " 22745     http://pitchfork.com/reviews/albums/22745-run-...    8.6   \n",
       " \n",
       "           best_new_music              author             author_type  \\\n",
       " reviewid                                                               \n",
       " 1                      0          marc hogan     senior staff writer   \n",
       " 6                      0           eric carr             contributor   \n",
       " 7                      0    christopher dare                    None   \n",
       " 8                      0             sam ubl                    None   \n",
       " 10                     0   michael bernstein                    None   \n",
       " ...                  ...                 ...                     ...   \n",
       " 22721                  0            zoe camp             contributor   \n",
       " 22722                  0  vanessa okoth-obbo             contributor   \n",
       " 22724                  0           ian cohen             contributor   \n",
       " 22725                  0        kevin lozano      tracks coordinator   \n",
       " 22745                  1      sheldon pearce  associate staff writer   \n",
       " \n",
       "             pub_date  pub_weekday  pub_day  pub_month  pub_year  \n",
       " reviewid                                                         \n",
       " 1         2004-08-30            0       30          8      2004  \n",
       " 6         2003-04-08            1        8          4      2003  \n",
       " 7         2002-05-16            3       16          5      2002  \n",
       " 8         2005-02-06            6        6          2      2005  \n",
       " 10        2002-05-07            1        7          5      2002  \n",
       " ...              ...          ...      ...        ...       ...  \n",
       " 22721     2017-01-07            5        7          1      2017  \n",
       " 22722     2017-01-05            3        5          1      2017  \n",
       " 22724     2017-01-04            2        4          1      2017  \n",
       " 22725     2017-01-06            4        6          1      2017  \n",
       " 22745     2017-01-03            1        3          1      2017  \n",
       " \n",
       " [18385 rows x 12 columns],\n",
       " 'artists':                   artist\n",
       " reviewid                \n",
       " 22703     massive attack\n",
       " 22721           krallice\n",
       " 22659       uranium club\n",
       " 22661            kleenex\n",
       " 22661            liliput\n",
       " ...                  ...\n",
       " 1535             coldcut\n",
       " 1341             cassius\n",
       " 5376            mojave 3\n",
       " 2413       don caballero\n",
       " 3723      neil hamburger\n",
       " \n",
       " [18831 rows x 1 columns],\n",
       " 'content':                                                     content\n",
       " reviewid                                                   \n",
       " 22703     “Trip-hop” eventually became a ’90s punchline,...\n",
       " 22721     Eight years, five albums, and two EPs in, the ...\n",
       " 22659     Minneapolis’ Uranium Club seem to revel in bei...\n",
       " 22661     Kleenex began with a crash. It transpired one ...\n",
       " 22725     It is impossible to consider a given release b...\n",
       " ...                                                     ...\n",
       " 1535      The marketing guys of yer average modern megac...\n",
       " 1341      Well, it's been two weeks now, and I guess it'...\n",
       " 5376      Out of Tune is a Steve Martin album.  Yes, I'l...\n",
       " 2413      Well, kids, I just went back and re-read my re...\n",
       " 3723      Neil Hamburger's third comedy release is a des...\n",
       " \n",
       " [18393 rows x 1 columns],\n",
       " 'genres':                  genre\n",
       " reviewid              \n",
       " 22703       electronic\n",
       " 22721            metal\n",
       " 22659             rock\n",
       " 22661             rock\n",
       " 22725       electronic\n",
       " ...                ...\n",
       " 5376              rock\n",
       " 2413              rock\n",
       " 2413             metal\n",
       " 2413      experimental\n",
       " 3723              None\n",
       " \n",
       " [22680 rows x 1 columns],\n",
       " 'labels':                        label\n",
       " reviewid                    \n",
       " 22703                 virgin\n",
       " 22721              hathenter\n",
       " 22659           static shock\n",
       " 22659     fashionable idiots\n",
       " 22661        kill rock stars\n",
       " ...                      ...\n",
       " 1535              ninja tune\n",
       " 1341             astralwerks\n",
       " 5376                     4ad\n",
       " 2413            touch and go\n",
       " 3723               drag city\n",
       " \n",
       " [20190 rows x 1 columns],\n",
       " 'years':             year\n",
       " reviewid        \n",
       " 22703     1998.0\n",
       " 22721     2016.0\n",
       " 22659     2016.0\n",
       " 22661     2016.0\n",
       " 22725     2016.0\n",
       " ...          ...\n",
       " 1535         NaN\n",
       " 1341         NaN\n",
       " 5376         NaN\n",
       " 2413      1999.0\n",
       " 3723         NaN\n",
       " \n",
       " [19108 rows x 1 columns]}"
      ]
     },
     "execution_count": 26,
     "metadata": {},
     "output_type": "execute_result"
    }
   ],
   "execution_count": 26
  },
  {
   "metadata": {
    "ExecuteTime": {
     "end_time": "2024-06-12T22:32:43.796402Z",
     "start_time": "2024-06-12T22:32:43.499534Z"
    }
   },
   "cell_type": "code",
   "source": [
    "dfs = data_reader.read()\n",
    "\n",
    "dfs[0]"
   ],
   "id": "8f3992a59d4f64a8",
   "outputs": [
    {
     "ename": "KeyError",
     "evalue": "0",
     "output_type": "error",
     "traceback": [
      "\u001B[1;31m---------------------------------------------------------------------------\u001B[0m",
      "\u001B[1;31mKeyError\u001B[0m                                  Traceback (most recent call last)",
      "Cell \u001B[1;32mIn[27], line 3\u001B[0m\n\u001B[0;32m      1\u001B[0m dfs \u001B[38;5;241m=\u001B[39m data_reader\u001B[38;5;241m.\u001B[39mread()\n\u001B[1;32m----> 3\u001B[0m \u001B[43mdfs\u001B[49m\u001B[43m[\u001B[49m\u001B[38;5;241;43m0\u001B[39;49m\u001B[43m]\u001B[49m\n",
      "\u001B[1;31mKeyError\u001B[0m: 0"
     ]
    }
   ],
   "execution_count": 27
  },
  {
   "metadata": {},
   "cell_type": "code",
   "source": "dfs[1]",
   "id": "e6437831a5df6514",
   "outputs": [],
   "execution_count": null
  },
  {
   "metadata": {},
   "cell_type": "code",
   "source": [
    "from magn.database.database import Database\n",
    "\n",
    "dataframe_database = Database.from_sqlite3(database_path)"
   ],
   "id": "15ddf9dcad08b926",
   "outputs": [],
   "execution_count": null
  },
  {
   "cell_type": "code",
   "source": [
    "from magn.database.topological_sort import TopologicalSorter\n",
    "\n",
    "sort_data = {\n",
    "    '0': ['1'],\n",
    "    '1': ['2'],\n",
    "    '2': [],\n",
    "    '3': ['1', '2']\n",
    "}\n",
    "\n",
    "topological_sort = TopologicalSorter()\n",
    "for x in topological_sort.sort(sort_data):\n",
    "    print(x)"
   ],
   "metadata": {
    "collapsed": false
   },
   "id": "b5037ac456e301b2",
   "outputs": [],
   "execution_count": null
  },
  {
   "metadata": {},
   "cell_type": "code",
   "source": "",
   "id": "ec2c65ed8c718106",
   "outputs": [],
   "execution_count": null
  }
 ],
 "metadata": {
  "kernelspec": {
   "name": "gigsn",
   "language": "python",
   "display_name": "GiGSN"
  },
  "language_info": {
   "codemirror_mode": {
    "name": "ipython",
    "version": 2
   },
   "file_extension": ".py",
   "mimetype": "text/x-python",
   "name": "python",
   "nbconvert_exporter": "python",
   "pygments_lexer": "ipython2",
   "version": "2.7.6"
  }
 },
 "nbformat": 4,
 "nbformat_minor": 5
}
